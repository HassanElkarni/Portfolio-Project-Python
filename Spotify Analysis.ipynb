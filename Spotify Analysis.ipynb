{
 "cells": [
  {
   "cell_type": "markdown",
   "id": "e08d13ce",
   "metadata": {
    "papermill": {
     "duration": 0.009226,
     "end_time": "2024-03-25T17:13:05.493355",
     "exception": false,
     "start_time": "2024-03-25T17:13:05.484129",
     "status": "completed"
    },
    "tags": []
   },
   "source": [
    "# <div style = 'background-color:green'> <center> Spotify Analysis </div>"
   ]
  },
  {
   "cell_type": "markdown",
   "id": "bd4725a9",
   "metadata": {
    "papermill": {
     "duration": 0.007449,
     "end_time": "2024-03-25T17:13:05.509061",
     "exception": false,
     "start_time": "2024-03-25T17:13:05.501612",
     "status": "completed"
    },
    "tags": []
   },
   "source": [
    "\n",
    "<center>\n",
    "<img src=\"https://www.emubands.com/wp-content/uploads/2023/02/folder_920_201707260845-1.png\" width=500>\n",
    "</center>"
   ]
  },
  {
   "cell_type": "code",
   "execution_count": 1,
   "id": "ef78f248",
   "metadata": {
    "execution": {
     "iopub.execute_input": "2024-03-25T17:13:05.527734Z",
     "iopub.status.busy": "2024-03-25T17:13:05.526920Z",
     "iopub.status.idle": "2024-03-25T17:13:08.714801Z",
     "shell.execute_reply": "2024-03-25T17:13:08.713548Z"
    },
    "papermill": {
     "duration": 3.200576,
     "end_time": "2024-03-25T17:13:08.717624",
     "exception": false,
     "start_time": "2024-03-25T17:13:05.517048",
     "status": "completed"
    },
    "tags": []
   },
   "outputs": [],
   "source": [
    "# Importing libraries \n",
    "import numpy as np # linear algebra operations\n",
    "import pandas as pd # used for data preparation\n",
    "import plotly.express as px #used for data visualization\n",
    "import plotly.graph_objects as go\n",
    "import seaborn as sns \n",
    "import matplotlib as plt "
   ]
  },
  {
   "cell_type": "code",
   "execution_count": 2,
   "id": "9a1d5954",
   "metadata": {
    "execution": {
     "iopub.execute_input": "2024-03-25T17:13:08.736080Z",
     "iopub.status.busy": "2024-03-25T17:13:08.735328Z",
     "iopub.status.idle": "2024-03-25T17:13:08.764850Z",
     "shell.execute_reply": "2024-03-25T17:13:08.763736Z"
    },
    "papermill": {
     "duration": 0.041999,
     "end_time": "2024-03-25T17:13:08.767742",
     "exception": false,
     "start_time": "2024-03-25T17:13:08.725743",
     "status": "completed"
    },
    "tags": []
   },
   "outputs": [],
   "source": [
    "# Getting the data set\n",
    "sp = pd.read_csv('/kaggle/input/top-spotify-songs-2023/spotify-2023.csv',encoding='latin-1')"
   ]
  },
  {
   "cell_type": "code",
   "execution_count": 3,
   "id": "b08159e1",
   "metadata": {
    "execution": {
     "iopub.execute_input": "2024-03-25T17:13:08.787185Z",
     "iopub.status.busy": "2024-03-25T17:13:08.786421Z",
     "iopub.status.idle": "2024-03-25T17:13:08.825584Z",
     "shell.execute_reply": "2024-03-25T17:13:08.824168Z"
    },
    "papermill": {
     "duration": 0.052673,
     "end_time": "2024-03-25T17:13:08.829056",
     "exception": false,
     "start_time": "2024-03-25T17:13:08.776383",
     "status": "completed"
    },
    "tags": []
   },
   "outputs": [
    {
     "data": {
      "text/html": [
       "<div>\n",
       "<style scoped>\n",
       "    .dataframe tbody tr th:only-of-type {\n",
       "        vertical-align: middle;\n",
       "    }\n",
       "\n",
       "    .dataframe tbody tr th {\n",
       "        vertical-align: top;\n",
       "    }\n",
       "\n",
       "    .dataframe thead th {\n",
       "        text-align: right;\n",
       "    }\n",
       "</style>\n",
       "<table border=\"1\" class=\"dataframe\">\n",
       "  <thead>\n",
       "    <tr style=\"text-align: right;\">\n",
       "      <th></th>\n",
       "      <th>track_name</th>\n",
       "      <th>artist(s)_name</th>\n",
       "      <th>artist_count</th>\n",
       "      <th>released_year</th>\n",
       "      <th>released_month</th>\n",
       "      <th>released_day</th>\n",
       "      <th>in_spotify_playlists</th>\n",
       "      <th>in_spotify_charts</th>\n",
       "      <th>streams</th>\n",
       "      <th>in_apple_playlists</th>\n",
       "      <th>...</th>\n",
       "      <th>bpm</th>\n",
       "      <th>key</th>\n",
       "      <th>mode</th>\n",
       "      <th>danceability_%</th>\n",
       "      <th>valence_%</th>\n",
       "      <th>energy_%</th>\n",
       "      <th>acousticness_%</th>\n",
       "      <th>instrumentalness_%</th>\n",
       "      <th>liveness_%</th>\n",
       "      <th>speechiness_%</th>\n",
       "    </tr>\n",
       "  </thead>\n",
       "  <tbody>\n",
       "    <tr>\n",
       "      <th>0</th>\n",
       "      <td>Seven (feat. Latto) (Explicit Ver.)</td>\n",
       "      <td>Latto, Jung Kook</td>\n",
       "      <td>2</td>\n",
       "      <td>2023</td>\n",
       "      <td>7</td>\n",
       "      <td>14</td>\n",
       "      <td>553</td>\n",
       "      <td>147</td>\n",
       "      <td>141381703</td>\n",
       "      <td>43</td>\n",
       "      <td>...</td>\n",
       "      <td>125</td>\n",
       "      <td>B</td>\n",
       "      <td>Major</td>\n",
       "      <td>80</td>\n",
       "      <td>89</td>\n",
       "      <td>83</td>\n",
       "      <td>31</td>\n",
       "      <td>0</td>\n",
       "      <td>8</td>\n",
       "      <td>4</td>\n",
       "    </tr>\n",
       "    <tr>\n",
       "      <th>1</th>\n",
       "      <td>LALA</td>\n",
       "      <td>Myke Towers</td>\n",
       "      <td>1</td>\n",
       "      <td>2023</td>\n",
       "      <td>3</td>\n",
       "      <td>23</td>\n",
       "      <td>1474</td>\n",
       "      <td>48</td>\n",
       "      <td>133716286</td>\n",
       "      <td>48</td>\n",
       "      <td>...</td>\n",
       "      <td>92</td>\n",
       "      <td>C#</td>\n",
       "      <td>Major</td>\n",
       "      <td>71</td>\n",
       "      <td>61</td>\n",
       "      <td>74</td>\n",
       "      <td>7</td>\n",
       "      <td>0</td>\n",
       "      <td>10</td>\n",
       "      <td>4</td>\n",
       "    </tr>\n",
       "    <tr>\n",
       "      <th>2</th>\n",
       "      <td>vampire</td>\n",
       "      <td>Olivia Rodrigo</td>\n",
       "      <td>1</td>\n",
       "      <td>2023</td>\n",
       "      <td>6</td>\n",
       "      <td>30</td>\n",
       "      <td>1397</td>\n",
       "      <td>113</td>\n",
       "      <td>140003974</td>\n",
       "      <td>94</td>\n",
       "      <td>...</td>\n",
       "      <td>138</td>\n",
       "      <td>F</td>\n",
       "      <td>Major</td>\n",
       "      <td>51</td>\n",
       "      <td>32</td>\n",
       "      <td>53</td>\n",
       "      <td>17</td>\n",
       "      <td>0</td>\n",
       "      <td>31</td>\n",
       "      <td>6</td>\n",
       "    </tr>\n",
       "    <tr>\n",
       "      <th>3</th>\n",
       "      <td>Cruel Summer</td>\n",
       "      <td>Taylor Swift</td>\n",
       "      <td>1</td>\n",
       "      <td>2019</td>\n",
       "      <td>8</td>\n",
       "      <td>23</td>\n",
       "      <td>7858</td>\n",
       "      <td>100</td>\n",
       "      <td>800840817</td>\n",
       "      <td>116</td>\n",
       "      <td>...</td>\n",
       "      <td>170</td>\n",
       "      <td>A</td>\n",
       "      <td>Major</td>\n",
       "      <td>55</td>\n",
       "      <td>58</td>\n",
       "      <td>72</td>\n",
       "      <td>11</td>\n",
       "      <td>0</td>\n",
       "      <td>11</td>\n",
       "      <td>15</td>\n",
       "    </tr>\n",
       "    <tr>\n",
       "      <th>4</th>\n",
       "      <td>WHERE SHE GOES</td>\n",
       "      <td>Bad Bunny</td>\n",
       "      <td>1</td>\n",
       "      <td>2023</td>\n",
       "      <td>5</td>\n",
       "      <td>18</td>\n",
       "      <td>3133</td>\n",
       "      <td>50</td>\n",
       "      <td>303236322</td>\n",
       "      <td>84</td>\n",
       "      <td>...</td>\n",
       "      <td>144</td>\n",
       "      <td>A</td>\n",
       "      <td>Minor</td>\n",
       "      <td>65</td>\n",
       "      <td>23</td>\n",
       "      <td>80</td>\n",
       "      <td>14</td>\n",
       "      <td>63</td>\n",
       "      <td>11</td>\n",
       "      <td>6</td>\n",
       "    </tr>\n",
       "  </tbody>\n",
       "</table>\n",
       "<p>5 rows × 24 columns</p>\n",
       "</div>"
      ],
      "text/plain": [
       "                            track_name    artist(s)_name  artist_count  \\\n",
       "0  Seven (feat. Latto) (Explicit Ver.)  Latto, Jung Kook             2   \n",
       "1                                 LALA       Myke Towers             1   \n",
       "2                              vampire    Olivia Rodrigo             1   \n",
       "3                         Cruel Summer      Taylor Swift             1   \n",
       "4                       WHERE SHE GOES         Bad Bunny             1   \n",
       "\n",
       "   released_year  released_month  released_day  in_spotify_playlists  \\\n",
       "0           2023               7            14                   553   \n",
       "1           2023               3            23                  1474   \n",
       "2           2023               6            30                  1397   \n",
       "3           2019               8            23                  7858   \n",
       "4           2023               5            18                  3133   \n",
       "\n",
       "   in_spotify_charts    streams  in_apple_playlists  ...  bpm key   mode  \\\n",
       "0                147  141381703                  43  ...  125   B  Major   \n",
       "1                 48  133716286                  48  ...   92  C#  Major   \n",
       "2                113  140003974                  94  ...  138   F  Major   \n",
       "3                100  800840817                 116  ...  170   A  Major   \n",
       "4                 50  303236322                  84  ...  144   A  Minor   \n",
       "\n",
       "  danceability_%  valence_% energy_% acousticness_%  instrumentalness_%  \\\n",
       "0             80         89       83             31                   0   \n",
       "1             71         61       74              7                   0   \n",
       "2             51         32       53             17                   0   \n",
       "3             55         58       72             11                   0   \n",
       "4             65         23       80             14                  63   \n",
       "\n",
       "   liveness_%  speechiness_%  \n",
       "0           8              4  \n",
       "1          10              4  \n",
       "2          31              6  \n",
       "3          11             15  \n",
       "4          11              6  \n",
       "\n",
       "[5 rows x 24 columns]"
      ]
     },
     "execution_count": 3,
     "metadata": {},
     "output_type": "execute_result"
    }
   ],
   "source": [
    "sp.head()"
   ]
  },
  {
   "cell_type": "markdown",
   "id": "30badf25",
   "metadata": {
    "papermill": {
     "duration": 0.00928,
     "end_time": "2024-03-25T17:13:08.849459",
     "exception": false,
     "start_time": "2024-03-25T17:13:08.840179",
     "status": "completed"
    },
    "tags": []
   },
   "source": [
    "# Data Exploratory"
   ]
  },
  {
   "cell_type": "code",
   "execution_count": 4,
   "id": "1ee4aabb",
   "metadata": {
    "execution": {
     "iopub.execute_input": "2024-03-25T17:13:08.871054Z",
     "iopub.status.busy": "2024-03-25T17:13:08.870604Z",
     "iopub.status.idle": "2024-03-25T17:13:08.890422Z",
     "shell.execute_reply": "2024-03-25T17:13:08.889054Z"
    },
    "papermill": {
     "duration": 0.032567,
     "end_time": "2024-03-25T17:13:08.893205",
     "exception": false,
     "start_time": "2024-03-25T17:13:08.860638",
     "status": "completed"
    },
    "tags": []
   },
   "outputs": [
    {
     "data": {
      "text/html": [
       "<div>\n",
       "<style scoped>\n",
       "    .dataframe tbody tr th:only-of-type {\n",
       "        vertical-align: middle;\n",
       "    }\n",
       "\n",
       "    .dataframe tbody tr th {\n",
       "        vertical-align: top;\n",
       "    }\n",
       "\n",
       "    .dataframe thead th {\n",
       "        text-align: right;\n",
       "    }\n",
       "</style>\n",
       "<table border=\"1\" class=\"dataframe\">\n",
       "  <thead>\n",
       "    <tr style=\"text-align: right;\">\n",
       "      <th></th>\n",
       "      <th>track_name</th>\n",
       "      <th>artist(s)_name</th>\n",
       "      <th>artist_count</th>\n",
       "      <th>released_year</th>\n",
       "      <th>released_month</th>\n",
       "      <th>released_day</th>\n",
       "      <th>in_spotify_playlists</th>\n",
       "      <th>in_spotify_charts</th>\n",
       "      <th>streams</th>\n",
       "      <th>in_apple_playlists</th>\n",
       "      <th>...</th>\n",
       "      <th>bpm</th>\n",
       "      <th>key</th>\n",
       "      <th>mode</th>\n",
       "      <th>danceability_%</th>\n",
       "      <th>valence_%</th>\n",
       "      <th>energy_%</th>\n",
       "      <th>acousticness_%</th>\n",
       "      <th>instrumentalness_%</th>\n",
       "      <th>liveness_%</th>\n",
       "      <th>speechiness_%</th>\n",
       "    </tr>\n",
       "  </thead>\n",
       "  <tbody>\n",
       "    <tr>\n",
       "      <th>0</th>\n",
       "      <td>Seven (feat. Latto) (Explicit Ver.)</td>\n",
       "      <td>Latto, Jung Kook</td>\n",
       "      <td>2</td>\n",
       "      <td>2023</td>\n",
       "      <td>7</td>\n",
       "      <td>14</td>\n",
       "      <td>553</td>\n",
       "      <td>147</td>\n",
       "      <td>141381703</td>\n",
       "      <td>43</td>\n",
       "      <td>...</td>\n",
       "      <td>125</td>\n",
       "      <td>B</td>\n",
       "      <td>Major</td>\n",
       "      <td>80</td>\n",
       "      <td>89</td>\n",
       "      <td>83</td>\n",
       "      <td>31</td>\n",
       "      <td>0</td>\n",
       "      <td>8</td>\n",
       "      <td>4</td>\n",
       "    </tr>\n",
       "    <tr>\n",
       "      <th>1</th>\n",
       "      <td>LALA</td>\n",
       "      <td>Myke Towers</td>\n",
       "      <td>1</td>\n",
       "      <td>2023</td>\n",
       "      <td>3</td>\n",
       "      <td>23</td>\n",
       "      <td>1474</td>\n",
       "      <td>48</td>\n",
       "      <td>133716286</td>\n",
       "      <td>48</td>\n",
       "      <td>...</td>\n",
       "      <td>92</td>\n",
       "      <td>C#</td>\n",
       "      <td>Major</td>\n",
       "      <td>71</td>\n",
       "      <td>61</td>\n",
       "      <td>74</td>\n",
       "      <td>7</td>\n",
       "      <td>0</td>\n",
       "      <td>10</td>\n",
       "      <td>4</td>\n",
       "    </tr>\n",
       "  </tbody>\n",
       "</table>\n",
       "<p>2 rows × 24 columns</p>\n",
       "</div>"
      ],
      "text/plain": [
       "                            track_name    artist(s)_name  artist_count  \\\n",
       "0  Seven (feat. Latto) (Explicit Ver.)  Latto, Jung Kook             2   \n",
       "1                                 LALA       Myke Towers             1   \n",
       "\n",
       "   released_year  released_month  released_day  in_spotify_playlists  \\\n",
       "0           2023               7            14                   553   \n",
       "1           2023               3            23                  1474   \n",
       "\n",
       "   in_spotify_charts    streams  in_apple_playlists  ...  bpm key   mode  \\\n",
       "0                147  141381703                  43  ...  125   B  Major   \n",
       "1                 48  133716286                  48  ...   92  C#  Major   \n",
       "\n",
       "  danceability_%  valence_% energy_% acousticness_%  instrumentalness_%  \\\n",
       "0             80         89       83             31                   0   \n",
       "1             71         61       74              7                   0   \n",
       "\n",
       "   liveness_%  speechiness_%  \n",
       "0           8              4  \n",
       "1          10              4  \n",
       "\n",
       "[2 rows x 24 columns]"
      ]
     },
     "execution_count": 4,
     "metadata": {},
     "output_type": "execute_result"
    }
   ],
   "source": [
    "sp.head(2)"
   ]
  },
  {
   "cell_type": "code",
   "execution_count": 5,
   "id": "1fa4912a",
   "metadata": {
    "execution": {
     "iopub.execute_input": "2024-03-25T17:13:08.914651Z",
     "iopub.status.busy": "2024-03-25T17:13:08.914246Z",
     "iopub.status.idle": "2024-03-25T17:13:08.922243Z",
     "shell.execute_reply": "2024-03-25T17:13:08.920819Z"
    },
    "papermill": {
     "duration": 0.020787,
     "end_time": "2024-03-25T17:13:08.924786",
     "exception": false,
     "start_time": "2024-03-25T17:13:08.903999",
     "status": "completed"
    },
    "tags": []
   },
   "outputs": [
    {
     "data": {
      "text/plain": [
       "Index(['track_name', 'artist(s)_name', 'artist_count', 'released_year',\n",
       "       'released_month', 'released_day', 'in_spotify_playlists',\n",
       "       'in_spotify_charts', 'streams', 'in_apple_playlists', 'in_apple_charts',\n",
       "       'in_deezer_playlists', 'in_deezer_charts', 'in_shazam_charts', 'bpm',\n",
       "       'key', 'mode', 'danceability_%', 'valence_%', 'energy_%',\n",
       "       'acousticness_%', 'instrumentalness_%', 'liveness_%', 'speechiness_%'],\n",
       "      dtype='object')"
      ]
     },
     "execution_count": 5,
     "metadata": {},
     "output_type": "execute_result"
    }
   ],
   "source": [
    "# checking dataset columns\n",
    "sp.columns"
   ]
  },
  {
   "cell_type": "code",
   "execution_count": 6,
   "id": "7c9590a4",
   "metadata": {
    "execution": {
     "iopub.execute_input": "2024-03-25T17:13:08.945326Z",
     "iopub.status.busy": "2024-03-25T17:13:08.944930Z",
     "iopub.status.idle": "2024-03-25T17:13:08.951714Z",
     "shell.execute_reply": "2024-03-25T17:13:08.950379Z"
    },
    "papermill": {
     "duration": 0.020139,
     "end_time": "2024-03-25T17:13:08.954090",
     "exception": false,
     "start_time": "2024-03-25T17:13:08.933951",
     "status": "completed"
    },
    "tags": []
   },
   "outputs": [],
   "source": [
    "# Droping unecessary columns \n",
    "sp = sp.drop(columns =  ['in_apple_playlists','in_apple_charts','in_deezer_playlists','in_deezer_playlists','in_shazam_charts','in_deezer_charts'])"
   ]
  },
  {
   "cell_type": "code",
   "execution_count": 7,
   "id": "39f347f9",
   "metadata": {
    "execution": {
     "iopub.execute_input": "2024-03-25T17:13:08.974000Z",
     "iopub.status.busy": "2024-03-25T17:13:08.973518Z",
     "iopub.status.idle": "2024-03-25T17:13:09.000440Z",
     "shell.execute_reply": "2024-03-25T17:13:08.999452Z"
    },
    "papermill": {
     "duration": 0.040403,
     "end_time": "2024-03-25T17:13:09.003425",
     "exception": false,
     "start_time": "2024-03-25T17:13:08.963022",
     "status": "completed"
    },
    "tags": []
   },
   "outputs": [
    {
     "name": "stdout",
     "output_type": "stream",
     "text": [
      "<class 'pandas.core.frame.DataFrame'>\n",
      "RangeIndex: 953 entries, 0 to 952\n",
      "Data columns (total 19 columns):\n",
      " #   Column                Non-Null Count  Dtype \n",
      "---  ------                --------------  ----- \n",
      " 0   track_name            953 non-null    object\n",
      " 1   artist(s)_name        953 non-null    object\n",
      " 2   artist_count          953 non-null    int64 \n",
      " 3   released_year         953 non-null    int64 \n",
      " 4   released_month        953 non-null    int64 \n",
      " 5   released_day          953 non-null    int64 \n",
      " 6   in_spotify_playlists  953 non-null    int64 \n",
      " 7   in_spotify_charts     953 non-null    int64 \n",
      " 8   streams               953 non-null    object\n",
      " 9   bpm                   953 non-null    int64 \n",
      " 10  key                   858 non-null    object\n",
      " 11  mode                  953 non-null    object\n",
      " 12  danceability_%        953 non-null    int64 \n",
      " 13  valence_%             953 non-null    int64 \n",
      " 14  energy_%              953 non-null    int64 \n",
      " 15  acousticness_%        953 non-null    int64 \n",
      " 16  instrumentalness_%    953 non-null    int64 \n",
      " 17  liveness_%            953 non-null    int64 \n",
      " 18  speechiness_%         953 non-null    int64 \n",
      "dtypes: int64(14), object(5)\n",
      "memory usage: 141.6+ KB\n"
     ]
    }
   ],
   "source": [
    "# checking for null values and data type \n",
    "sp.info()"
   ]
  },
  {
   "cell_type": "code",
   "execution_count": 8,
   "id": "88633bc5",
   "metadata": {
    "execution": {
     "iopub.execute_input": "2024-03-25T17:13:09.029864Z",
     "iopub.status.busy": "2024-03-25T17:13:09.028029Z",
     "iopub.status.idle": "2024-03-25T17:13:09.042719Z",
     "shell.execute_reply": "2024-03-25T17:13:09.041673Z"
    },
    "papermill": {
     "duration": 0.032599,
     "end_time": "2024-03-25T17:13:09.045546",
     "exception": false,
     "start_time": "2024-03-25T17:13:09.012947",
     "status": "completed"
    },
    "tags": []
   },
   "outputs": [
    {
     "data": {
      "text/plain": [
       "track_name                            Love Grows (Where My Rosemary Goes)\n",
       "artist(s)_name                                          Edison Lighthouse\n",
       "artist_count                                                            1\n",
       "released_year                                                        1970\n",
       "released_month                                                          1\n",
       "released_day                                                            1\n",
       "in_spotify_playlists                                                 2877\n",
       "in_spotify_charts                                                       0\n",
       "streams                 BPM110KeyAModeMajorDanceability53Valence75Ener...\n",
       "bpm                                                                   110\n",
       "key                                                                     A\n",
       "mode                                                                Major\n",
       "danceability_%                                                         53\n",
       "valence_%                                                              75\n",
       "energy_%                                                               69\n",
       "acousticness_%                                                          7\n",
       "instrumentalness_%                                                      0\n",
       "liveness_%                                                             17\n",
       "speechiness_%                                                           3\n",
       "Name: 574, dtype: object"
      ]
     },
     "execution_count": 8,
     "metadata": {},
     "output_type": "execute_result"
    }
   ],
   "source": [
    "# check for rows \n",
    "sp.iloc[574]"
   ]
  },
  {
   "cell_type": "code",
   "execution_count": 9,
   "id": "813664f7",
   "metadata": {
    "execution": {
     "iopub.execute_input": "2024-03-25T17:13:09.074037Z",
     "iopub.status.busy": "2024-03-25T17:13:09.072978Z",
     "iopub.status.idle": "2024-03-25T17:13:09.083489Z",
     "shell.execute_reply": "2024-03-25T17:13:09.082428Z"
    },
    "papermill": {
     "duration": 0.028114,
     "end_time": "2024-03-25T17:13:09.086758",
     "exception": false,
     "start_time": "2024-03-25T17:13:09.058644",
     "status": "completed"
    },
    "tags": []
   },
   "outputs": [],
   "source": [
    "# drop rows (574) \n",
    "sp = sp.drop(sp.iloc[[574]].index)"
   ]
  },
  {
   "cell_type": "code",
   "execution_count": 10,
   "id": "692f29f4",
   "metadata": {
    "execution": {
     "iopub.execute_input": "2024-03-25T17:13:09.114302Z",
     "iopub.status.busy": "2024-03-25T17:13:09.113436Z",
     "iopub.status.idle": "2024-03-25T17:13:09.120155Z",
     "shell.execute_reply": "2024-03-25T17:13:09.119211Z"
    },
    "papermill": {
     "duration": 0.025137,
     "end_time": "2024-03-25T17:13:09.122765",
     "exception": false,
     "start_time": "2024-03-25T17:13:09.097628",
     "status": "completed"
    },
    "tags": []
   },
   "outputs": [],
   "source": [
    "# changing streams columns data type to integer \n",
    "sp['streams'] = sp['streams'].astype(int)"
   ]
  },
  {
   "cell_type": "code",
   "execution_count": 11,
   "id": "78d66923",
   "metadata": {
    "execution": {
     "iopub.execute_input": "2024-03-25T17:13:09.144446Z",
     "iopub.status.busy": "2024-03-25T17:13:09.143572Z",
     "iopub.status.idle": "2024-03-25T17:13:09.166240Z",
     "shell.execute_reply": "2024-03-25T17:13:09.165077Z"
    },
    "papermill": {
     "duration": 0.036289,
     "end_time": "2024-03-25T17:13:09.168602",
     "exception": false,
     "start_time": "2024-03-25T17:13:09.132313",
     "status": "completed"
    },
    "tags": []
   },
   "outputs": [
    {
     "data": {
      "text/html": [
       "<div>\n",
       "<style scoped>\n",
       "    .dataframe tbody tr th:only-of-type {\n",
       "        vertical-align: middle;\n",
       "    }\n",
       "\n",
       "    .dataframe tbody tr th {\n",
       "        vertical-align: top;\n",
       "    }\n",
       "\n",
       "    .dataframe thead th {\n",
       "        text-align: right;\n",
       "    }\n",
       "</style>\n",
       "<table border=\"1\" class=\"dataframe\">\n",
       "  <thead>\n",
       "    <tr style=\"text-align: right;\">\n",
       "      <th></th>\n",
       "      <th>track_name</th>\n",
       "      <th>artist(s)_name</th>\n",
       "      <th>artist_count</th>\n",
       "      <th>released_year</th>\n",
       "      <th>released_month</th>\n",
       "      <th>released_day</th>\n",
       "      <th>in_spotify_playlists</th>\n",
       "      <th>in_spotify_charts</th>\n",
       "      <th>streams</th>\n",
       "      <th>bpm</th>\n",
       "      <th>key</th>\n",
       "      <th>mode</th>\n",
       "      <th>danceability_%</th>\n",
       "      <th>valence_%</th>\n",
       "      <th>energy_%</th>\n",
       "      <th>acousticness_%</th>\n",
       "      <th>instrumentalness_%</th>\n",
       "      <th>liveness_%</th>\n",
       "      <th>speechiness_%</th>\n",
       "      <th>streams_in_millions</th>\n",
       "    </tr>\n",
       "  </thead>\n",
       "  <tbody>\n",
       "    <tr>\n",
       "      <th>0</th>\n",
       "      <td>Seven (feat. Latto) (Explicit Ver.)</td>\n",
       "      <td>Latto, Jung Kook</td>\n",
       "      <td>2</td>\n",
       "      <td>2023</td>\n",
       "      <td>7</td>\n",
       "      <td>14</td>\n",
       "      <td>553</td>\n",
       "      <td>147</td>\n",
       "      <td>141381703</td>\n",
       "      <td>125</td>\n",
       "      <td>B</td>\n",
       "      <td>Major</td>\n",
       "      <td>80</td>\n",
       "      <td>89</td>\n",
       "      <td>83</td>\n",
       "      <td>31</td>\n",
       "      <td>0</td>\n",
       "      <td>8</td>\n",
       "      <td>4</td>\n",
       "      <td>141.38</td>\n",
       "    </tr>\n",
       "    <tr>\n",
       "      <th>1</th>\n",
       "      <td>LALA</td>\n",
       "      <td>Myke Towers</td>\n",
       "      <td>1</td>\n",
       "      <td>2023</td>\n",
       "      <td>3</td>\n",
       "      <td>23</td>\n",
       "      <td>1474</td>\n",
       "      <td>48</td>\n",
       "      <td>133716286</td>\n",
       "      <td>92</td>\n",
       "      <td>C#</td>\n",
       "      <td>Major</td>\n",
       "      <td>71</td>\n",
       "      <td>61</td>\n",
       "      <td>74</td>\n",
       "      <td>7</td>\n",
       "      <td>0</td>\n",
       "      <td>10</td>\n",
       "      <td>4</td>\n",
       "      <td>133.72</td>\n",
       "    </tr>\n",
       "    <tr>\n",
       "      <th>2</th>\n",
       "      <td>vampire</td>\n",
       "      <td>Olivia Rodrigo</td>\n",
       "      <td>1</td>\n",
       "      <td>2023</td>\n",
       "      <td>6</td>\n",
       "      <td>30</td>\n",
       "      <td>1397</td>\n",
       "      <td>113</td>\n",
       "      <td>140003974</td>\n",
       "      <td>138</td>\n",
       "      <td>F</td>\n",
       "      <td>Major</td>\n",
       "      <td>51</td>\n",
       "      <td>32</td>\n",
       "      <td>53</td>\n",
       "      <td>17</td>\n",
       "      <td>0</td>\n",
       "      <td>31</td>\n",
       "      <td>6</td>\n",
       "      <td>140.00</td>\n",
       "    </tr>\n",
       "    <tr>\n",
       "      <th>3</th>\n",
       "      <td>Cruel Summer</td>\n",
       "      <td>Taylor Swift</td>\n",
       "      <td>1</td>\n",
       "      <td>2019</td>\n",
       "      <td>8</td>\n",
       "      <td>23</td>\n",
       "      <td>7858</td>\n",
       "      <td>100</td>\n",
       "      <td>800840817</td>\n",
       "      <td>170</td>\n",
       "      <td>A</td>\n",
       "      <td>Major</td>\n",
       "      <td>55</td>\n",
       "      <td>58</td>\n",
       "      <td>72</td>\n",
       "      <td>11</td>\n",
       "      <td>0</td>\n",
       "      <td>11</td>\n",
       "      <td>15</td>\n",
       "      <td>800.84</td>\n",
       "    </tr>\n",
       "    <tr>\n",
       "      <th>4</th>\n",
       "      <td>WHERE SHE GOES</td>\n",
       "      <td>Bad Bunny</td>\n",
       "      <td>1</td>\n",
       "      <td>2023</td>\n",
       "      <td>5</td>\n",
       "      <td>18</td>\n",
       "      <td>3133</td>\n",
       "      <td>50</td>\n",
       "      <td>303236322</td>\n",
       "      <td>144</td>\n",
       "      <td>A</td>\n",
       "      <td>Minor</td>\n",
       "      <td>65</td>\n",
       "      <td>23</td>\n",
       "      <td>80</td>\n",
       "      <td>14</td>\n",
       "      <td>63</td>\n",
       "      <td>11</td>\n",
       "      <td>6</td>\n",
       "      <td>303.24</td>\n",
       "    </tr>\n",
       "  </tbody>\n",
       "</table>\n",
       "</div>"
      ],
      "text/plain": [
       "                            track_name    artist(s)_name  artist_count  \\\n",
       "0  Seven (feat. Latto) (Explicit Ver.)  Latto, Jung Kook             2   \n",
       "1                                 LALA       Myke Towers             1   \n",
       "2                              vampire    Olivia Rodrigo             1   \n",
       "3                         Cruel Summer      Taylor Swift             1   \n",
       "4                       WHERE SHE GOES         Bad Bunny             1   \n",
       "\n",
       "   released_year  released_month  released_day  in_spotify_playlists  \\\n",
       "0           2023               7            14                   553   \n",
       "1           2023               3            23                  1474   \n",
       "2           2023               6            30                  1397   \n",
       "3           2019               8            23                  7858   \n",
       "4           2023               5            18                  3133   \n",
       "\n",
       "   in_spotify_charts    streams  bpm key   mode  danceability_%  valence_%  \\\n",
       "0                147  141381703  125   B  Major              80         89   \n",
       "1                 48  133716286   92  C#  Major              71         61   \n",
       "2                113  140003974  138   F  Major              51         32   \n",
       "3                100  800840817  170   A  Major              55         58   \n",
       "4                 50  303236322  144   A  Minor              65         23   \n",
       "\n",
       "   energy_%  acousticness_%  instrumentalness_%  liveness_%  speechiness_%  \\\n",
       "0        83              31                   0           8              4   \n",
       "1        74               7                   0          10              4   \n",
       "2        53              17                   0          31              6   \n",
       "3        72              11                   0          11             15   \n",
       "4        80              14                  63          11              6   \n",
       "\n",
       "   streams_in_millions  \n",
       "0               141.38  \n",
       "1               133.72  \n",
       "2               140.00  \n",
       "3               800.84  \n",
       "4               303.24  "
      ]
     },
     "execution_count": 11,
     "metadata": {},
     "output_type": "execute_result"
    }
   ],
   "source": [
    "# adding new columns with streams in million \n",
    "sp['streams_in_millions'] = sp['streams'].apply(lambda x: x / 1000000).round(2)\n",
    "sp.head()"
   ]
  },
  {
   "cell_type": "code",
   "execution_count": 12,
   "id": "e5fd1351",
   "metadata": {
    "execution": {
     "iopub.execute_input": "2024-03-25T17:13:09.190085Z",
     "iopub.status.busy": "2024-03-25T17:13:09.189569Z",
     "iopub.status.idle": "2024-03-25T17:13:09.202405Z",
     "shell.execute_reply": "2024-03-25T17:13:09.201137Z"
    },
    "papermill": {
     "duration": 0.026666,
     "end_time": "2024-03-25T17:13:09.204753",
     "exception": false,
     "start_time": "2024-03-25T17:13:09.178087",
     "status": "completed"
    },
    "tags": []
   },
   "outputs": [
    {
     "data": {
      "text/plain": [
       "0"
      ]
     },
     "execution_count": 12,
     "metadata": {},
     "output_type": "execute_result"
    }
   ],
   "source": [
    "# check for duplicated rows\n",
    "sp.duplicated().sum()"
   ]
  },
  {
   "cell_type": "code",
   "execution_count": 13,
   "id": "175f02bd",
   "metadata": {
    "execution": {
     "iopub.execute_input": "2024-03-25T17:13:09.226786Z",
     "iopub.status.busy": "2024-03-25T17:13:09.225746Z",
     "iopub.status.idle": "2024-03-25T17:13:09.234273Z",
     "shell.execute_reply": "2024-03-25T17:13:09.233277Z"
    },
    "papermill": {
     "duration": 0.022586,
     "end_time": "2024-03-25T17:13:09.236813",
     "exception": false,
     "start_time": "2024-03-25T17:13:09.214227",
     "status": "completed"
    },
    "tags": []
   },
   "outputs": [],
   "source": [
    "# Define a mapping of month numbers to month names\n",
    "month_names = {1: 'Jan', 2: 'Feb', 3: 'Mar', 4: 'Apr', 5: 'May', 6: 'Jun',\n",
    "               7: 'Jul', 8: 'Aug', 9: 'Sep', 10: 'Oct', 11: 'Nov', 12: 'Dec'}\n",
    "# Create a new column with month abbreviations\n",
    "sp['Month_Abbreviation'] = sp['released_month'].map(month_names)"
   ]
  },
  {
   "cell_type": "code",
   "execution_count": 14,
   "id": "71eb2977",
   "metadata": {
    "execution": {
     "iopub.execute_input": "2024-03-25T17:13:09.262069Z",
     "iopub.status.busy": "2024-03-25T17:13:09.260770Z",
     "iopub.status.idle": "2024-03-25T17:13:09.285099Z",
     "shell.execute_reply": "2024-03-25T17:13:09.284061Z"
    },
    "papermill": {
     "duration": 0.042041,
     "end_time": "2024-03-25T17:13:09.289182",
     "exception": false,
     "start_time": "2024-03-25T17:13:09.247141",
     "status": "completed"
    },
    "tags": []
   },
   "outputs": [
    {
     "data": {
      "text/html": [
       "<div>\n",
       "<style scoped>\n",
       "    .dataframe tbody tr th:only-of-type {\n",
       "        vertical-align: middle;\n",
       "    }\n",
       "\n",
       "    .dataframe tbody tr th {\n",
       "        vertical-align: top;\n",
       "    }\n",
       "\n",
       "    .dataframe thead th {\n",
       "        text-align: right;\n",
       "    }\n",
       "</style>\n",
       "<table border=\"1\" class=\"dataframe\">\n",
       "  <thead>\n",
       "    <tr style=\"text-align: right;\">\n",
       "      <th></th>\n",
       "      <th>track_name</th>\n",
       "      <th>artist(s)_name</th>\n",
       "      <th>artist_count</th>\n",
       "      <th>released_year</th>\n",
       "      <th>released_month</th>\n",
       "      <th>released_day</th>\n",
       "      <th>in_spotify_playlists</th>\n",
       "      <th>in_spotify_charts</th>\n",
       "      <th>streams</th>\n",
       "      <th>bpm</th>\n",
       "      <th>...</th>\n",
       "      <th>mode</th>\n",
       "      <th>danceability_%</th>\n",
       "      <th>valence_%</th>\n",
       "      <th>energy_%</th>\n",
       "      <th>acousticness_%</th>\n",
       "      <th>instrumentalness_%</th>\n",
       "      <th>liveness_%</th>\n",
       "      <th>speechiness_%</th>\n",
       "      <th>streams_in_millions</th>\n",
       "      <th>Month_Abbreviation</th>\n",
       "    </tr>\n",
       "  </thead>\n",
       "  <tbody>\n",
       "    <tr>\n",
       "      <th>0</th>\n",
       "      <td>Seven (feat. Latto) (Explicit Ver.)</td>\n",
       "      <td>Latto, Jung Kook</td>\n",
       "      <td>2</td>\n",
       "      <td>2023</td>\n",
       "      <td>7</td>\n",
       "      <td>14</td>\n",
       "      <td>553</td>\n",
       "      <td>147</td>\n",
       "      <td>141381703</td>\n",
       "      <td>125</td>\n",
       "      <td>...</td>\n",
       "      <td>Major</td>\n",
       "      <td>80</td>\n",
       "      <td>89</td>\n",
       "      <td>83</td>\n",
       "      <td>31</td>\n",
       "      <td>0</td>\n",
       "      <td>8</td>\n",
       "      <td>4</td>\n",
       "      <td>141.38</td>\n",
       "      <td>Jul</td>\n",
       "    </tr>\n",
       "    <tr>\n",
       "      <th>1</th>\n",
       "      <td>LALA</td>\n",
       "      <td>Myke Towers</td>\n",
       "      <td>1</td>\n",
       "      <td>2023</td>\n",
       "      <td>3</td>\n",
       "      <td>23</td>\n",
       "      <td>1474</td>\n",
       "      <td>48</td>\n",
       "      <td>133716286</td>\n",
       "      <td>92</td>\n",
       "      <td>...</td>\n",
       "      <td>Major</td>\n",
       "      <td>71</td>\n",
       "      <td>61</td>\n",
       "      <td>74</td>\n",
       "      <td>7</td>\n",
       "      <td>0</td>\n",
       "      <td>10</td>\n",
       "      <td>4</td>\n",
       "      <td>133.72</td>\n",
       "      <td>Mar</td>\n",
       "    </tr>\n",
       "  </tbody>\n",
       "</table>\n",
       "<p>2 rows × 21 columns</p>\n",
       "</div>"
      ],
      "text/plain": [
       "                            track_name    artist(s)_name  artist_count  \\\n",
       "0  Seven (feat. Latto) (Explicit Ver.)  Latto, Jung Kook             2   \n",
       "1                                 LALA       Myke Towers             1   \n",
       "\n",
       "   released_year  released_month  released_day  in_spotify_playlists  \\\n",
       "0           2023               7            14                   553   \n",
       "1           2023               3            23                  1474   \n",
       "\n",
       "   in_spotify_charts    streams  bpm  ...   mode danceability_%  valence_%  \\\n",
       "0                147  141381703  125  ...  Major             80         89   \n",
       "1                 48  133716286   92  ...  Major             71         61   \n",
       "\n",
       "   energy_%  acousticness_%  instrumentalness_%  liveness_%  speechiness_%  \\\n",
       "0        83              31                   0           8              4   \n",
       "1        74               7                   0          10              4   \n",
       "\n",
       "   streams_in_millions  Month_Abbreviation  \n",
       "0               141.38                 Jul  \n",
       "1               133.72                 Mar  \n",
       "\n",
       "[2 rows x 21 columns]"
      ]
     },
     "execution_count": 14,
     "metadata": {},
     "output_type": "execute_result"
    }
   ],
   "source": [
    "sp.head(2)"
   ]
  },
  {
   "cell_type": "markdown",
   "id": "d7ca7be9",
   "metadata": {
    "papermill": {
     "duration": 0.015988,
     "end_time": "2024-03-25T17:13:09.320840",
     "exception": false,
     "start_time": "2024-03-25T17:13:09.304852",
     "status": "completed"
    },
    "tags": []
   },
   "source": [
    "# Data Analysis and Visualising "
   ]
  },
  {
   "cell_type": "code",
   "execution_count": 15,
   "id": "e53b2ea1",
   "metadata": {
    "execution": {
     "iopub.execute_input": "2024-03-25T17:13:09.347358Z",
     "iopub.status.busy": "2024-03-25T17:13:09.346905Z",
     "iopub.status.idle": "2024-03-25T17:13:09.365287Z",
     "shell.execute_reply": "2024-03-25T17:13:09.364307Z"
    },
    "papermill": {
     "duration": 0.032881,
     "end_time": "2024-03-25T17:13:09.367505",
     "exception": false,
     "start_time": "2024-03-25T17:13:09.334624",
     "status": "completed"
    },
    "tags": []
   },
   "outputs": [
    {
     "data": {
      "text/html": [
       "<div>\n",
       "<style scoped>\n",
       "    .dataframe tbody tr th:only-of-type {\n",
       "        vertical-align: middle;\n",
       "    }\n",
       "\n",
       "    .dataframe tbody tr th {\n",
       "        vertical-align: top;\n",
       "    }\n",
       "\n",
       "    .dataframe thead th {\n",
       "        text-align: right;\n",
       "    }\n",
       "</style>\n",
       "<table border=\"1\" class=\"dataframe\">\n",
       "  <thead>\n",
       "    <tr style=\"text-align: right;\">\n",
       "      <th></th>\n",
       "      <th>track_name</th>\n",
       "      <th>streams_in_millions</th>\n",
       "    </tr>\n",
       "  </thead>\n",
       "  <tbody>\n",
       "    <tr>\n",
       "      <th>55</th>\n",
       "      <td>Blinding Lights</td>\n",
       "      <td>3703.90</td>\n",
       "    </tr>\n",
       "    <tr>\n",
       "      <th>179</th>\n",
       "      <td>Shape of You</td>\n",
       "      <td>3562.54</td>\n",
       "    </tr>\n",
       "    <tr>\n",
       "      <th>86</th>\n",
       "      <td>Someone You Loved</td>\n",
       "      <td>2887.24</td>\n",
       "    </tr>\n",
       "    <tr>\n",
       "      <th>620</th>\n",
       "      <td>Dance Monkey</td>\n",
       "      <td>2864.79</td>\n",
       "    </tr>\n",
       "    <tr>\n",
       "      <th>41</th>\n",
       "      <td>Sunflower - Spider-Man: Into the Spider-Verse</td>\n",
       "      <td>2808.10</td>\n",
       "    </tr>\n",
       "    <tr>\n",
       "      <th>162</th>\n",
       "      <td>One Dance</td>\n",
       "      <td>2713.92</td>\n",
       "    </tr>\n",
       "    <tr>\n",
       "      <th>84</th>\n",
       "      <td>STAY (with Justin Bieber)</td>\n",
       "      <td>2665.34</td>\n",
       "    </tr>\n",
       "    <tr>\n",
       "      <th>140</th>\n",
       "      <td>Believer</td>\n",
       "      <td>2594.04</td>\n",
       "    </tr>\n",
       "    <tr>\n",
       "      <th>725</th>\n",
       "      <td>Closer</td>\n",
       "      <td>2591.22</td>\n",
       "    </tr>\n",
       "    <tr>\n",
       "      <th>48</th>\n",
       "      <td>Starboy</td>\n",
       "      <td>2565.53</td>\n",
       "    </tr>\n",
       "  </tbody>\n",
       "</table>\n",
       "</div>"
      ],
      "text/plain": [
       "                                        track_name  streams_in_millions\n",
       "55                                 Blinding Lights              3703.90\n",
       "179                                   Shape of You              3562.54\n",
       "86                               Someone You Loved              2887.24\n",
       "620                                   Dance Monkey              2864.79\n",
       "41   Sunflower - Spider-Man: Into the Spider-Verse              2808.10\n",
       "162                                      One Dance              2713.92\n",
       "84                       STAY (with Justin Bieber)              2665.34\n",
       "140                                       Believer              2594.04\n",
       "725                                         Closer              2591.22\n",
       "48                                         Starboy              2565.53"
      ]
     },
     "execution_count": 15,
     "metadata": {},
     "output_type": "execute_result"
    }
   ],
   "source": [
    "# top 10 songs by streams \n",
    "top_10_songs_by_streams = sp.filter(items = ['track_name','streams_in_millions'], axis = 1)\n",
    "# sorting the values by stream in decsending order\n",
    "top_10_songs_by_streams = top_10_songs_by_streams.sort_values(by = 'streams_in_millions',ascending = False).head(10)\n",
    "top_10_songs_by_streams"
   ]
  },
  {
   "cell_type": "code",
   "execution_count": 16,
   "id": "0935a662",
   "metadata": {
    "execution": {
     "iopub.execute_input": "2024-03-25T17:13:09.391717Z",
     "iopub.status.busy": "2024-03-25T17:13:09.390895Z",
     "iopub.status.idle": "2024-03-25T17:13:11.408140Z",
     "shell.execute_reply": "2024-03-25T17:13:11.407112Z"
    },
    "papermill": {
     "duration": 2.032813,
     "end_time": "2024-03-25T17:13:11.410709",
     "exception": false,
     "start_time": "2024-03-25T17:13:09.377896",
     "status": "completed"
    },
    "tags": []
   },
   "outputs": [
    {
     "data": {
      "text/html": [
       "        <script type=\"text/javascript\">\n",
       "        window.PlotlyConfig = {MathJaxConfig: 'local'};\n",
       "        if (window.MathJax && window.MathJax.Hub && window.MathJax.Hub.Config) {window.MathJax.Hub.Config({SVG: {font: \"STIX-Web\"}});}\n",
       "        if (typeof require !== 'undefined') {\n",
       "        require.undef(\"plotly\");\n",
       "        requirejs.config({\n",
       "            paths: {\n",
       "                'plotly': ['https://cdn.plot.ly/plotly-2.27.0.min']\n",
       "            }\n",
       "        });\n",
       "        require(['plotly'], function(Plotly) {\n",
       "            window._Plotly = Plotly;\n",
       "        });\n",
       "        }\n",
       "        </script>\n",
       "        "
      ]
     },
     "metadata": {},
     "output_type": "display_data"
    },
    {
     "data": {
      "text/html": [
       "<div>                            <div id=\"d1436973-ad62-4d48-bdec-dabda2b945aa\" class=\"plotly-graph-div\" style=\"height:700px; width:1200px;\"></div>            <script type=\"text/javascript\">                require([\"plotly\"], function(Plotly) {                    window.PLOTLYENV=window.PLOTLYENV || {};                                    if (document.getElementById(\"d1436973-ad62-4d48-bdec-dabda2b945aa\")) {                    Plotly.newPlot(                        \"d1436973-ad62-4d48-bdec-dabda2b945aa\",                        [{\"alignmentgroup\":\"True\",\"hovertemplate\":\"Stream In Millions=%{marker.color}\\u003cbr\\u003eSongs Name=%{y}\\u003cextra\\u003e\\u003c\\u002fextra\\u003e\",\"legendgroup\":\"\",\"marker\":{\"color\":[3703.9,3562.54,2887.24,2864.79,2808.1,2713.92,2665.34,2594.04,2591.22,2565.53],\"coloraxis\":\"coloraxis\",\"pattern\":{\"shape\":\"\"}},\"name\":\"\",\"offsetgroup\":\"\",\"orientation\":\"h\",\"showlegend\":false,\"textposition\":\"auto\",\"x\":[3703.9,3562.54,2887.24,2864.79,2808.1,2713.92,2665.34,2594.04,2591.22,2565.53],\"xaxis\":\"x\",\"y\":[\"Blinding Lights\",\"Shape of You\",\"Someone You Loved\",\"Dance Monkey\",\"Sunflower - Spider-Man: Into the Spider-Verse\",\"One Dance\",\"STAY (with Justin Bieber)\",\"Believer\",\"Closer\",\"Starboy\"],\"yaxis\":\"y\",\"type\":\"bar\"}],                        {\"template\":{\"data\":{\"barpolar\":[{\"marker\":{\"line\":{\"color\":\"white\",\"width\":0.5},\"pattern\":{\"fillmode\":\"overlay\",\"size\":10,\"solidity\":0.2}},\"type\":\"barpolar\"}],\"bar\":[{\"error_x\":{\"color\":\"#2a3f5f\"},\"error_y\":{\"color\":\"#2a3f5f\"},\"marker\":{\"line\":{\"color\":\"white\",\"width\":0.5},\"pattern\":{\"fillmode\":\"overlay\",\"size\":10,\"solidity\":0.2}},\"type\":\"bar\"}],\"carpet\":[{\"aaxis\":{\"endlinecolor\":\"#2a3f5f\",\"gridcolor\":\"#C8D4E3\",\"linecolor\":\"#C8D4E3\",\"minorgridcolor\":\"#C8D4E3\",\"startlinecolor\":\"#2a3f5f\"},\"baxis\":{\"endlinecolor\":\"#2a3f5f\",\"gridcolor\":\"#C8D4E3\",\"linecolor\":\"#C8D4E3\",\"minorgridcolor\":\"#C8D4E3\",\"startlinecolor\":\"#2a3f5f\"},\"type\":\"carpet\"}],\"choropleth\":[{\"colorbar\":{\"outlinewidth\":0,\"ticks\":\"\"},\"type\":\"choropleth\"}],\"contourcarpet\":[{\"colorbar\":{\"outlinewidth\":0,\"ticks\":\"\"},\"type\":\"contourcarpet\"}],\"contour\":[{\"colorbar\":{\"outlinewidth\":0,\"ticks\":\"\"},\"colorscale\":[[0.0,\"#0d0887\"],[0.1111111111111111,\"#46039f\"],[0.2222222222222222,\"#7201a8\"],[0.3333333333333333,\"#9c179e\"],[0.4444444444444444,\"#bd3786\"],[0.5555555555555556,\"#d8576b\"],[0.6666666666666666,\"#ed7953\"],[0.7777777777777778,\"#fb9f3a\"],[0.8888888888888888,\"#fdca26\"],[1.0,\"#f0f921\"]],\"type\":\"contour\"}],\"heatmapgl\":[{\"colorbar\":{\"outlinewidth\":0,\"ticks\":\"\"},\"colorscale\":[[0.0,\"#0d0887\"],[0.1111111111111111,\"#46039f\"],[0.2222222222222222,\"#7201a8\"],[0.3333333333333333,\"#9c179e\"],[0.4444444444444444,\"#bd3786\"],[0.5555555555555556,\"#d8576b\"],[0.6666666666666666,\"#ed7953\"],[0.7777777777777778,\"#fb9f3a\"],[0.8888888888888888,\"#fdca26\"],[1.0,\"#f0f921\"]],\"type\":\"heatmapgl\"}],\"heatmap\":[{\"colorbar\":{\"outlinewidth\":0,\"ticks\":\"\"},\"colorscale\":[[0.0,\"#0d0887\"],[0.1111111111111111,\"#46039f\"],[0.2222222222222222,\"#7201a8\"],[0.3333333333333333,\"#9c179e\"],[0.4444444444444444,\"#bd3786\"],[0.5555555555555556,\"#d8576b\"],[0.6666666666666666,\"#ed7953\"],[0.7777777777777778,\"#fb9f3a\"],[0.8888888888888888,\"#fdca26\"],[1.0,\"#f0f921\"]],\"type\":\"heatmap\"}],\"histogram2dcontour\":[{\"colorbar\":{\"outlinewidth\":0,\"ticks\":\"\"},\"colorscale\":[[0.0,\"#0d0887\"],[0.1111111111111111,\"#46039f\"],[0.2222222222222222,\"#7201a8\"],[0.3333333333333333,\"#9c179e\"],[0.4444444444444444,\"#bd3786\"],[0.5555555555555556,\"#d8576b\"],[0.6666666666666666,\"#ed7953\"],[0.7777777777777778,\"#fb9f3a\"],[0.8888888888888888,\"#fdca26\"],[1.0,\"#f0f921\"]],\"type\":\"histogram2dcontour\"}],\"histogram2d\":[{\"colorbar\":{\"outlinewidth\":0,\"ticks\":\"\"},\"colorscale\":[[0.0,\"#0d0887\"],[0.1111111111111111,\"#46039f\"],[0.2222222222222222,\"#7201a8\"],[0.3333333333333333,\"#9c179e\"],[0.4444444444444444,\"#bd3786\"],[0.5555555555555556,\"#d8576b\"],[0.6666666666666666,\"#ed7953\"],[0.7777777777777778,\"#fb9f3a\"],[0.8888888888888888,\"#fdca26\"],[1.0,\"#f0f921\"]],\"type\":\"histogram2d\"}],\"histogram\":[{\"marker\":{\"pattern\":{\"fillmode\":\"overlay\",\"size\":10,\"solidity\":0.2}},\"type\":\"histogram\"}],\"mesh3d\":[{\"colorbar\":{\"outlinewidth\":0,\"ticks\":\"\"},\"type\":\"mesh3d\"}],\"parcoords\":[{\"line\":{\"colorbar\":{\"outlinewidth\":0,\"ticks\":\"\"}},\"type\":\"parcoords\"}],\"pie\":[{\"automargin\":true,\"type\":\"pie\"}],\"scatter3d\":[{\"line\":{\"colorbar\":{\"outlinewidth\":0,\"ticks\":\"\"}},\"marker\":{\"colorbar\":{\"outlinewidth\":0,\"ticks\":\"\"}},\"type\":\"scatter3d\"}],\"scattercarpet\":[{\"marker\":{\"colorbar\":{\"outlinewidth\":0,\"ticks\":\"\"}},\"type\":\"scattercarpet\"}],\"scattergeo\":[{\"marker\":{\"colorbar\":{\"outlinewidth\":0,\"ticks\":\"\"}},\"type\":\"scattergeo\"}],\"scattergl\":[{\"marker\":{\"colorbar\":{\"outlinewidth\":0,\"ticks\":\"\"}},\"type\":\"scattergl\"}],\"scattermapbox\":[{\"marker\":{\"colorbar\":{\"outlinewidth\":0,\"ticks\":\"\"}},\"type\":\"scattermapbox\"}],\"scatterpolargl\":[{\"marker\":{\"colorbar\":{\"outlinewidth\":0,\"ticks\":\"\"}},\"type\":\"scatterpolargl\"}],\"scatterpolar\":[{\"marker\":{\"colorbar\":{\"outlinewidth\":0,\"ticks\":\"\"}},\"type\":\"scatterpolar\"}],\"scatter\":[{\"fillpattern\":{\"fillmode\":\"overlay\",\"size\":10,\"solidity\":0.2},\"type\":\"scatter\"}],\"scatterternary\":[{\"marker\":{\"colorbar\":{\"outlinewidth\":0,\"ticks\":\"\"}},\"type\":\"scatterternary\"}],\"surface\":[{\"colorbar\":{\"outlinewidth\":0,\"ticks\":\"\"},\"colorscale\":[[0.0,\"#0d0887\"],[0.1111111111111111,\"#46039f\"],[0.2222222222222222,\"#7201a8\"],[0.3333333333333333,\"#9c179e\"],[0.4444444444444444,\"#bd3786\"],[0.5555555555555556,\"#d8576b\"],[0.6666666666666666,\"#ed7953\"],[0.7777777777777778,\"#fb9f3a\"],[0.8888888888888888,\"#fdca26\"],[1.0,\"#f0f921\"]],\"type\":\"surface\"}],\"table\":[{\"cells\":{\"fill\":{\"color\":\"#EBF0F8\"},\"line\":{\"color\":\"white\"}},\"header\":{\"fill\":{\"color\":\"#C8D4E3\"},\"line\":{\"color\":\"white\"}},\"type\":\"table\"}]},\"layout\":{\"annotationdefaults\":{\"arrowcolor\":\"#2a3f5f\",\"arrowhead\":0,\"arrowwidth\":1},\"autotypenumbers\":\"strict\",\"coloraxis\":{\"colorbar\":{\"outlinewidth\":0,\"ticks\":\"\"}},\"colorscale\":{\"diverging\":[[0,\"#8e0152\"],[0.1,\"#c51b7d\"],[0.2,\"#de77ae\"],[0.3,\"#f1b6da\"],[0.4,\"#fde0ef\"],[0.5,\"#f7f7f7\"],[0.6,\"#e6f5d0\"],[0.7,\"#b8e186\"],[0.8,\"#7fbc41\"],[0.9,\"#4d9221\"],[1,\"#276419\"]],\"sequential\":[[0.0,\"#0d0887\"],[0.1111111111111111,\"#46039f\"],[0.2222222222222222,\"#7201a8\"],[0.3333333333333333,\"#9c179e\"],[0.4444444444444444,\"#bd3786\"],[0.5555555555555556,\"#d8576b\"],[0.6666666666666666,\"#ed7953\"],[0.7777777777777778,\"#fb9f3a\"],[0.8888888888888888,\"#fdca26\"],[1.0,\"#f0f921\"]],\"sequentialminus\":[[0.0,\"#0d0887\"],[0.1111111111111111,\"#46039f\"],[0.2222222222222222,\"#7201a8\"],[0.3333333333333333,\"#9c179e\"],[0.4444444444444444,\"#bd3786\"],[0.5555555555555556,\"#d8576b\"],[0.6666666666666666,\"#ed7953\"],[0.7777777777777778,\"#fb9f3a\"],[0.8888888888888888,\"#fdca26\"],[1.0,\"#f0f921\"]]},\"colorway\":[\"#636efa\",\"#EF553B\",\"#00cc96\",\"#ab63fa\",\"#FFA15A\",\"#19d3f3\",\"#FF6692\",\"#B6E880\",\"#FF97FF\",\"#FECB52\"],\"font\":{\"color\":\"#2a3f5f\"},\"geo\":{\"bgcolor\":\"white\",\"lakecolor\":\"white\",\"landcolor\":\"white\",\"showlakes\":true,\"showland\":true,\"subunitcolor\":\"#C8D4E3\"},\"hoverlabel\":{\"align\":\"left\"},\"hovermode\":\"closest\",\"mapbox\":{\"style\":\"light\"},\"paper_bgcolor\":\"white\",\"plot_bgcolor\":\"white\",\"polar\":{\"angularaxis\":{\"gridcolor\":\"#EBF0F8\",\"linecolor\":\"#EBF0F8\",\"ticks\":\"\"},\"bgcolor\":\"white\",\"radialaxis\":{\"gridcolor\":\"#EBF0F8\",\"linecolor\":\"#EBF0F8\",\"ticks\":\"\"}},\"scene\":{\"xaxis\":{\"backgroundcolor\":\"white\",\"gridcolor\":\"#DFE8F3\",\"gridwidth\":2,\"linecolor\":\"#EBF0F8\",\"showbackground\":true,\"ticks\":\"\",\"zerolinecolor\":\"#EBF0F8\"},\"yaxis\":{\"backgroundcolor\":\"white\",\"gridcolor\":\"#DFE8F3\",\"gridwidth\":2,\"linecolor\":\"#EBF0F8\",\"showbackground\":true,\"ticks\":\"\",\"zerolinecolor\":\"#EBF0F8\"},\"zaxis\":{\"backgroundcolor\":\"white\",\"gridcolor\":\"#DFE8F3\",\"gridwidth\":2,\"linecolor\":\"#EBF0F8\",\"showbackground\":true,\"ticks\":\"\",\"zerolinecolor\":\"#EBF0F8\"}},\"shapedefaults\":{\"line\":{\"color\":\"#2a3f5f\"}},\"ternary\":{\"aaxis\":{\"gridcolor\":\"#DFE8F3\",\"linecolor\":\"#A2B1C6\",\"ticks\":\"\"},\"baxis\":{\"gridcolor\":\"#DFE8F3\",\"linecolor\":\"#A2B1C6\",\"ticks\":\"\"},\"bgcolor\":\"white\",\"caxis\":{\"gridcolor\":\"#DFE8F3\",\"linecolor\":\"#A2B1C6\",\"ticks\":\"\"}},\"title\":{\"x\":0.05},\"xaxis\":{\"automargin\":true,\"gridcolor\":\"#EBF0F8\",\"linecolor\":\"#EBF0F8\",\"ticks\":\"\",\"title\":{\"standoff\":15},\"zerolinecolor\":\"#EBF0F8\",\"zerolinewidth\":2},\"yaxis\":{\"automargin\":true,\"gridcolor\":\"#EBF0F8\",\"linecolor\":\"#EBF0F8\",\"ticks\":\"\",\"title\":{\"standoff\":15},\"zerolinecolor\":\"#EBF0F8\",\"zerolinewidth\":2}}},\"xaxis\":{\"anchor\":\"y\",\"domain\":[0.0,1.0],\"title\":{\"text\":\"Stream In Millions\"}},\"yaxis\":{\"anchor\":\"x\",\"domain\":[0.0,1.0],\"title\":{\"text\":\"Songs Name\"}},\"coloraxis\":{\"colorbar\":{\"title\":{\"text\":\"Stream In Millions\"}},\"colorscale\":[[0.0,\"#0d0887\"],[0.1111111111111111,\"#46039f\"],[0.2222222222222222,\"#7201a8\"],[0.3333333333333333,\"#9c179e\"],[0.4444444444444444,\"#bd3786\"],[0.5555555555555556,\"#d8576b\"],[0.6666666666666666,\"#ed7953\"],[0.7777777777777778,\"#fb9f3a\"],[0.8888888888888888,\"#fdca26\"],[1.0,\"#f0f921\"]]},\"legend\":{\"tracegroupgap\":0},\"title\":{\"text\":\"Top 10 Songs By Number Of Streams\"},\"barmode\":\"relative\",\"height\":700,\"width\":1200},                        {\"responsive\": true}                    ).then(function(){\n",
       "                            \n",
       "var gd = document.getElementById('d1436973-ad62-4d48-bdec-dabda2b945aa');\n",
       "var x = new MutationObserver(function (mutations, observer) {{\n",
       "        var display = window.getComputedStyle(gd).display;\n",
       "        if (!display || display === 'none') {{\n",
       "            console.log([gd, 'removed!']);\n",
       "            Plotly.purge(gd);\n",
       "            observer.disconnect();\n",
       "        }}\n",
       "}});\n",
       "\n",
       "// Listen for the removal of the full notebook cells\n",
       "var notebookContainer = gd.closest('#notebook-container');\n",
       "if (notebookContainer) {{\n",
       "    x.observe(notebookContainer, {childList: true});\n",
       "}}\n",
       "\n",
       "// Listen for the clearing of the current output cell\n",
       "var outputEl = gd.closest('.output');\n",
       "if (outputEl) {{\n",
       "    x.observe(outputEl, {childList: true});\n",
       "}}\n",
       "\n",
       "                        })                };                });            </script>        </div>"
      ]
     },
     "metadata": {},
     "output_type": "display_data"
    }
   ],
   "source": [
    "# Ploting the data \n",
    "top_10_songs_by_streams_v = px.bar(top_10_songs_by_streams,y= 'track_name', x = 'streams_in_millions',template = 'plotly_white',width = 1200, height = 700,color = 'streams_in_millions',\n",
    "                                 title = 'Top 10 Songs By Number Of Streams' , labels = {'track_name' : 'Songs Name', 'streams_in_millions' : 'Stream In Millions'})\n",
    "top_10_songs_by_streams_v"
   ]
  },
  {
   "cell_type": "code",
   "execution_count": 17,
   "id": "368a243f",
   "metadata": {
    "execution": {
     "iopub.execute_input": "2024-03-25T17:13:11.434343Z",
     "iopub.status.busy": "2024-03-25T17:13:11.433923Z",
     "iopub.status.idle": "2024-03-25T17:13:11.456562Z",
     "shell.execute_reply": "2024-03-25T17:13:11.455522Z"
    },
    "papermill": {
     "duration": 0.037408,
     "end_time": "2024-03-25T17:13:11.459233",
     "exception": false,
     "start_time": "2024-03-25T17:13:11.421825",
     "status": "completed"
    },
    "tags": []
   },
   "outputs": [
    {
     "data": {
      "text/html": [
       "<div>\n",
       "<style scoped>\n",
       "    .dataframe tbody tr th:only-of-type {\n",
       "        vertical-align: middle;\n",
       "    }\n",
       "\n",
       "    .dataframe tbody tr th {\n",
       "        vertical-align: top;\n",
       "    }\n",
       "\n",
       "    .dataframe thead th {\n",
       "        text-align: right;\n",
       "    }\n",
       "</style>\n",
       "<table border=\"1\" class=\"dataframe\">\n",
       "  <thead>\n",
       "    <tr style=\"text-align: right;\">\n",
       "      <th></th>\n",
       "      <th>artist(s)_name</th>\n",
       "      <th>streams_in_millions</th>\n",
       "    </tr>\n",
       "  </thead>\n",
       "  <tbody>\n",
       "    <tr>\n",
       "      <th>0</th>\n",
       "      <td>The Weeknd</td>\n",
       "      <td>14185.54</td>\n",
       "    </tr>\n",
       "    <tr>\n",
       "      <th>1</th>\n",
       "      <td>Taylor Swift</td>\n",
       "      <td>14053.65</td>\n",
       "    </tr>\n",
       "    <tr>\n",
       "      <th>2</th>\n",
       "      <td>Ed Sheeran</td>\n",
       "      <td>13908.94</td>\n",
       "    </tr>\n",
       "    <tr>\n",
       "      <th>3</th>\n",
       "      <td>Harry Styles</td>\n",
       "      <td>11608.63</td>\n",
       "    </tr>\n",
       "    <tr>\n",
       "      <th>4</th>\n",
       "      <td>Bad Bunny</td>\n",
       "      <td>9997.79</td>\n",
       "    </tr>\n",
       "    <tr>\n",
       "      <th>5</th>\n",
       "      <td>Olivia Rodrigo</td>\n",
       "      <td>7442.15</td>\n",
       "    </tr>\n",
       "    <tr>\n",
       "      <th>6</th>\n",
       "      <td>Eminem</td>\n",
       "      <td>6183.80</td>\n",
       "    </tr>\n",
       "    <tr>\n",
       "      <th>7</th>\n",
       "      <td>Bruno Mars</td>\n",
       "      <td>5846.93</td>\n",
       "    </tr>\n",
       "    <tr>\n",
       "      <th>8</th>\n",
       "      <td>Arctic Monkeys</td>\n",
       "      <td>5569.81</td>\n",
       "    </tr>\n",
       "    <tr>\n",
       "      <th>9</th>\n",
       "      <td>Imagine Dragons</td>\n",
       "      <td>5272.48</td>\n",
       "    </tr>\n",
       "  </tbody>\n",
       "</table>\n",
       "</div>"
      ],
      "text/plain": [
       "    artist(s)_name  streams_in_millions\n",
       "0       The Weeknd             14185.54\n",
       "1     Taylor Swift             14053.65\n",
       "2       Ed Sheeran             13908.94\n",
       "3     Harry Styles             11608.63\n",
       "4        Bad Bunny              9997.79\n",
       "5   Olivia Rodrigo              7442.15\n",
       "6           Eminem              6183.80\n",
       "7       Bruno Mars              5846.93\n",
       "8   Arctic Monkeys              5569.81\n",
       "9  Imagine Dragons              5272.48"
      ]
     },
     "execution_count": 17,
     "metadata": {},
     "output_type": "execute_result"
    }
   ],
   "source": [
    "# top 10 artist by number of streams \n",
    "top_10_artist_by_streams = sp.filter(items = ['artist(s)_name','streams_in_millions'], axis = 1)\n",
    "# sorting and sum the number of streams \n",
    "top_10_artist_by_streams =top_10_artist_by_streams.groupby(['artist(s)_name'])['streams_in_millions'].sum().sort_values(ascending =False).to_frame().head(10)\n",
    "top_10_artist_by_streams.reset_index(inplace = True)\n",
    "top_10_artist_by_streams"
   ]
  },
  {
   "cell_type": "code",
   "execution_count": 18,
   "id": "de0b48c4",
   "metadata": {
    "execution": {
     "iopub.execute_input": "2024-03-25T17:13:11.483903Z",
     "iopub.status.busy": "2024-03-25T17:13:11.482851Z",
     "iopub.status.idle": "2024-03-25T17:13:11.785719Z",
     "shell.execute_reply": "2024-03-25T17:13:11.784222Z"
    },
    "papermill": {
     "duration": 0.31762,
     "end_time": "2024-03-25T17:13:11.788047",
     "exception": false,
     "start_time": "2024-03-25T17:13:11.470427",
     "status": "completed"
    },
    "tags": []
   },
   "outputs": [
    {
     "data": {
      "text/html": [
       "<div>                            <div id=\"9fb89c03-30bf-4c3a-a301-97019cacbc29\" class=\"plotly-graph-div\" style=\"height:700px; width:1200px;\"></div>            <script type=\"text/javascript\">                require([\"plotly\"], function(Plotly) {                    window.PLOTLYENV=window.PLOTLYENV || {};                                    if (document.getElementById(\"9fb89c03-30bf-4c3a-a301-97019cacbc29\")) {                    Plotly.newPlot(                        \"9fb89c03-30bf-4c3a-a301-97019cacbc29\",                        [{\"alignmentgroup\":\"True\",\"hovertemplate\":\"streams_in_millions=%{marker.color}\\u003cbr\\u003eArtist Name=%{y}\\u003cextra\\u003e\\u003c\\u002fextra\\u003e\",\"legendgroup\":\"\",\"marker\":{\"color\":[14185.539999999999,14053.65,13908.94,11608.630000000001,9997.789999999999,7442.150000000001,6183.8,5846.93,5569.8099999999995,5272.48],\"coloraxis\":\"coloraxis\",\"pattern\":{\"shape\":\"\"}},\"name\":\"\",\"offsetgroup\":\"\",\"orientation\":\"h\",\"showlegend\":false,\"textposition\":\"auto\",\"x\":[14185.539999999999,14053.65,13908.94,11608.630000000001,9997.789999999999,7442.150000000001,6183.8,5846.93,5569.8099999999995,5272.48],\"xaxis\":\"x\",\"y\":[\"The Weeknd\",\"Taylor Swift\",\"Ed Sheeran\",\"Harry Styles\",\"Bad Bunny\",\"Olivia Rodrigo\",\"Eminem\",\"Bruno Mars\",\"Arctic Monkeys\",\"Imagine Dragons\"],\"yaxis\":\"y\",\"type\":\"bar\"}],                        {\"template\":{\"data\":{\"barpolar\":[{\"marker\":{\"line\":{\"color\":\"white\",\"width\":0.5},\"pattern\":{\"fillmode\":\"overlay\",\"size\":10,\"solidity\":0.2}},\"type\":\"barpolar\"}],\"bar\":[{\"error_x\":{\"color\":\"rgb(36,36,36)\"},\"error_y\":{\"color\":\"rgb(36,36,36)\"},\"marker\":{\"line\":{\"color\":\"white\",\"width\":0.5},\"pattern\":{\"fillmode\":\"overlay\",\"size\":10,\"solidity\":0.2}},\"type\":\"bar\"}],\"carpet\":[{\"aaxis\":{\"endlinecolor\":\"rgb(36,36,36)\",\"gridcolor\":\"white\",\"linecolor\":\"white\",\"minorgridcolor\":\"white\",\"startlinecolor\":\"rgb(36,36,36)\"},\"baxis\":{\"endlinecolor\":\"rgb(36,36,36)\",\"gridcolor\":\"white\",\"linecolor\":\"white\",\"minorgridcolor\":\"white\",\"startlinecolor\":\"rgb(36,36,36)\"},\"type\":\"carpet\"}],\"choropleth\":[{\"colorbar\":{\"outlinewidth\":1,\"tickcolor\":\"rgb(36,36,36)\",\"ticks\":\"outside\"},\"type\":\"choropleth\"}],\"contourcarpet\":[{\"colorbar\":{\"outlinewidth\":1,\"tickcolor\":\"rgb(36,36,36)\",\"ticks\":\"outside\"},\"type\":\"contourcarpet\"}],\"contour\":[{\"colorbar\":{\"outlinewidth\":1,\"tickcolor\":\"rgb(36,36,36)\",\"ticks\":\"outside\"},\"colorscale\":[[0.0,\"#440154\"],[0.1111111111111111,\"#482878\"],[0.2222222222222222,\"#3e4989\"],[0.3333333333333333,\"#31688e\"],[0.4444444444444444,\"#26828e\"],[0.5555555555555556,\"#1f9e89\"],[0.6666666666666666,\"#35b779\"],[0.7777777777777778,\"#6ece58\"],[0.8888888888888888,\"#b5de2b\"],[1.0,\"#fde725\"]],\"type\":\"contour\"}],\"heatmapgl\":[{\"colorbar\":{\"outlinewidth\":1,\"tickcolor\":\"rgb(36,36,36)\",\"ticks\":\"outside\"},\"colorscale\":[[0.0,\"#440154\"],[0.1111111111111111,\"#482878\"],[0.2222222222222222,\"#3e4989\"],[0.3333333333333333,\"#31688e\"],[0.4444444444444444,\"#26828e\"],[0.5555555555555556,\"#1f9e89\"],[0.6666666666666666,\"#35b779\"],[0.7777777777777778,\"#6ece58\"],[0.8888888888888888,\"#b5de2b\"],[1.0,\"#fde725\"]],\"type\":\"heatmapgl\"}],\"heatmap\":[{\"colorbar\":{\"outlinewidth\":1,\"tickcolor\":\"rgb(36,36,36)\",\"ticks\":\"outside\"},\"colorscale\":[[0.0,\"#440154\"],[0.1111111111111111,\"#482878\"],[0.2222222222222222,\"#3e4989\"],[0.3333333333333333,\"#31688e\"],[0.4444444444444444,\"#26828e\"],[0.5555555555555556,\"#1f9e89\"],[0.6666666666666666,\"#35b779\"],[0.7777777777777778,\"#6ece58\"],[0.8888888888888888,\"#b5de2b\"],[1.0,\"#fde725\"]],\"type\":\"heatmap\"}],\"histogram2dcontour\":[{\"colorbar\":{\"outlinewidth\":1,\"tickcolor\":\"rgb(36,36,36)\",\"ticks\":\"outside\"},\"colorscale\":[[0.0,\"#440154\"],[0.1111111111111111,\"#482878\"],[0.2222222222222222,\"#3e4989\"],[0.3333333333333333,\"#31688e\"],[0.4444444444444444,\"#26828e\"],[0.5555555555555556,\"#1f9e89\"],[0.6666666666666666,\"#35b779\"],[0.7777777777777778,\"#6ece58\"],[0.8888888888888888,\"#b5de2b\"],[1.0,\"#fde725\"]],\"type\":\"histogram2dcontour\"}],\"histogram2d\":[{\"colorbar\":{\"outlinewidth\":1,\"tickcolor\":\"rgb(36,36,36)\",\"ticks\":\"outside\"},\"colorscale\":[[0.0,\"#440154\"],[0.1111111111111111,\"#482878\"],[0.2222222222222222,\"#3e4989\"],[0.3333333333333333,\"#31688e\"],[0.4444444444444444,\"#26828e\"],[0.5555555555555556,\"#1f9e89\"],[0.6666666666666666,\"#35b779\"],[0.7777777777777778,\"#6ece58\"],[0.8888888888888888,\"#b5de2b\"],[1.0,\"#fde725\"]],\"type\":\"histogram2d\"}],\"histogram\":[{\"marker\":{\"line\":{\"color\":\"white\",\"width\":0.6}},\"type\":\"histogram\"}],\"mesh3d\":[{\"colorbar\":{\"outlinewidth\":1,\"tickcolor\":\"rgb(36,36,36)\",\"ticks\":\"outside\"},\"type\":\"mesh3d\"}],\"parcoords\":[{\"line\":{\"colorbar\":{\"outlinewidth\":1,\"tickcolor\":\"rgb(36,36,36)\",\"ticks\":\"outside\"}},\"type\":\"parcoords\"}],\"pie\":[{\"automargin\":true,\"type\":\"pie\"}],\"scatter3d\":[{\"line\":{\"colorbar\":{\"outlinewidth\":1,\"tickcolor\":\"rgb(36,36,36)\",\"ticks\":\"outside\"}},\"marker\":{\"colorbar\":{\"outlinewidth\":1,\"tickcolor\":\"rgb(36,36,36)\",\"ticks\":\"outside\"}},\"type\":\"scatter3d\"}],\"scattercarpet\":[{\"marker\":{\"colorbar\":{\"outlinewidth\":1,\"tickcolor\":\"rgb(36,36,36)\",\"ticks\":\"outside\"}},\"type\":\"scattercarpet\"}],\"scattergeo\":[{\"marker\":{\"colorbar\":{\"outlinewidth\":1,\"tickcolor\":\"rgb(36,36,36)\",\"ticks\":\"outside\"}},\"type\":\"scattergeo\"}],\"scattergl\":[{\"marker\":{\"colorbar\":{\"outlinewidth\":1,\"tickcolor\":\"rgb(36,36,36)\",\"ticks\":\"outside\"}},\"type\":\"scattergl\"}],\"scattermapbox\":[{\"marker\":{\"colorbar\":{\"outlinewidth\":1,\"tickcolor\":\"rgb(36,36,36)\",\"ticks\":\"outside\"}},\"type\":\"scattermapbox\"}],\"scatterpolargl\":[{\"marker\":{\"colorbar\":{\"outlinewidth\":1,\"tickcolor\":\"rgb(36,36,36)\",\"ticks\":\"outside\"}},\"type\":\"scatterpolargl\"}],\"scatterpolar\":[{\"marker\":{\"colorbar\":{\"outlinewidth\":1,\"tickcolor\":\"rgb(36,36,36)\",\"ticks\":\"outside\"}},\"type\":\"scatterpolar\"}],\"scatter\":[{\"fillpattern\":{\"fillmode\":\"overlay\",\"size\":10,\"solidity\":0.2},\"type\":\"scatter\"}],\"scatterternary\":[{\"marker\":{\"colorbar\":{\"outlinewidth\":1,\"tickcolor\":\"rgb(36,36,36)\",\"ticks\":\"outside\"}},\"type\":\"scatterternary\"}],\"surface\":[{\"colorbar\":{\"outlinewidth\":1,\"tickcolor\":\"rgb(36,36,36)\",\"ticks\":\"outside\"},\"colorscale\":[[0.0,\"#440154\"],[0.1111111111111111,\"#482878\"],[0.2222222222222222,\"#3e4989\"],[0.3333333333333333,\"#31688e\"],[0.4444444444444444,\"#26828e\"],[0.5555555555555556,\"#1f9e89\"],[0.6666666666666666,\"#35b779\"],[0.7777777777777778,\"#6ece58\"],[0.8888888888888888,\"#b5de2b\"],[1.0,\"#fde725\"]],\"type\":\"surface\"}],\"table\":[{\"cells\":{\"fill\":{\"color\":\"rgb(237,237,237)\"},\"line\":{\"color\":\"white\"}},\"header\":{\"fill\":{\"color\":\"rgb(217,217,217)\"},\"line\":{\"color\":\"white\"}},\"type\":\"table\"}]},\"layout\":{\"annotationdefaults\":{\"arrowhead\":0,\"arrowwidth\":1},\"autotypenumbers\":\"strict\",\"coloraxis\":{\"colorbar\":{\"outlinewidth\":1,\"tickcolor\":\"rgb(36,36,36)\",\"ticks\":\"outside\"}},\"colorscale\":{\"diverging\":[[0.0,\"rgb(103,0,31)\"],[0.1,\"rgb(178,24,43)\"],[0.2,\"rgb(214,96,77)\"],[0.3,\"rgb(244,165,130)\"],[0.4,\"rgb(253,219,199)\"],[0.5,\"rgb(247,247,247)\"],[0.6,\"rgb(209,229,240)\"],[0.7,\"rgb(146,197,222)\"],[0.8,\"rgb(67,147,195)\"],[0.9,\"rgb(33,102,172)\"],[1.0,\"rgb(5,48,97)\"]],\"sequential\":[[0.0,\"#440154\"],[0.1111111111111111,\"#482878\"],[0.2222222222222222,\"#3e4989\"],[0.3333333333333333,\"#31688e\"],[0.4444444444444444,\"#26828e\"],[0.5555555555555556,\"#1f9e89\"],[0.6666666666666666,\"#35b779\"],[0.7777777777777778,\"#6ece58\"],[0.8888888888888888,\"#b5de2b\"],[1.0,\"#fde725\"]],\"sequentialminus\":[[0.0,\"#440154\"],[0.1111111111111111,\"#482878\"],[0.2222222222222222,\"#3e4989\"],[0.3333333333333333,\"#31688e\"],[0.4444444444444444,\"#26828e\"],[0.5555555555555556,\"#1f9e89\"],[0.6666666666666666,\"#35b779\"],[0.7777777777777778,\"#6ece58\"],[0.8888888888888888,\"#b5de2b\"],[1.0,\"#fde725\"]]},\"colorway\":[\"#1F77B4\",\"#FF7F0E\",\"#2CA02C\",\"#D62728\",\"#9467BD\",\"#8C564B\",\"#E377C2\",\"#7F7F7F\",\"#BCBD22\",\"#17BECF\"],\"font\":{\"color\":\"rgb(36,36,36)\"},\"geo\":{\"bgcolor\":\"white\",\"lakecolor\":\"white\",\"landcolor\":\"white\",\"showlakes\":true,\"showland\":true,\"subunitcolor\":\"white\"},\"hoverlabel\":{\"align\":\"left\"},\"hovermode\":\"closest\",\"mapbox\":{\"style\":\"light\"},\"paper_bgcolor\":\"white\",\"plot_bgcolor\":\"white\",\"polar\":{\"angularaxis\":{\"gridcolor\":\"rgb(232,232,232)\",\"linecolor\":\"rgb(36,36,36)\",\"showgrid\":false,\"showline\":true,\"ticks\":\"outside\"},\"bgcolor\":\"white\",\"radialaxis\":{\"gridcolor\":\"rgb(232,232,232)\",\"linecolor\":\"rgb(36,36,36)\",\"showgrid\":false,\"showline\":true,\"ticks\":\"outside\"}},\"scene\":{\"xaxis\":{\"backgroundcolor\":\"white\",\"gridcolor\":\"rgb(232,232,232)\",\"gridwidth\":2,\"linecolor\":\"rgb(36,36,36)\",\"showbackground\":true,\"showgrid\":false,\"showline\":true,\"ticks\":\"outside\",\"zeroline\":false,\"zerolinecolor\":\"rgb(36,36,36)\"},\"yaxis\":{\"backgroundcolor\":\"white\",\"gridcolor\":\"rgb(232,232,232)\",\"gridwidth\":2,\"linecolor\":\"rgb(36,36,36)\",\"showbackground\":true,\"showgrid\":false,\"showline\":true,\"ticks\":\"outside\",\"zeroline\":false,\"zerolinecolor\":\"rgb(36,36,36)\"},\"zaxis\":{\"backgroundcolor\":\"white\",\"gridcolor\":\"rgb(232,232,232)\",\"gridwidth\":2,\"linecolor\":\"rgb(36,36,36)\",\"showbackground\":true,\"showgrid\":false,\"showline\":true,\"ticks\":\"outside\",\"zeroline\":false,\"zerolinecolor\":\"rgb(36,36,36)\"}},\"shapedefaults\":{\"fillcolor\":\"black\",\"line\":{\"width\":0},\"opacity\":0.3},\"ternary\":{\"aaxis\":{\"gridcolor\":\"rgb(232,232,232)\",\"linecolor\":\"rgb(36,36,36)\",\"showgrid\":false,\"showline\":true,\"ticks\":\"outside\"},\"baxis\":{\"gridcolor\":\"rgb(232,232,232)\",\"linecolor\":\"rgb(36,36,36)\",\"showgrid\":false,\"showline\":true,\"ticks\":\"outside\"},\"bgcolor\":\"white\",\"caxis\":{\"gridcolor\":\"rgb(232,232,232)\",\"linecolor\":\"rgb(36,36,36)\",\"showgrid\":false,\"showline\":true,\"ticks\":\"outside\"}},\"title\":{\"x\":0.05},\"xaxis\":{\"automargin\":true,\"gridcolor\":\"rgb(232,232,232)\",\"linecolor\":\"rgb(36,36,36)\",\"showgrid\":false,\"showline\":true,\"ticks\":\"outside\",\"title\":{\"standoff\":15},\"zeroline\":false,\"zerolinecolor\":\"rgb(36,36,36)\"},\"yaxis\":{\"automargin\":true,\"gridcolor\":\"rgb(232,232,232)\",\"linecolor\":\"rgb(36,36,36)\",\"showgrid\":false,\"showline\":true,\"ticks\":\"outside\",\"title\":{\"standoff\":15},\"zeroline\":false,\"zerolinecolor\":\"rgb(36,36,36)\"}}},\"xaxis\":{\"anchor\":\"y\",\"domain\":[0.0,1.0],\"title\":{\"text\":\"streams_in_millions\"}},\"yaxis\":{\"anchor\":\"x\",\"domain\":[0.0,1.0],\"title\":{\"text\":\"Artist Name\"}},\"coloraxis\":{\"colorbar\":{\"title\":{\"text\":\"streams_in_millions\"}},\"colorscale\":[[0.0,\"#440154\"],[0.1111111111111111,\"#482878\"],[0.2222222222222222,\"#3e4989\"],[0.3333333333333333,\"#31688e\"],[0.4444444444444444,\"#26828e\"],[0.5555555555555556,\"#1f9e89\"],[0.6666666666666666,\"#35b779\"],[0.7777777777777778,\"#6ece58\"],[0.8888888888888888,\"#b5de2b\"],[1.0,\"#fde725\"]]},\"legend\":{\"tracegroupgap\":0},\"title\":{\"text\":\"Top 10 Artists By Number of Streams\"},\"barmode\":\"relative\",\"height\":700,\"width\":1200},                        {\"responsive\": true}                    ).then(function(){\n",
       "                            \n",
       "var gd = document.getElementById('9fb89c03-30bf-4c3a-a301-97019cacbc29');\n",
       "var x = new MutationObserver(function (mutations, observer) {{\n",
       "        var display = window.getComputedStyle(gd).display;\n",
       "        if (!display || display === 'none') {{\n",
       "            console.log([gd, 'removed!']);\n",
       "            Plotly.purge(gd);\n",
       "            observer.disconnect();\n",
       "        }}\n",
       "}});\n",
       "\n",
       "// Listen for the removal of the full notebook cells\n",
       "var notebookContainer = gd.closest('#notebook-container');\n",
       "if (notebookContainer) {{\n",
       "    x.observe(notebookContainer, {childList: true});\n",
       "}}\n",
       "\n",
       "// Listen for the clearing of the current output cell\n",
       "var outputEl = gd.closest('.output');\n",
       "if (outputEl) {{\n",
       "    x.observe(outputEl, {childList: true});\n",
       "}}\n",
       "\n",
       "                        })                };                });            </script>        </div>"
      ]
     },
     "metadata": {},
     "output_type": "display_data"
    }
   ],
   "source": [
    "# Ploting top 10 atist by number of streams \n",
    "top_10_artist_by_streams_v = px.bar(top_10_artist_by_streams,y= 'artist(s)_name', x = 'streams_in_millions',template = 'simple_white',width = 1200, height = 700,\n",
    "                                    color = 'streams_in_millions',title = 'Top 10 Artists By Number of Streams',labels = {'artist(s)_name': 'Artist Name',\n",
    "                                        'streams': 'Number Of Streams'})\n",
    "top_10_artist_by_streams_v"
   ]
  },
  {
   "cell_type": "code",
   "execution_count": 19,
   "id": "1998f870",
   "metadata": {
    "execution": {
     "iopub.execute_input": "2024-03-25T17:13:11.812475Z",
     "iopub.status.busy": "2024-03-25T17:13:11.811982Z",
     "iopub.status.idle": "2024-03-25T17:13:11.827854Z",
     "shell.execute_reply": "2024-03-25T17:13:11.826372Z"
    },
    "papermill": {
     "duration": 0.030966,
     "end_time": "2024-03-25T17:13:11.830101",
     "exception": false,
     "start_time": "2024-03-25T17:13:11.799135",
     "status": "completed"
    },
    "tags": []
   },
   "outputs": [
    {
     "data": {
      "text/html": [
       "<div>\n",
       "<style scoped>\n",
       "    .dataframe tbody tr th:only-of-type {\n",
       "        vertical-align: middle;\n",
       "    }\n",
       "\n",
       "    .dataframe tbody tr th {\n",
       "        vertical-align: top;\n",
       "    }\n",
       "\n",
       "    .dataframe thead th {\n",
       "        text-align: right;\n",
       "    }\n",
       "</style>\n",
       "<table border=\"1\" class=\"dataframe\">\n",
       "  <thead>\n",
       "    <tr style=\"text-align: right;\">\n",
       "      <th></th>\n",
       "      <th>artist(s)_name</th>\n",
       "      <th>artist_count</th>\n",
       "      <th>streams_in_millions</th>\n",
       "    </tr>\n",
       "  </thead>\n",
       "  <tbody>\n",
       "    <tr>\n",
       "      <th>0</th>\n",
       "      <td>Latto, Jung Kook</td>\n",
       "      <td>2</td>\n",
       "      <td>141.38</td>\n",
       "    </tr>\n",
       "    <tr>\n",
       "      <th>1</th>\n",
       "      <td>Myke Towers</td>\n",
       "      <td>1</td>\n",
       "      <td>133.72</td>\n",
       "    </tr>\n",
       "    <tr>\n",
       "      <th>2</th>\n",
       "      <td>Olivia Rodrigo</td>\n",
       "      <td>1</td>\n",
       "      <td>140.00</td>\n",
       "    </tr>\n",
       "    <tr>\n",
       "      <th>3</th>\n",
       "      <td>Taylor Swift</td>\n",
       "      <td>1</td>\n",
       "      <td>800.84</td>\n",
       "    </tr>\n",
       "    <tr>\n",
       "      <th>4</th>\n",
       "      <td>Bad Bunny</td>\n",
       "      <td>1</td>\n",
       "      <td>303.24</td>\n",
       "    </tr>\n",
       "    <tr>\n",
       "      <th>...</th>\n",
       "      <td>...</td>\n",
       "      <td>...</td>\n",
       "      <td>...</td>\n",
       "    </tr>\n",
       "    <tr>\n",
       "      <th>948</th>\n",
       "      <td>Selena Gomez</td>\n",
       "      <td>1</td>\n",
       "      <td>91.47</td>\n",
       "    </tr>\n",
       "    <tr>\n",
       "      <th>949</th>\n",
       "      <td>Taylor Swift</td>\n",
       "      <td>1</td>\n",
       "      <td>121.87</td>\n",
       "    </tr>\n",
       "    <tr>\n",
       "      <th>950</th>\n",
       "      <td>Feid, Paulo Londra</td>\n",
       "      <td>2</td>\n",
       "      <td>73.51</td>\n",
       "    </tr>\n",
       "    <tr>\n",
       "      <th>951</th>\n",
       "      <td>Feid, Sech, Jhayco</td>\n",
       "      <td>3</td>\n",
       "      <td>133.90</td>\n",
       "    </tr>\n",
       "    <tr>\n",
       "      <th>952</th>\n",
       "      <td>Burna Boy</td>\n",
       "      <td>1</td>\n",
       "      <td>96.01</td>\n",
       "    </tr>\n",
       "  </tbody>\n",
       "</table>\n",
       "<p>952 rows × 3 columns</p>\n",
       "</div>"
      ],
      "text/plain": [
       "         artist(s)_name  artist_count  streams_in_millions\n",
       "0      Latto, Jung Kook             2               141.38\n",
       "1           Myke Towers             1               133.72\n",
       "2        Olivia Rodrigo             1               140.00\n",
       "3          Taylor Swift             1               800.84\n",
       "4             Bad Bunny             1               303.24\n",
       "..                  ...           ...                  ...\n",
       "948        Selena Gomez             1                91.47\n",
       "949        Taylor Swift             1               121.87\n",
       "950  Feid, Paulo Londra             2                73.51\n",
       "951  Feid, Sech, Jhayco             3               133.90\n",
       "952           Burna Boy             1                96.01\n",
       "\n",
       "[952 rows x 3 columns]"
      ]
     },
     "execution_count": 19,
     "metadata": {},
     "output_type": "execute_result"
    }
   ],
   "source": [
    "# How Featuring songs affect numbers of streams \n",
    "featuring_songs = sp.filter(items =['artist(s)_name','artist_count','streams_in_millions'],axis = 1)\n",
    "featuring_songs"
   ]
  },
  {
   "cell_type": "code",
   "execution_count": 20,
   "id": "0c532d02",
   "metadata": {
    "execution": {
     "iopub.execute_input": "2024-03-25T17:13:11.856094Z",
     "iopub.status.busy": "2024-03-25T17:13:11.855615Z",
     "iopub.status.idle": "2024-03-25T17:13:12.019748Z",
     "shell.execute_reply": "2024-03-25T17:13:12.018047Z"
    },
    "papermill": {
     "duration": 0.182097,
     "end_time": "2024-03-25T17:13:12.023996",
     "exception": false,
     "start_time": "2024-03-25T17:13:11.841899",
     "status": "completed"
    },
    "tags": []
   },
   "outputs": [
    {
     "data": {
      "text/html": [
       "<div>                            <div id=\"e8c22ce2-2fb0-4e06-90ad-e4d69d7bddc5\" class=\"plotly-graph-div\" style=\"height:700px; width:1200px;\"></div>            <script type=\"text/javascript\">                require([\"plotly\"], function(Plotly) {                    window.PLOTLYENV=window.PLOTLYENV || {};                                    if (document.getElementById(\"e8c22ce2-2fb0-4e06-90ad-e4d69d7bddc5\")) {                    Plotly.newPlot(                        \"e8c22ce2-2fb0-4e06-90ad-e4d69d7bddc5\",                        [{\"hovertemplate\":\"Number of Artist=%{x}\\u003cbr\\u003eNumber Of Streams In Millions=%{marker.color}\\u003cextra\\u003e\\u003c\\u002fextra\\u003e\",\"legendgroup\":\"\",\"marker\":{\"color\":[141.38,133.72,140.0,800.84,303.24,183.71,725.98,58.15,95.22,553.63,505.67,58.26,1316.86,387.57,2513.19,1163.09,496.8,30.55,335.22,363.37,86.44,52.14,1297.03,200.65,115.36,78.3,899.18,61.25,429.83,127.41,22.58,52.29,843.96,999.75,618.99,123.12,188.93,1355.96,786.18,176.55,354.5,2808.1,1109.43,1047.1,65.16,570.52,1085.69,1647.99,2565.53,518.75,107.75,177.74,153.37,57.88,1813.67,3703.9,256.48,1214.08,16.01,812.02,111.95,156.34,720.43,357.93,674.07,1755.21,404.56,373.2,14.78,39.58,54.27,2557.98,751.13,2282.77,1356.57,1592.91,635.41,1230.68,585.7,43.86,2009.09,600.98,39.71,39.23,2665.34,223.63,2887.24,1440.76,165.48,58.05,157.06,95.13,250.31,685.03,38.41,144.57,127.57,399.69,983.64,118.48,882.83,286.4,172.83,1241.56,29.56,77.31,1605.22,1117.0,838.08,1163.62,1093.61,179.66,39.06,36.91,1205.95,1791.0,201.66,248.09,90.84,607.12,55.84,211.05,342.9,0.0,330.35,601.86,1953.53,2322.58,2355.72,66.9,96.27,430.98,284.82,721.98,1217.12,109.28,276.26,54.23,2559.53,681.58,2594.04,81.1,11.96,1687.66,11.6,611.7,1133.87,1089.4,411.75,255.93,31.87,95.05,1279.43,233.8,1481.35,142.1,618.89,2011.46,1167.33,929.96,436.03,657.72,2713.92,621.66,1591.22,950.91,1593.27,1410.09,1235.01,1661.19,1374.58,94.19,1788.33,1840.36,143.57,684.68,1113.84,1267.33,726.31,3562.54,1131.09,307.37,1271.29,265.88,841.75,47.96,806.4,2132.34,1641.43,2135.16,367.32,350.38,1264.31,30.34,405.14,1145.73,540.65,57.31,397.58,1479.12,86.77,133.75,123.12,463.56,64.53,65.5,68.62,161.46,70.11,113.51,89.93,71.01,43.52,232.9,37.13,195.58,532.34,538.12,46.14,401.04,127.03,345.03,288.1,60.35,335.07,76.77,46.07,459.28,39.67,138.52,822.63,595.9,51.99,57.95,115.01,175.1,57.09,488.39,32.76,1047.48,153.45,217.67,457.18,939.84,726.43,573.63,1406.11,71.57,24.98,145.46,1424.59,231.33,415.93,988.52,50.85,39.89,92.04,118.81,77.23,206.4,117.75,266.62,293.19,139.68,123.13,103.76,162.89,91.22,190.49,96.18,185.24,885.09,104.99,147.29,1302.18,158.95,76.91,137.12,782.37,502.57,207.03,404.89,381.16,466.23,357.58,61.11,198.28,168.45,705.47,34.5,482.18,304.12,1449.8,173.63,90.03,652.7,1829.99,655.47,146.41,95.82,117.21,100.41,80.76,325.59,58.47,52.72,191.95,77.38,743.69,267.79,1221.81,449.7,67.07,116.33,433.36,165.58,367.81,477.03,156.21,448.84,1357.61,294.35,972.16,920.05,2420.46,1947.37,244.66,68.22,223.58,471.82,272.38,1361.43,149.78,116.6,148.47,497.23,88.79,125.92,105.06,95.62,144.58,298.06,166.57,83.02,139.84,303.22,221.41,58.89,81.42,156.78,284.91,93.44,363.47,372.48,380.73,56.53,175.4,203.22,1624.17,134.29,70.07,609.29,671.37,362.36,93.59,1223.48,1022.26,263.45,1435.13,236.86,147.54,698.09,723.89,34.45,403.1,309.48,319.57,909.0,1061.97,32.53,124.99,103.79,134.26,301.05,156.34,152.85,309.65,297.33,332.51,480.51,1065.58,122.76,445.76,1.37,184.31,789.75,323.36,606.36,120.97,338.56,1606.99,1301.8,140.19,1897.52,107.64,551.31,556.59,2303.03,646.89,222.61,1814.35,872.14,571.39,304.08,174.01,284.79,163.28,246.39,482.26,168.68,78.49,195.52,1260.59,428.69,1024.86,838.59,199.39,972.51,213.44,1555.51,210.04,227.92,826.62,1802.51,1329.09,181.83,462.79,348.65,366.6,90.6,1479.26,1449.78,1159.18,769.21,741.3,807.56,834.13,663.83,446.39,690.1,485.29,520.03,476.24,629.17,404.66,98.71,110.85,460.49,94.01,395.59,389.77,403.94,481.7,110.07,88.09,351.64,473.25,73.98,155.65,395.59,429.5,242.77,65.36,67.54,62.02,135.72,296.0,261.12,136.69,135.61,356.71,110.65,301.87,127.03,57.14,56.87,323.44,317.73,116.14,328.21,608.23,180.58,809.31,49.26,614.56,245.35,178.66,51.64,78.14,322.34,1007.61,326.79,391.25,349.59,339.66,674.77,432.72,1309.89,119.24,116.9,888.05,200.66,130.66,1887.04,88.1,101.11,1575.47,91.66,1042.57,1735.44,726.84,53.93,267.76,74.6,920.8,539.6,1367.81,578.21,775.54,863.63,656.01,1056.76,611.99,1230.86,582.98,1858.14,240.68,583.69,63.8,466.21,236.94,41.92,225.26,393.23,287.2,599.77,342.78,673.8,1168.64,540.54,383.55,530.51,37.31,510.88,1445.94,1763.36,374.19,108.81,436.7,421.04,501.54,354.07,1143.65,311.4,672.66,1256.88,1692.9,245.1,686.73,261.41,610.05,1115.88,594.48,566.95,374.71,184.94,31.96,167.08,824.42,363.47,1127.47,60.68,247.74,1699.4,154.8,198.88,124.41,850.61,376.33,516.78,1608.05,506.78,1472.8,513.64,261.29,783.71,422.69,1062.35,1252.56,851.07,263.89,345.9,951.64,956.87,427.49,156.66,624.52,777.77,412.8,1138.47,355.22,290.23,1062.96,1180.09,1456.08,432.7,489.95,465.96,1223.48,2864.79,2288.7,720.83,2086.12,1690.19,991.34,593.92,200.97,71.01,560.22,1806.62,77.34,528.54,865.64,2159.35,211.37,651.73,608.33,863.76,797.4,1695.71,1759.57,223.32,54.94,226.9,258.32,596.15,177.13,716.59,1210.6,246.38,496.31,146.79,843.31,500.34,107.26,135.08,822.24,1202.72,343.2,240.77,426.2,421.14,554.88,467.73,327.5,185.41,245.4,579.4,675.04,252.87,232.0,1929.77,918.92,1180.9,498.96,685.07,258.71,143.14,209.77,64.71,50.75,154.12,181.33,370.07,2280.57,563.9,317.62,291.71,203.68,81.35,282.88,64.79,2484.81,461.44,1439.19,759.21,368.65,299.63,756.91,682.48,546.19,229.47,202.68,121.91,208.17,527.03,94.62,394.03,193.44,299.65,182.98,319.76,109.09,153.24,346.13,312.62,2197.01,1200.81,797.2,1970.67,665.77,263.78,339.47,2204.08,2591.22,135.44,1457.14,236.87,694.53,240.66,421.37,349.75,255.12,190.98,924.19,305.77,273.01,89.57,677.39,75.48,408.84,187.77,178.51,101.78,118.38,146.36,126.44,157.99,176.29,1023.19,106.93,139.19,212.23,1714.49,197.64,807.02,933.82,499.71,120.85,53.91,2236.67,2123.31,301.24,723.89,237.35,461.56,417.23,156.9,127.31,313.11,173.7,271.67,305.65,123.22,479.66,126.19,344.06,338.42,68.9,86.18,403.23,319.55,61.74,283.36,76.83,283.33,307.75,279.74,212.35,1304.31,150.5,246.13,582.86,58.69,212.11,382.2,41.21,231.66,53.73,244.74,42.49,37.78,254.22,53.6,160.04,164.16,37.09,284.25,33.38,184.62,300.98,121.08,106.92,137.0,65.72,229.5,185.55,54.68,240.58,1284.94,71.42,244.89,132.17,184.71,184.83,302.01,330.88,334.73,366.21,114.55,290.83,448.5,136.68,190.63,79.1,273.19,333.15,194.9,311.48,195.92,248.51,233.67,199.59,91.78,383.84,236.06,189.24,160.85,588.96,238.35,187.7,295.31,138.33,445.59,286.74,1122.36,157.14,137.07,183.27,184.81,164.86,704.17,354.61,279.72,195.63,221.75,263.28,213.51,130.42,155.8,1553.5,293.47,711.37,191.45,85.92,176.1,121.19,131.75,244.79,129.31,331.51,219.2,170.73,273.91,179.06,185.24,171.79,387.08,264.72,244.93,97.61,287.28,887.91,123.47,295.15,323.46,240.92,191.87,284.22,239.41,265.55,703.3,244.59,189.48,277.13,278.92,222.41,185.39,202.45,1608.16,624.1,148.46,47.09,380.32,209.11,53.99,115.33,225.09,84.7,159.24,170.71,154.36,723.04,247.69,176.47,235.55,140.43,85.56,146.22,187.7,154.86,191.33,253.65,223.06,170.41,218.32,141.72,187.34,198.37,186.1,177.5,71.1,112.44,203.44,93.37,106.25,181.38,91.47,121.87,73.51,133.9,96.01],\"coloraxis\":\"coloraxis\",\"symbol\":\"circle\"},\"mode\":\"markers\",\"name\":\"\",\"orientation\":\"v\",\"showlegend\":false,\"x\":[2,1,1,1,1,2,2,1,1,2,2,1,1,1,1,1,1,1,2,1,3,1,1,2,3,1,2,2,1,1,1,2,3,1,2,8,2,1,1,1,2,2,2,3,3,1,1,1,2,2,3,3,1,1,1,1,1,1,1,1,2,2,3,2,2,1,1,1,1,1,2,1,1,1,2,1,1,2,2,1,1,2,2,1,2,2,1,2,1,2,1,1,2,1,1,2,1,1,1,1,1,3,1,1,1,1,3,1,1,1,2,1,2,1,1,1,1,2,3,1,2,2,1,2,1,1,3,1,2,2,1,1,1,2,1,4,3,5,1,1,1,4,2,1,3,2,2,1,1,1,1,1,2,2,1,3,2,1,1,1,2,1,3,1,1,1,1,1,2,1,1,3,1,1,1,1,1,1,1,1,1,2,1,1,1,1,1,1,1,1,2,1,1,1,1,1,1,4,1,1,4,5,1,3,3,1,1,2,2,2,2,2,2,1,3,1,2,2,2,3,2,1,2,2,1,1,2,1,2,2,1,1,2,2,2,1,2,1,5,1,1,1,1,1,1,2,1,2,2,1,1,3,1,1,3,1,2,1,2,1,1,2,1,1,1,1,2,1,1,2,1,1,2,2,1,2,2,1,1,1,3,1,1,1,1,2,2,1,2,2,1,2,1,1,2,2,1,2,3,2,1,2,2,2,2,1,1,2,1,1,2,1,1,2,1,1,1,2,1,1,2,2,1,1,1,1,1,1,5,3,1,1,2,2,1,2,1,1,3,1,1,1,1,1,2,1,2,2,1,1,1,2,1,1,2,1,1,1,1,1,1,2,1,1,2,4,1,2,2,2,1,1,1,1,1,2,1,1,2,1,1,3,1,1,1,2,1,1,1,1,2,1,1,6,2,1,3,2,3,1,1,1,6,2,1,1,3,1,1,2,2,1,1,2,3,1,1,1,1,1,3,3,1,1,1,1,1,2,2,1,1,1,1,2,1,1,2,1,3,3,2,1,1,1,1,1,1,1,1,1,1,1,1,1,1,1,1,4,2,1,1,1,1,2,1,1,2,1,2,3,1,1,1,1,1,2,3,1,2,1,1,2,1,1,1,1,2,1,4,1,2,2,2,1,2,1,1,1,2,2,1,1,1,3,1,2,7,1,1,1,1,1,1,1,3,1,2,2,1,1,1,1,1,1,1,2,1,2,3,1,2,1,2,2,1,1,3,1,1,1,4,1,1,3,1,1,1,2,1,3,3,3,1,1,3,2,2,1,3,3,1,3,1,3,2,1,1,1,2,2,3,3,3,2,2,3,1,1,1,1,1,2,1,2,2,1,1,1,1,1,1,1,1,1,2,1,3,1,1,1,2,1,1,2,4,1,1,1,1,1,2,1,1,1,1,1,3,1,3,1,1,2,1,1,1,2,2,1,2,1,1,3,1,2,1,2,1,4,1,2,1,8,2,2,2,2,3,2,2,1,1,2,2,1,3,2,1,1,1,1,2,1,1,1,3,1,7,3,2,2,1,1,2,2,1,1,1,2,2,2,1,1,1,1,1,1,1,2,1,2,1,2,2,2,1,2,1,2,2,1,1,1,1,1,2,1,2,1,1,1,1,1,2,2,1,1,1,1,1,1,1,1,1,2,2,1,2,2,1,1,1,2,1,1,1,1,3,1,1,2,1,3,3,1,3,1,1,1,4,1,2,1,1,1,2,1,3,1,6,1,1,1,1,1,3,1,1,1,2,1,1,2,1,2,2,1,2,1,2,3,1,2,1,1,3,1,2,1,1,2,1,1,1,2,2,1,1,1,1,1,1,1,1,1,1,2,1,2,2,2,2,2,2,1,1,1,1,1,2,1,1,1,1,1,1,1,1,1,1,1,1,1,4,3,1,1,4,2,1,1,2,1,1,1,2,1,1,2,1,1,1,2,2,1,3,1,1,1,1,1,1,1,1,5,1,1,1,1,2,1,1,1,1,1,3,3,3,1,1,3,1,3,3,1,1,1,1,1,1,1,1,2,1,4,2,2,3,3,2,1,1,1,2,1,1,1,1,1,1,1,1,1,2,1,2,1,1,1,2,4,1,1,1,1,1,1,2,1,3,3,2,3,1,1,2,1,2,1,2,1,1,2,2,1,1,2,1,1,1,2,3,1],\"xaxis\":\"x\",\"y\":[141.38,133.72,140.0,800.84,303.24,183.71,725.98,58.15,95.22,553.63,505.67,58.26,1316.86,387.57,2513.19,1163.09,496.8,30.55,335.22,363.37,86.44,52.14,1297.03,200.65,115.36,78.3,899.18,61.25,429.83,127.41,22.58,52.29,843.96,999.75,618.99,123.12,188.93,1355.96,786.18,176.55,354.5,2808.1,1109.43,1047.1,65.16,570.52,1085.69,1647.99,2565.53,518.75,107.75,177.74,153.37,57.88,1813.67,3703.9,256.48,1214.08,16.01,812.02,111.95,156.34,720.43,357.93,674.07,1755.21,404.56,373.2,14.78,39.58,54.27,2557.98,751.13,2282.77,1356.57,1592.91,635.41,1230.68,585.7,43.86,2009.09,600.98,39.71,39.23,2665.34,223.63,2887.24,1440.76,165.48,58.05,157.06,95.13,250.31,685.03,38.41,144.57,127.57,399.69,983.64,118.48,882.83,286.4,172.83,1241.56,29.56,77.31,1605.22,1117.0,838.08,1163.62,1093.61,179.66,39.06,36.91,1205.95,1791.0,201.66,248.09,90.84,607.12,55.84,211.05,342.9,0.0,330.35,601.86,1953.53,2322.58,2355.72,66.9,96.27,430.98,284.82,721.98,1217.12,109.28,276.26,54.23,2559.53,681.58,2594.04,81.1,11.96,1687.66,11.6,611.7,1133.87,1089.4,411.75,255.93,31.87,95.05,1279.43,233.8,1481.35,142.1,618.89,2011.46,1167.33,929.96,436.03,657.72,2713.92,621.66,1591.22,950.91,1593.27,1410.09,1235.01,1661.19,1374.58,94.19,1788.33,1840.36,143.57,684.68,1113.84,1267.33,726.31,3562.54,1131.09,307.37,1271.29,265.88,841.75,47.96,806.4,2132.34,1641.43,2135.16,367.32,350.38,1264.31,30.34,405.14,1145.73,540.65,57.31,397.58,1479.12,86.77,133.75,123.12,463.56,64.53,65.5,68.62,161.46,70.11,113.51,89.93,71.01,43.52,232.9,37.13,195.58,532.34,538.12,46.14,401.04,127.03,345.03,288.1,60.35,335.07,76.77,46.07,459.28,39.67,138.52,822.63,595.9,51.99,57.95,115.01,175.1,57.09,488.39,32.76,1047.48,153.45,217.67,457.18,939.84,726.43,573.63,1406.11,71.57,24.98,145.46,1424.59,231.33,415.93,988.52,50.85,39.89,92.04,118.81,77.23,206.4,117.75,266.62,293.19,139.68,123.13,103.76,162.89,91.22,190.49,96.18,185.24,885.09,104.99,147.29,1302.18,158.95,76.91,137.12,782.37,502.57,207.03,404.89,381.16,466.23,357.58,61.11,198.28,168.45,705.47,34.5,482.18,304.12,1449.8,173.63,90.03,652.7,1829.99,655.47,146.41,95.82,117.21,100.41,80.76,325.59,58.47,52.72,191.95,77.38,743.69,267.79,1221.81,449.7,67.07,116.33,433.36,165.58,367.81,477.03,156.21,448.84,1357.61,294.35,972.16,920.05,2420.46,1947.37,244.66,68.22,223.58,471.82,272.38,1361.43,149.78,116.6,148.47,497.23,88.79,125.92,105.06,95.62,144.58,298.06,166.57,83.02,139.84,303.22,221.41,58.89,81.42,156.78,284.91,93.44,363.47,372.48,380.73,56.53,175.4,203.22,1624.17,134.29,70.07,609.29,671.37,362.36,93.59,1223.48,1022.26,263.45,1435.13,236.86,147.54,698.09,723.89,34.45,403.1,309.48,319.57,909.0,1061.97,32.53,124.99,103.79,134.26,301.05,156.34,152.85,309.65,297.33,332.51,480.51,1065.58,122.76,445.76,1.37,184.31,789.75,323.36,606.36,120.97,338.56,1606.99,1301.8,140.19,1897.52,107.64,551.31,556.59,2303.03,646.89,222.61,1814.35,872.14,571.39,304.08,174.01,284.79,163.28,246.39,482.26,168.68,78.49,195.52,1260.59,428.69,1024.86,838.59,199.39,972.51,213.44,1555.51,210.04,227.92,826.62,1802.51,1329.09,181.83,462.79,348.65,366.6,90.6,1479.26,1449.78,1159.18,769.21,741.3,807.56,834.13,663.83,446.39,690.1,485.29,520.03,476.24,629.17,404.66,98.71,110.85,460.49,94.01,395.59,389.77,403.94,481.7,110.07,88.09,351.64,473.25,73.98,155.65,395.59,429.5,242.77,65.36,67.54,62.02,135.72,296.0,261.12,136.69,135.61,356.71,110.65,301.87,127.03,57.14,56.87,323.44,317.73,116.14,328.21,608.23,180.58,809.31,49.26,614.56,245.35,178.66,51.64,78.14,322.34,1007.61,326.79,391.25,349.59,339.66,674.77,432.72,1309.89,119.24,116.9,888.05,200.66,130.66,1887.04,88.1,101.11,1575.47,91.66,1042.57,1735.44,726.84,53.93,267.76,74.6,920.8,539.6,1367.81,578.21,775.54,863.63,656.01,1056.76,611.99,1230.86,582.98,1858.14,240.68,583.69,63.8,466.21,236.94,41.92,225.26,393.23,287.2,599.77,342.78,673.8,1168.64,540.54,383.55,530.51,37.31,510.88,1445.94,1763.36,374.19,108.81,436.7,421.04,501.54,354.07,1143.65,311.4,672.66,1256.88,1692.9,245.1,686.73,261.41,610.05,1115.88,594.48,566.95,374.71,184.94,31.96,167.08,824.42,363.47,1127.47,60.68,247.74,1699.4,154.8,198.88,124.41,850.61,376.33,516.78,1608.05,506.78,1472.8,513.64,261.29,783.71,422.69,1062.35,1252.56,851.07,263.89,345.9,951.64,956.87,427.49,156.66,624.52,777.77,412.8,1138.47,355.22,290.23,1062.96,1180.09,1456.08,432.7,489.95,465.96,1223.48,2864.79,2288.7,720.83,2086.12,1690.19,991.34,593.92,200.97,71.01,560.22,1806.62,77.34,528.54,865.64,2159.35,211.37,651.73,608.33,863.76,797.4,1695.71,1759.57,223.32,54.94,226.9,258.32,596.15,177.13,716.59,1210.6,246.38,496.31,146.79,843.31,500.34,107.26,135.08,822.24,1202.72,343.2,240.77,426.2,421.14,554.88,467.73,327.5,185.41,245.4,579.4,675.04,252.87,232.0,1929.77,918.92,1180.9,498.96,685.07,258.71,143.14,209.77,64.71,50.75,154.12,181.33,370.07,2280.57,563.9,317.62,291.71,203.68,81.35,282.88,64.79,2484.81,461.44,1439.19,759.21,368.65,299.63,756.91,682.48,546.19,229.47,202.68,121.91,208.17,527.03,94.62,394.03,193.44,299.65,182.98,319.76,109.09,153.24,346.13,312.62,2197.01,1200.81,797.2,1970.67,665.77,263.78,339.47,2204.08,2591.22,135.44,1457.14,236.87,694.53,240.66,421.37,349.75,255.12,190.98,924.19,305.77,273.01,89.57,677.39,75.48,408.84,187.77,178.51,101.78,118.38,146.36,126.44,157.99,176.29,1023.19,106.93,139.19,212.23,1714.49,197.64,807.02,933.82,499.71,120.85,53.91,2236.67,2123.31,301.24,723.89,237.35,461.56,417.23,156.9,127.31,313.11,173.7,271.67,305.65,123.22,479.66,126.19,344.06,338.42,68.9,86.18,403.23,319.55,61.74,283.36,76.83,283.33,307.75,279.74,212.35,1304.31,150.5,246.13,582.86,58.69,212.11,382.2,41.21,231.66,53.73,244.74,42.49,37.78,254.22,53.6,160.04,164.16,37.09,284.25,33.38,184.62,300.98,121.08,106.92,137.0,65.72,229.5,185.55,54.68,240.58,1284.94,71.42,244.89,132.17,184.71,184.83,302.01,330.88,334.73,366.21,114.55,290.83,448.5,136.68,190.63,79.1,273.19,333.15,194.9,311.48,195.92,248.51,233.67,199.59,91.78,383.84,236.06,189.24,160.85,588.96,238.35,187.7,295.31,138.33,445.59,286.74,1122.36,157.14,137.07,183.27,184.81,164.86,704.17,354.61,279.72,195.63,221.75,263.28,213.51,130.42,155.8,1553.5,293.47,711.37,191.45,85.92,176.1,121.19,131.75,244.79,129.31,331.51,219.2,170.73,273.91,179.06,185.24,171.79,387.08,264.72,244.93,97.61,287.28,887.91,123.47,295.15,323.46,240.92,191.87,284.22,239.41,265.55,703.3,244.59,189.48,277.13,278.92,222.41,185.39,202.45,1608.16,624.1,148.46,47.09,380.32,209.11,53.99,115.33,225.09,84.7,159.24,170.71,154.36,723.04,247.69,176.47,235.55,140.43,85.56,146.22,187.7,154.86,191.33,253.65,223.06,170.41,218.32,141.72,187.34,198.37,186.1,177.5,71.1,112.44,203.44,93.37,106.25,181.38,91.47,121.87,73.51,133.9,96.01],\"yaxis\":\"y\",\"type\":\"scatter\"}],                        {\"template\":{\"data\":{\"barpolar\":[{\"marker\":{\"line\":{\"color\":\"rgb(234,234,242)\",\"width\":0.5},\"pattern\":{\"fillmode\":\"overlay\",\"size\":10,\"solidity\":0.2}},\"type\":\"barpolar\"}],\"bar\":[{\"error_x\":{\"color\":\"rgb(36,36,36)\"},\"error_y\":{\"color\":\"rgb(36,36,36)\"},\"marker\":{\"line\":{\"color\":\"rgb(234,234,242)\",\"width\":0.5},\"pattern\":{\"fillmode\":\"overlay\",\"size\":10,\"solidity\":0.2}},\"type\":\"bar\"}],\"carpet\":[{\"aaxis\":{\"endlinecolor\":\"rgb(36,36,36)\",\"gridcolor\":\"white\",\"linecolor\":\"white\",\"minorgridcolor\":\"white\",\"startlinecolor\":\"rgb(36,36,36)\"},\"baxis\":{\"endlinecolor\":\"rgb(36,36,36)\",\"gridcolor\":\"white\",\"linecolor\":\"white\",\"minorgridcolor\":\"white\",\"startlinecolor\":\"rgb(36,36,36)\"},\"type\":\"carpet\"}],\"choropleth\":[{\"colorbar\":{\"outlinewidth\":0,\"tickcolor\":\"rgb(36,36,36)\",\"ticklen\":8,\"ticks\":\"outside\",\"tickwidth\":2},\"type\":\"choropleth\"}],\"contourcarpet\":[{\"colorbar\":{\"outlinewidth\":0,\"tickcolor\":\"rgb(36,36,36)\",\"ticklen\":8,\"ticks\":\"outside\",\"tickwidth\":2},\"type\":\"contourcarpet\"}],\"contour\":[{\"colorbar\":{\"outlinewidth\":0,\"tickcolor\":\"rgb(36,36,36)\",\"ticklen\":8,\"ticks\":\"outside\",\"tickwidth\":2},\"colorscale\":[[0.0,\"rgb(2,4,25)\"],[0.06274509803921569,\"rgb(24,15,41)\"],[0.12549019607843137,\"rgb(47,23,57)\"],[0.18823529411764706,\"rgb(71,28,72)\"],[0.25098039215686274,\"rgb(97,30,82)\"],[0.3137254901960784,\"rgb(123,30,89)\"],[0.3764705882352941,\"rgb(150,27,91)\"],[0.4392156862745098,\"rgb(177,22,88)\"],[0.5019607843137255,\"rgb(203,26,79)\"],[0.5647058823529412,\"rgb(223,47,67)\"],[0.6274509803921569,\"rgb(236,76,61)\"],[0.6901960784313725,\"rgb(242,107,73)\"],[0.7529411764705882,\"rgb(244,135,95)\"],[0.8156862745098039,\"rgb(245,162,122)\"],[0.8784313725490196,\"rgb(246,188,153)\"],[0.9411764705882353,\"rgb(247,212,187)\"],[1.0,\"rgb(250,234,220)\"]],\"type\":\"contour\"}],\"heatmapgl\":[{\"colorbar\":{\"outlinewidth\":0,\"tickcolor\":\"rgb(36,36,36)\",\"ticklen\":8,\"ticks\":\"outside\",\"tickwidth\":2},\"colorscale\":[[0.0,\"rgb(2,4,25)\"],[0.06274509803921569,\"rgb(24,15,41)\"],[0.12549019607843137,\"rgb(47,23,57)\"],[0.18823529411764706,\"rgb(71,28,72)\"],[0.25098039215686274,\"rgb(97,30,82)\"],[0.3137254901960784,\"rgb(123,30,89)\"],[0.3764705882352941,\"rgb(150,27,91)\"],[0.4392156862745098,\"rgb(177,22,88)\"],[0.5019607843137255,\"rgb(203,26,79)\"],[0.5647058823529412,\"rgb(223,47,67)\"],[0.6274509803921569,\"rgb(236,76,61)\"],[0.6901960784313725,\"rgb(242,107,73)\"],[0.7529411764705882,\"rgb(244,135,95)\"],[0.8156862745098039,\"rgb(245,162,122)\"],[0.8784313725490196,\"rgb(246,188,153)\"],[0.9411764705882353,\"rgb(247,212,187)\"],[1.0,\"rgb(250,234,220)\"]],\"type\":\"heatmapgl\"}],\"heatmap\":[{\"colorbar\":{\"outlinewidth\":0,\"tickcolor\":\"rgb(36,36,36)\",\"ticklen\":8,\"ticks\":\"outside\",\"tickwidth\":2},\"colorscale\":[[0.0,\"rgb(2,4,25)\"],[0.06274509803921569,\"rgb(24,15,41)\"],[0.12549019607843137,\"rgb(47,23,57)\"],[0.18823529411764706,\"rgb(71,28,72)\"],[0.25098039215686274,\"rgb(97,30,82)\"],[0.3137254901960784,\"rgb(123,30,89)\"],[0.3764705882352941,\"rgb(150,27,91)\"],[0.4392156862745098,\"rgb(177,22,88)\"],[0.5019607843137255,\"rgb(203,26,79)\"],[0.5647058823529412,\"rgb(223,47,67)\"],[0.6274509803921569,\"rgb(236,76,61)\"],[0.6901960784313725,\"rgb(242,107,73)\"],[0.7529411764705882,\"rgb(244,135,95)\"],[0.8156862745098039,\"rgb(245,162,122)\"],[0.8784313725490196,\"rgb(246,188,153)\"],[0.9411764705882353,\"rgb(247,212,187)\"],[1.0,\"rgb(250,234,220)\"]],\"type\":\"heatmap\"}],\"histogram2dcontour\":[{\"colorbar\":{\"outlinewidth\":0,\"tickcolor\":\"rgb(36,36,36)\",\"ticklen\":8,\"ticks\":\"outside\",\"tickwidth\":2},\"colorscale\":[[0.0,\"rgb(2,4,25)\"],[0.06274509803921569,\"rgb(24,15,41)\"],[0.12549019607843137,\"rgb(47,23,57)\"],[0.18823529411764706,\"rgb(71,28,72)\"],[0.25098039215686274,\"rgb(97,30,82)\"],[0.3137254901960784,\"rgb(123,30,89)\"],[0.3764705882352941,\"rgb(150,27,91)\"],[0.4392156862745098,\"rgb(177,22,88)\"],[0.5019607843137255,\"rgb(203,26,79)\"],[0.5647058823529412,\"rgb(223,47,67)\"],[0.6274509803921569,\"rgb(236,76,61)\"],[0.6901960784313725,\"rgb(242,107,73)\"],[0.7529411764705882,\"rgb(244,135,95)\"],[0.8156862745098039,\"rgb(245,162,122)\"],[0.8784313725490196,\"rgb(246,188,153)\"],[0.9411764705882353,\"rgb(247,212,187)\"],[1.0,\"rgb(250,234,220)\"]],\"type\":\"histogram2dcontour\"}],\"histogram2d\":[{\"colorbar\":{\"outlinewidth\":0,\"tickcolor\":\"rgb(36,36,36)\",\"ticklen\":8,\"ticks\":\"outside\",\"tickwidth\":2},\"colorscale\":[[0.0,\"rgb(2,4,25)\"],[0.06274509803921569,\"rgb(24,15,41)\"],[0.12549019607843137,\"rgb(47,23,57)\"],[0.18823529411764706,\"rgb(71,28,72)\"],[0.25098039215686274,\"rgb(97,30,82)\"],[0.3137254901960784,\"rgb(123,30,89)\"],[0.3764705882352941,\"rgb(150,27,91)\"],[0.4392156862745098,\"rgb(177,22,88)\"],[0.5019607843137255,\"rgb(203,26,79)\"],[0.5647058823529412,\"rgb(223,47,67)\"],[0.6274509803921569,\"rgb(236,76,61)\"],[0.6901960784313725,\"rgb(242,107,73)\"],[0.7529411764705882,\"rgb(244,135,95)\"],[0.8156862745098039,\"rgb(245,162,122)\"],[0.8784313725490196,\"rgb(246,188,153)\"],[0.9411764705882353,\"rgb(247,212,187)\"],[1.0,\"rgb(250,234,220)\"]],\"type\":\"histogram2d\"}],\"histogram\":[{\"marker\":{\"pattern\":{\"fillmode\":\"overlay\",\"size\":10,\"solidity\":0.2}},\"type\":\"histogram\"}],\"mesh3d\":[{\"colorbar\":{\"outlinewidth\":0,\"tickcolor\":\"rgb(36,36,36)\",\"ticklen\":8,\"ticks\":\"outside\",\"tickwidth\":2},\"type\":\"mesh3d\"}],\"parcoords\":[{\"line\":{\"colorbar\":{\"outlinewidth\":0,\"tickcolor\":\"rgb(36,36,36)\",\"ticklen\":8,\"ticks\":\"outside\",\"tickwidth\":2}},\"type\":\"parcoords\"}],\"pie\":[{\"automargin\":true,\"type\":\"pie\"}],\"scatter3d\":[{\"line\":{\"colorbar\":{\"outlinewidth\":0,\"tickcolor\":\"rgb(36,36,36)\",\"ticklen\":8,\"ticks\":\"outside\",\"tickwidth\":2}},\"marker\":{\"colorbar\":{\"outlinewidth\":0,\"tickcolor\":\"rgb(36,36,36)\",\"ticklen\":8,\"ticks\":\"outside\",\"tickwidth\":2}},\"type\":\"scatter3d\"}],\"scattercarpet\":[{\"marker\":{\"colorbar\":{\"outlinewidth\":0,\"tickcolor\":\"rgb(36,36,36)\",\"ticklen\":8,\"ticks\":\"outside\",\"tickwidth\":2}},\"type\":\"scattercarpet\"}],\"scattergeo\":[{\"marker\":{\"colorbar\":{\"outlinewidth\":0,\"tickcolor\":\"rgb(36,36,36)\",\"ticklen\":8,\"ticks\":\"outside\",\"tickwidth\":2}},\"type\":\"scattergeo\"}],\"scattergl\":[{\"marker\":{\"colorbar\":{\"outlinewidth\":0,\"tickcolor\":\"rgb(36,36,36)\",\"ticklen\":8,\"ticks\":\"outside\",\"tickwidth\":2}},\"type\":\"scattergl\"}],\"scattermapbox\":[{\"marker\":{\"colorbar\":{\"outlinewidth\":0,\"tickcolor\":\"rgb(36,36,36)\",\"ticklen\":8,\"ticks\":\"outside\",\"tickwidth\":2}},\"type\":\"scattermapbox\"}],\"scatterpolargl\":[{\"marker\":{\"colorbar\":{\"outlinewidth\":0,\"tickcolor\":\"rgb(36,36,36)\",\"ticklen\":8,\"ticks\":\"outside\",\"tickwidth\":2}},\"type\":\"scatterpolargl\"}],\"scatterpolar\":[{\"marker\":{\"colorbar\":{\"outlinewidth\":0,\"tickcolor\":\"rgb(36,36,36)\",\"ticklen\":8,\"ticks\":\"outside\",\"tickwidth\":2}},\"type\":\"scatterpolar\"}],\"scatter\":[{\"fillpattern\":{\"fillmode\":\"overlay\",\"size\":10,\"solidity\":0.2},\"type\":\"scatter\"}],\"scatterternary\":[{\"marker\":{\"colorbar\":{\"outlinewidth\":0,\"tickcolor\":\"rgb(36,36,36)\",\"ticklen\":8,\"ticks\":\"outside\",\"tickwidth\":2}},\"type\":\"scatterternary\"}],\"surface\":[{\"colorbar\":{\"outlinewidth\":0,\"tickcolor\":\"rgb(36,36,36)\",\"ticklen\":8,\"ticks\":\"outside\",\"tickwidth\":2},\"colorscale\":[[0.0,\"rgb(2,4,25)\"],[0.06274509803921569,\"rgb(24,15,41)\"],[0.12549019607843137,\"rgb(47,23,57)\"],[0.18823529411764706,\"rgb(71,28,72)\"],[0.25098039215686274,\"rgb(97,30,82)\"],[0.3137254901960784,\"rgb(123,30,89)\"],[0.3764705882352941,\"rgb(150,27,91)\"],[0.4392156862745098,\"rgb(177,22,88)\"],[0.5019607843137255,\"rgb(203,26,79)\"],[0.5647058823529412,\"rgb(223,47,67)\"],[0.6274509803921569,\"rgb(236,76,61)\"],[0.6901960784313725,\"rgb(242,107,73)\"],[0.7529411764705882,\"rgb(244,135,95)\"],[0.8156862745098039,\"rgb(245,162,122)\"],[0.8784313725490196,\"rgb(246,188,153)\"],[0.9411764705882353,\"rgb(247,212,187)\"],[1.0,\"rgb(250,234,220)\"]],\"type\":\"surface\"}],\"table\":[{\"cells\":{\"fill\":{\"color\":\"rgb(231,231,240)\"},\"line\":{\"color\":\"white\"}},\"header\":{\"fill\":{\"color\":\"rgb(183,183,191)\"},\"line\":{\"color\":\"white\"}},\"type\":\"table\"}]},\"layout\":{\"annotationdefaults\":{\"arrowcolor\":\"rgb(67,103,167)\"},\"autotypenumbers\":\"strict\",\"coloraxis\":{\"colorbar\":{\"outlinewidth\":0,\"tickcolor\":\"rgb(36,36,36)\",\"ticklen\":8,\"ticks\":\"outside\",\"tickwidth\":2}},\"colorscale\":{\"sequential\":[[0.0,\"rgb(2,4,25)\"],[0.06274509803921569,\"rgb(24,15,41)\"],[0.12549019607843137,\"rgb(47,23,57)\"],[0.18823529411764706,\"rgb(71,28,72)\"],[0.25098039215686274,\"rgb(97,30,82)\"],[0.3137254901960784,\"rgb(123,30,89)\"],[0.3764705882352941,\"rgb(150,27,91)\"],[0.4392156862745098,\"rgb(177,22,88)\"],[0.5019607843137255,\"rgb(203,26,79)\"],[0.5647058823529412,\"rgb(223,47,67)\"],[0.6274509803921569,\"rgb(236,76,61)\"],[0.6901960784313725,\"rgb(242,107,73)\"],[0.7529411764705882,\"rgb(244,135,95)\"],[0.8156862745098039,\"rgb(245,162,122)\"],[0.8784313725490196,\"rgb(246,188,153)\"],[0.9411764705882353,\"rgb(247,212,187)\"],[1.0,\"rgb(250,234,220)\"]],\"sequentialminus\":[[0.0,\"rgb(2,4,25)\"],[0.06274509803921569,\"rgb(24,15,41)\"],[0.12549019607843137,\"rgb(47,23,57)\"],[0.18823529411764706,\"rgb(71,28,72)\"],[0.25098039215686274,\"rgb(97,30,82)\"],[0.3137254901960784,\"rgb(123,30,89)\"],[0.3764705882352941,\"rgb(150,27,91)\"],[0.4392156862745098,\"rgb(177,22,88)\"],[0.5019607843137255,\"rgb(203,26,79)\"],[0.5647058823529412,\"rgb(223,47,67)\"],[0.6274509803921569,\"rgb(236,76,61)\"],[0.6901960784313725,\"rgb(242,107,73)\"],[0.7529411764705882,\"rgb(244,135,95)\"],[0.8156862745098039,\"rgb(245,162,122)\"],[0.8784313725490196,\"rgb(246,188,153)\"],[0.9411764705882353,\"rgb(247,212,187)\"],[1.0,\"rgb(250,234,220)\"]]},\"colorway\":[\"rgb(76,114,176)\",\"rgb(221,132,82)\",\"rgb(85,168,104)\",\"rgb(196,78,82)\",\"rgb(129,114,179)\",\"rgb(147,120,96)\",\"rgb(218,139,195)\",\"rgb(140,140,140)\",\"rgb(204,185,116)\",\"rgb(100,181,205)\"],\"font\":{\"color\":\"rgb(36,36,36)\"},\"geo\":{\"bgcolor\":\"white\",\"lakecolor\":\"white\",\"landcolor\":\"rgb(234,234,242)\",\"showlakes\":true,\"showland\":true,\"subunitcolor\":\"white\"},\"hoverlabel\":{\"align\":\"left\"},\"hovermode\":\"closest\",\"paper_bgcolor\":\"white\",\"plot_bgcolor\":\"rgb(234,234,242)\",\"polar\":{\"angularaxis\":{\"gridcolor\":\"white\",\"linecolor\":\"white\",\"showgrid\":true,\"ticks\":\"\"},\"bgcolor\":\"rgb(234,234,242)\",\"radialaxis\":{\"gridcolor\":\"white\",\"linecolor\":\"white\",\"showgrid\":true,\"ticks\":\"\"}},\"scene\":{\"xaxis\":{\"backgroundcolor\":\"rgb(234,234,242)\",\"gridcolor\":\"white\",\"gridwidth\":2,\"linecolor\":\"white\",\"showbackground\":true,\"showgrid\":true,\"ticks\":\"\",\"zerolinecolor\":\"white\"},\"yaxis\":{\"backgroundcolor\":\"rgb(234,234,242)\",\"gridcolor\":\"white\",\"gridwidth\":2,\"linecolor\":\"white\",\"showbackground\":true,\"showgrid\":true,\"ticks\":\"\",\"zerolinecolor\":\"white\"},\"zaxis\":{\"backgroundcolor\":\"rgb(234,234,242)\",\"gridcolor\":\"white\",\"gridwidth\":2,\"linecolor\":\"white\",\"showbackground\":true,\"showgrid\":true,\"ticks\":\"\",\"zerolinecolor\":\"white\"}},\"shapedefaults\":{\"fillcolor\":\"rgb(67,103,167)\",\"line\":{\"width\":0},\"opacity\":0.5},\"ternary\":{\"aaxis\":{\"gridcolor\":\"white\",\"linecolor\":\"white\",\"showgrid\":true,\"ticks\":\"\"},\"baxis\":{\"gridcolor\":\"white\",\"linecolor\":\"white\",\"showgrid\":true,\"ticks\":\"\"},\"bgcolor\":\"rgb(234,234,242)\",\"caxis\":{\"gridcolor\":\"white\",\"linecolor\":\"white\",\"showgrid\":true,\"ticks\":\"\"}},\"xaxis\":{\"automargin\":true,\"gridcolor\":\"white\",\"linecolor\":\"white\",\"showgrid\":true,\"ticks\":\"\",\"title\":{\"standoff\":15},\"zerolinecolor\":\"white\"},\"yaxis\":{\"automargin\":true,\"gridcolor\":\"white\",\"linecolor\":\"white\",\"showgrid\":true,\"ticks\":\"\",\"title\":{\"standoff\":15},\"zerolinecolor\":\"white\"}}},\"xaxis\":{\"anchor\":\"y\",\"domain\":[0.0,1.0],\"title\":{\"text\":\"Number of Artist\"}},\"yaxis\":{\"anchor\":\"x\",\"domain\":[0.0,1.0],\"title\":{\"text\":\"Number Of Streams In Millions\"}},\"coloraxis\":{\"colorbar\":{\"title\":{\"text\":\"Number Of Streams In Millions\"}},\"colorscale\":[[0.0,\"rgb(2,4,25)\"],[0.0625,\"rgb(24,15,41)\"],[0.125,\"rgb(47,23,57)\"],[0.1875,\"rgb(71,28,72)\"],[0.25,\"rgb(97,30,82)\"],[0.3125,\"rgb(123,30,89)\"],[0.375,\"rgb(150,27,91)\"],[0.4375,\"rgb(177,22,88)\"],[0.5,\"rgb(203,26,79)\"],[0.5625,\"rgb(223,47,67)\"],[0.625,\"rgb(236,76,61)\"],[0.6875,\"rgb(242,107,73)\"],[0.75,\"rgb(244,135,95)\"],[0.8125,\"rgb(245,162,122)\"],[0.875,\"rgb(246,188,153)\"],[0.9375,\"rgb(247,212,187)\"],[1.0,\"rgb(250,234,220)\"]]},\"legend\":{\"tracegroupgap\":0},\"title\":{\"text\":\"How Featuring songs affect numbers of streams \"},\"height\":700,\"width\":1200},                        {\"responsive\": true}                    ).then(function(){\n",
       "                            \n",
       "var gd = document.getElementById('e8c22ce2-2fb0-4e06-90ad-e4d69d7bddc5');\n",
       "var x = new MutationObserver(function (mutations, observer) {{\n",
       "        var display = window.getComputedStyle(gd).display;\n",
       "        if (!display || display === 'none') {{\n",
       "            console.log([gd, 'removed!']);\n",
       "            Plotly.purge(gd);\n",
       "            observer.disconnect();\n",
       "        }}\n",
       "}});\n",
       "\n",
       "// Listen for the removal of the full notebook cells\n",
       "var notebookContainer = gd.closest('#notebook-container');\n",
       "if (notebookContainer) {{\n",
       "    x.observe(notebookContainer, {childList: true});\n",
       "}}\n",
       "\n",
       "// Listen for the clearing of the current output cell\n",
       "var outputEl = gd.closest('.output');\n",
       "if (outputEl) {{\n",
       "    x.observe(outputEl, {childList: true});\n",
       "}}\n",
       "\n",
       "                        })                };                });            </script>        </div>"
      ]
     },
     "metadata": {},
     "output_type": "display_data"
    }
   ],
   "source": [
    "featuring_songs_plt = px.scatter(featuring_songs,y= 'streams_in_millions', x = 'artist_count',template = 'seaborn',width = 1200, height = 700,\n",
    "                                 color = 'streams_in_millions',title = 'How Featuring songs affect numbers of streams ', labels = {\n",
    "                                 'artist_count': 'Number of Artist', 'streams_in_millions': 'Number Of Streams In Millions'})\n",
    "featuring_songs_plt"
   ]
  },
  {
   "cell_type": "code",
   "execution_count": 21,
   "id": "8f701cea",
   "metadata": {
    "execution": {
     "iopub.execute_input": "2024-03-25T17:13:12.049603Z",
     "iopub.status.busy": "2024-03-25T17:13:12.049117Z",
     "iopub.status.idle": "2024-03-25T17:13:12.069620Z",
     "shell.execute_reply": "2024-03-25T17:13:12.068246Z"
    },
    "papermill": {
     "duration": 0.03649,
     "end_time": "2024-03-25T17:13:12.072045",
     "exception": false,
     "start_time": "2024-03-25T17:13:12.035555",
     "status": "completed"
    },
    "tags": []
   },
   "outputs": [
    {
     "data": {
      "text/html": [
       "<div>\n",
       "<style scoped>\n",
       "    .dataframe tbody tr th:only-of-type {\n",
       "        vertical-align: middle;\n",
       "    }\n",
       "\n",
       "    .dataframe tbody tr th {\n",
       "        vertical-align: top;\n",
       "    }\n",
       "\n",
       "    .dataframe thead th {\n",
       "        text-align: right;\n",
       "    }\n",
       "</style>\n",
       "<table border=\"1\" class=\"dataframe\">\n",
       "  <thead>\n",
       "    <tr style=\"text-align: right;\">\n",
       "      <th></th>\n",
       "      <th>Month_Abbreviation</th>\n",
       "      <th>released_month</th>\n",
       "      <th>streams_in_millions</th>\n",
       "    </tr>\n",
       "  </thead>\n",
       "  <tbody>\n",
       "    <tr>\n",
       "      <th>4</th>\n",
       "      <td>Jan</td>\n",
       "      <td>1</td>\n",
       "      <td>96758.28</td>\n",
       "    </tr>\n",
       "    <tr>\n",
       "      <th>3</th>\n",
       "      <td>Feb</td>\n",
       "      <td>2</td>\n",
       "      <td>21542.38</td>\n",
       "    </tr>\n",
       "    <tr>\n",
       "      <th>7</th>\n",
       "      <td>Mar</td>\n",
       "      <td>3</td>\n",
       "      <td>41026.53</td>\n",
       "    </tr>\n",
       "    <tr>\n",
       "      <th>0</th>\n",
       "      <td>Apr</td>\n",
       "      <td>4</td>\n",
       "      <td>26673.65</td>\n",
       "    </tr>\n",
       "    <tr>\n",
       "      <th>8</th>\n",
       "      <td>May</td>\n",
       "      <td>5</td>\n",
       "      <td>53205.68</td>\n",
       "    </tr>\n",
       "    <tr>\n",
       "      <th>6</th>\n",
       "      <td>Jun</td>\n",
       "      <td>6</td>\n",
       "      <td>35263.87</td>\n",
       "    </tr>\n",
       "    <tr>\n",
       "      <th>5</th>\n",
       "      <td>Jul</td>\n",
       "      <td>7</td>\n",
       "      <td>29894.93</td>\n",
       "    </tr>\n",
       "    <tr>\n",
       "      <th>1</th>\n",
       "      <td>Aug</td>\n",
       "      <td>8</td>\n",
       "      <td>29038.23</td>\n",
       "    </tr>\n",
       "    <tr>\n",
       "      <th>11</th>\n",
       "      <td>Sep</td>\n",
       "      <td>9</td>\n",
       "      <td>41140.09</td>\n",
       "    </tr>\n",
       "    <tr>\n",
       "      <th>10</th>\n",
       "      <td>Oct</td>\n",
       "      <td>10</td>\n",
       "      <td>42989.85</td>\n",
       "    </tr>\n",
       "    <tr>\n",
       "      <th>9</th>\n",
       "      <td>Nov</td>\n",
       "      <td>11</td>\n",
       "      <td>44207.38</td>\n",
       "    </tr>\n",
       "    <tr>\n",
       "      <th>2</th>\n",
       "      <td>Dec</td>\n",
       "      <td>12</td>\n",
       "      <td>27718.01</td>\n",
       "    </tr>\n",
       "  </tbody>\n",
       "</table>\n",
       "</div>"
      ],
      "text/plain": [
       "   Month_Abbreviation  released_month  streams_in_millions\n",
       "4                 Jan               1             96758.28\n",
       "3                 Feb               2             21542.38\n",
       "7                 Mar               3             41026.53\n",
       "0                 Apr               4             26673.65\n",
       "8                 May               5             53205.68\n",
       "6                 Jun               6             35263.87\n",
       "5                 Jul               7             29894.93\n",
       "1                 Aug               8             29038.23\n",
       "11                Sep               9             41140.09\n",
       "10                Oct              10             42989.85\n",
       "9                 Nov              11             44207.38\n",
       "2                 Dec              12             27718.01"
      ]
     },
     "execution_count": 21,
     "metadata": {},
     "output_type": "execute_result"
    }
   ],
   "source": [
    "# How Month affect streams \n",
    "mont_st = sp.filter(items = ['released_month','Month_Abbreviation','streams_in_millions'],axis = 1)\n",
    "mont_st = mont_st.groupby(['Month_Abbreviation','released_month'])['streams_in_millions'].sum().to_frame()\n",
    "mont_st.reset_index(inplace = True)\n",
    "mont_st = mont_st.sort_values(by = 'released_month')\n",
    "mont_st"
   ]
  },
  {
   "cell_type": "code",
   "execution_count": 22,
   "id": "cb9da2d6",
   "metadata": {
    "execution": {
     "iopub.execute_input": "2024-03-25T17:13:12.098125Z",
     "iopub.status.busy": "2024-03-25T17:13:12.097690Z",
     "iopub.status.idle": "2024-03-25T17:13:12.205638Z",
     "shell.execute_reply": "2024-03-25T17:13:12.204250Z"
    },
    "papermill": {
     "duration": 0.12421,
     "end_time": "2024-03-25T17:13:12.208138",
     "exception": false,
     "start_time": "2024-03-25T17:13:12.083928",
     "status": "completed"
    },
    "tags": []
   },
   "outputs": [
    {
     "data": {
      "text/html": [
       "<div>                            <div id=\"7d39f8c2-4b3e-462b-ba24-01aacc147c57\" class=\"plotly-graph-div\" style=\"height:525px; width:100%;\"></div>            <script type=\"text/javascript\">                require([\"plotly\"], function(Plotly) {                    window.PLOTLYENV=window.PLOTLYENV || {};                                    if (document.getElementById(\"7d39f8c2-4b3e-462b-ba24-01aacc147c57\")) {                    Plotly.newPlot(                        \"7d39f8c2-4b3e-462b-ba24-01aacc147c57\",                        [{\"hovertemplate\":\"Month=%{x}\\u003cbr\\u003eNumber Of Streams In Millions=%{y}\\u003cextra\\u003e\\u003c\\u002fextra\\u003e\",\"legendgroup\":\"\",\"line\":{\"color\":\"#FF0000\",\"dash\":\"solid\"},\"marker\":{\"symbol\":\"circle\"},\"mode\":\"lines+markers\",\"name\":\"\",\"orientation\":\"v\",\"showlegend\":false,\"x\":[\"Jan\",\"Feb\",\"Mar\",\"Apr\",\"May\",\"Jun\",\"Jul\",\"Aug\",\"Sep\",\"Oct\",\"Nov\",\"Dec\"],\"xaxis\":\"x\",\"y\":[96758.28,21542.38,41026.53,26673.65,53205.68,35263.87,29894.93,29038.23,41140.09,42989.85,44207.38,27718.010000000002],\"yaxis\":\"y\",\"type\":\"scatter\"}],                        {\"template\":{\"data\":{\"pie\":[{\"automargin\":true,\"type\":\"pie\"}],\"scatter3d\":[{\"line\":{\"width\":3},\"marker\":{\"size\":9},\"type\":\"scatter3d\"}],\"scattergeo\":[{\"line\":{\"width\":3},\"marker\":{\"size\":9},\"type\":\"scattergeo\"}],\"scattergl\":[{\"line\":{\"width\":3},\"marker\":{\"size\":9},\"type\":\"scattergl\"}],\"scatterpolargl\":[{\"line\":{\"width\":3},\"marker\":{\"size\":9},\"type\":\"scatterpolargl\"}],\"scatterpolar\":[{\"line\":{\"width\":3},\"marker\":{\"size\":9},\"type\":\"scatterpolar\"}],\"scatter\":[{\"line\":{\"width\":3},\"marker\":{\"size\":9},\"type\":\"scatter\"}],\"scatterternary\":[{\"line\":{\"width\":3},\"marker\":{\"size\":9},\"type\":\"scatterternary\"}],\"table\":[{\"cells\":{\"height\":30},\"header\":{\"height\":36},\"type\":\"table\"}]},\"layout\":{\"font\":{\"size\":18},\"xaxis\":{\"title\":{\"standoff\":15}},\"yaxis\":{\"title\":{\"standoff\":15}}}},\"xaxis\":{\"anchor\":\"y\",\"domain\":[0.0,1.0],\"title\":{\"text\":\"Month\"}},\"yaxis\":{\"anchor\":\"x\",\"domain\":[0.0,1.0],\"title\":{\"text\":\"Number Of Streams In Millions\"}},\"legend\":{\"tracegroupgap\":0},\"title\":{\"text\":\"Streams By Month\"}},                        {\"responsive\": true}                    ).then(function(){\n",
       "                            \n",
       "var gd = document.getElementById('7d39f8c2-4b3e-462b-ba24-01aacc147c57');\n",
       "var x = new MutationObserver(function (mutations, observer) {{\n",
       "        var display = window.getComputedStyle(gd).display;\n",
       "        if (!display || display === 'none') {{\n",
       "            console.log([gd, 'removed!']);\n",
       "            Plotly.purge(gd);\n",
       "            observer.disconnect();\n",
       "        }}\n",
       "}});\n",
       "\n",
       "// Listen for the removal of the full notebook cells\n",
       "var notebookContainer = gd.closest('#notebook-container');\n",
       "if (notebookContainer) {{\n",
       "    x.observe(notebookContainer, {childList: true});\n",
       "}}\n",
       "\n",
       "// Listen for the clearing of the current output cell\n",
       "var outputEl = gd.closest('.output');\n",
       "if (outputEl) {{\n",
       "    x.observe(outputEl, {childList: true});\n",
       "}}\n",
       "\n",
       "                        })                };                });            </script>        </div>"
      ]
     },
     "metadata": {},
     "output_type": "display_data"
    }
   ],
   "source": [
    "fig = px.line(mont_st, x = 'Month_Abbreviation', y = 'streams_in_millions' , template = 'presentation',markers = True,title = 'Streams By Month',\n",
    "              labels = {'Month_Abbreviation': 'Month','streams_in_millions':'Number Of Streams In Millions' },color_discrete_sequence=[\"#FF0000\"])\n",
    "fig"
   ]
  },
  {
   "cell_type": "code",
   "execution_count": 23,
   "id": "4c2301e3",
   "metadata": {
    "execution": {
     "iopub.execute_input": "2024-03-25T17:13:12.236595Z",
     "iopub.status.busy": "2024-03-25T17:13:12.236126Z",
     "iopub.status.idle": "2024-03-25T17:13:12.251789Z",
     "shell.execute_reply": "2024-03-25T17:13:12.250539Z"
    },
    "papermill": {
     "duration": 0.032574,
     "end_time": "2024-03-25T17:13:12.254315",
     "exception": false,
     "start_time": "2024-03-25T17:13:12.221741",
     "status": "completed"
    },
    "tags": []
   },
   "outputs": [
    {
     "data": {
      "text/html": [
       "<div>\n",
       "<style scoped>\n",
       "    .dataframe tbody tr th:only-of-type {\n",
       "        vertical-align: middle;\n",
       "    }\n",
       "\n",
       "    .dataframe tbody tr th {\n",
       "        vertical-align: top;\n",
       "    }\n",
       "\n",
       "    .dataframe thead th {\n",
       "        text-align: right;\n",
       "    }\n",
       "</style>\n",
       "<table border=\"1\" class=\"dataframe\">\n",
       "  <thead>\n",
       "    <tr style=\"text-align: right;\">\n",
       "      <th></th>\n",
       "      <th>in_spotify_playlists</th>\n",
       "      <th>streams_in_millions</th>\n",
       "    </tr>\n",
       "  </thead>\n",
       "  <tbody>\n",
       "    <tr>\n",
       "      <th>757</th>\n",
       "      <td>52898</td>\n",
       "      <td>933.82</td>\n",
       "    </tr>\n",
       "    <tr>\n",
       "      <th>630</th>\n",
       "      <td>51979</td>\n",
       "      <td>1806.62</td>\n",
       "    </tr>\n",
       "    <tr>\n",
       "      <th>720</th>\n",
       "      <td>50887</td>\n",
       "      <td>1970.67</td>\n",
       "    </tr>\n",
       "    <tr>\n",
       "      <th>624</th>\n",
       "      <td>49991</td>\n",
       "      <td>1690.19</td>\n",
       "    </tr>\n",
       "    <tr>\n",
       "      <th>199</th>\n",
       "      <td>44927</td>\n",
       "      <td>1479.12</td>\n",
       "    </tr>\n",
       "    <tr>\n",
       "      <th>...</th>\n",
       "      <td>...</td>\n",
       "      <td>...</td>\n",
       "    </tr>\n",
       "    <tr>\n",
       "      <th>104</th>\n",
       "      <td>77</td>\n",
       "      <td>29.56</td>\n",
       "    </tr>\n",
       "    <tr>\n",
       "      <th>185</th>\n",
       "      <td>67</td>\n",
       "      <td>47.96</td>\n",
       "    </tr>\n",
       "    <tr>\n",
       "      <th>112</th>\n",
       "      <td>58</td>\n",
       "      <td>39.06</td>\n",
       "    </tr>\n",
       "    <tr>\n",
       "      <th>327</th>\n",
       "      <td>34</td>\n",
       "      <td>68.22</td>\n",
       "    </tr>\n",
       "    <tr>\n",
       "      <th>94</th>\n",
       "      <td>31</td>\n",
       "      <td>38.41</td>\n",
       "    </tr>\n",
       "  </tbody>\n",
       "</table>\n",
       "<p>952 rows × 2 columns</p>\n",
       "</div>"
      ],
      "text/plain": [
       "     in_spotify_playlists  streams_in_millions\n",
       "757                 52898               933.82\n",
       "630                 51979              1806.62\n",
       "720                 50887              1970.67\n",
       "624                 49991              1690.19\n",
       "199                 44927              1479.12\n",
       "..                    ...                  ...\n",
       "104                    77                29.56\n",
       "185                    67                47.96\n",
       "112                    58                39.06\n",
       "327                    34                68.22\n",
       "94                     31                38.41\n",
       "\n",
       "[952 rows x 2 columns]"
      ]
     },
     "execution_count": 23,
     "metadata": {},
     "output_type": "execute_result"
    }
   ],
   "source": [
    "# Is Being in spotify playlists affect number of streams \n",
    "sp_playlist = sp.filter(items =['in_spotify_playlists','streams_in_millions'],axis = 1)\n",
    "# sorting by number of existence in spotify playlist in decending order\n",
    "sp_playlist = sp_playlist.sort_values(by = 'in_spotify_playlists',ascending = False)\n",
    "sp_playlist"
   ]
  },
  {
   "cell_type": "code",
   "execution_count": 24,
   "id": "3b4d18f5",
   "metadata": {
    "execution": {
     "iopub.execute_input": "2024-03-25T17:13:12.281085Z",
     "iopub.status.busy": "2024-03-25T17:13:12.280099Z",
     "iopub.status.idle": "2024-03-25T17:13:12.354123Z",
     "shell.execute_reply": "2024-03-25T17:13:12.352849Z"
    },
    "papermill": {
     "duration": 0.090484,
     "end_time": "2024-03-25T17:13:12.356922",
     "exception": false,
     "start_time": "2024-03-25T17:13:12.266438",
     "status": "completed"
    },
    "tags": []
   },
   "outputs": [
    {
     "data": {
      "text/html": [
       "<div>                            <div id=\"f10ab4a0-74ee-4914-9965-d2c206c3daf5\" class=\"plotly-graph-div\" style=\"height:700px; width:1200px;\"></div>            <script type=\"text/javascript\">                require([\"plotly\"], function(Plotly) {                    window.PLOTLYENV=window.PLOTLYENV || {};                                    if (document.getElementById(\"f10ab4a0-74ee-4914-9965-d2c206c3daf5\")) {                    Plotly.newPlot(                        \"f10ab4a0-74ee-4914-9965-d2c206c3daf5\",                        [{\"hovertemplate\":\"Number of Spotify Playlist The Song Include in=%{x}\\u003cbr\\u003eNumber Of Streams In Millions=%{marker.color}\\u003cextra\\u003e\\u003c\\u002fextra\\u003e\",\"legendgroup\":\"\",\"marker\":{\"color\":[933.82,1806.62,1970.67,1690.19,1479.12,3703.9,2713.92,1457.14,1205.95,1553.5,2197.01,1235.01,1271.29,1472.8,1210.6,1592.91,1788.33,1929.77,2280.57,1829.99,3562.54,843.31,1755.21,2009.09,1608.16,1202.72,2565.53,822.24,2011.46,2591.22,1897.52,2086.12,2303.03,1093.61,1840.36,1947.37,1449.78,1624.17,2864.79,2808.1,2135.16,2513.19,1267.33,2204.08,1695.71,2123.31,2557.98,1593.27,1159.18,2322.58,1024.86,806.4,1113.84,1791.0,1641.43,1605.22,1687.66,1424.59,983.64,1361.43,1089.4,703.3,2132.34,675.04,2594.04,2236.67,579.4,1410.09,1813.67,789.75,2887.24,887.91,1606.99,1456.08,1279.43,918.92,2665.34,2159.35,2559.53,2282.77,1802.51,1145.73,1575.47,2420.46,1887.04,2355.72,2484.81,769.21,2288.7,1163.62,1115.88,1062.35,481.7,1479.26,1445.94,1309.89,1217.12,950.91,1439.19,1047.1,1814.35,1284.94,841.75,1241.56,1297.03,1699.4,1555.51,1591.22,1858.14,1109.43,674.77,1714.49,807.56,1735.44,1316.86,863.76,924.19,1168.64,395.59,389.77,1355.96,1763.36,1449.8,460.49,624.1,1357.61,473.25,972.51,920.05,826.62,741.3,1122.36,1406.11,1302.18,404.66,1759.57,797.2,1127.47,354.61,1260.59,629.17,1304.31,368.65,1329.09,834.13,284.82,677.39,1221.81,656.01,242.77,999.75,1264.31,723.89,663.83,1440.76,445.59,694.53,245.35,1230.68,1367.81,1692.9,1356.57,1056.76,882.83,1085.69,807.02,1608.05,1252.56,822.63,1163.09,720.83,698.09,920.8,395.59,812.02,800.84,595.9,786.18,462.79,686.73,939.84,476.24,655.47,782.37,1023.19,1256.88,972.16,611.99,743.69,956.87,607.12,1007.61,1138.47,1131.09,899.18,1062.96,1180.9,261.12,427.49,723.04,809.31,716.59,1214.08,530.51,1042.57,991.34,1180.09,485.29,885.09,528.54,684.68,446.39,657.72,1435.13,432.7,466.23,563.9,988.52,560.22,296.0,1223.48,1301.8,1133.87,1061.97,756.91,704.17,1953.53,165.48,843.96,566.95,244.79,1374.58,618.89,1167.33,497.23,865.64,721.98,726.84,301.24,556.59,489.95,467.73,682.48,593.92,951.64,673.8,426.2,195.92,286.74,609.29,195.63,1230.86,594.48,156.34,244.59,588.96,690.1,532.34,211.05,383.84,672.66,516.78,284.22,383.55,325.59,651.73,759.21,685.03,851.07,422.69,428.69,606.36,1143.65,539.6,797.4,461.44,546.19,573.63,376.33,374.71,674.07,583.69,237.35,448.5,909.0,621.66,300.98,293.47,751.13,334.73,326.79,466.21,726.43,888.05,178.66,240.77,618.99,177.74,1065.58,685.07,777.77,838.08,705.47,482.26,335.07,356.71,421.04,872.14,357.93,500.34,445.76,1047.48,457.18,190.63,502.57,599.77,372.48,295.31,929.96,404.56,538.12,520.03,496.31,488.39,652.7,339.66,247.69,783.71,1200.81,380.73,354.07,585.7,282.88,1022.26,333.15,252.87,387.57,311.4,373.2,513.64,299.63,173.7,309.65,554.88,499.71,601.86,775.54,1117.0,518.75,596.15,570.52,322.34,297.33,471.82,127.03,506.78,311.48,449.7,610.05,226.9,665.77,635.41,293.19,578.21,366.21,726.31,614.56,303.24,123.47,127.31,720.43,363.47,725.98,850.61,510.88,571.39,123.22,338.56,480.51,824.42,304.08,261.29,273.01,127.41,201.66,245.1,401.04,527.03,553.63,582.86,496.8,271.67,193.44,71.42,195.58,391.25,505.67,501.54,78.49,394.03,399.69,191.45,200.66,225.26,600.98,432.72,436.7,393.23,290.83,498.96,126.19,343.2,328.21,349.75,540.54,171.79,387.08,304.12,256.48,465.96,350.38,332.51,433.36,335.22,236.87,477.03,130.66,671.37,415.93,203.68,180.58,156.9,863.63,342.78,277.13,348.65,284.91,238.35,172.83,239.41,227.92,421.37,1647.99,608.23,380.32,459.28,309.48,448.84,240.92,429.83,1661.19,294.35,323.44,221.75,421.14,254.22,342.9,279.72,681.58,723.89,345.03,136.68,76.83,317.73,273.19,298.06,116.9,86.18,231.66,184.71,57.88,349.59,461.56,624.52,339.47,382.2,135.72,183.71,144.57,189.24,284.79,194.9,367.81,266.62,223.63,286.4,170.73,134.26,107.26,236.06,255.12,175.1,244.74,165.58,108.81,258.71,154.36,222.41,355.22,346.13,127.57,150.5,199.59,381.16,156.66,551.31,250.31,408.84,412.8,287.2,253.65,115.36,218.32,233.67,370.07,191.33,53.6,119.24,272.38,187.7,103.79,33.38,121.91,58.69,229.47,223.58,124.99,711.37,608.33,181.33,479.66,582.98,141.72,405.14,430.98,646.89,362.36,267.76,186.1,117.75,153.24,177.5,246.39,221.41,403.94,276.26,319.55,374.19,121.08,198.37,278.92,244.66,176.47,207.03,68.9,110.07,1481.35,202.45,213.44,223.06,195.52,85.92,187.34,225.09,115.33,357.58,223.32,144.58,109.09,154.86,37.78,149.78,482.18,209.77,137.07,411.75,273.91,42.49,232.0,132.17,163.28,61.74,80.76,133.72,185.39,222.61,263.78,219.2,331.51,157.06,104.99,305.65,146.79,155.65,88.1,248.51,140.0,179.06,106.93,184.31,307.75,106.92,170.41,54.68,133.9,200.65,184.62,115.01,185.55,107.75,101.11,147.54,185.24,611.7,181.38,231.33,157.99,263.45,217.67,117.21,156.34,290.23,65.72,212.35,146.41,113.51,344.06,37.09,105.06,244.93,312.62,190.98,63.8,121.87,313.11,91.66,135.08,96.18,81.42,397.58,184.94,123.12,345.9,57.95,153.37,110.85,65.16,101.78,279.74,417.23,191.87,240.66,41.21,209.11,95.22,90.84,351.64,81.35,106.25,91.78,261.41,168.68,109.28,93.37,94.01,64.79,245.4,403.23,206.4,74.6,112.44,98.71,54.27,283.33,116.14,463.56,267.79,85.56,67.54,153.45,185.41,291.71,203.22,138.52,436.03,123.12,91.47,121.19,164.16,167.08,404.89,148.46,120.85,75.48,208.17,50.75,88.09,177.13,56.87,246.13,138.33,57.09,160.85,176.1,233.8,248.09,65.36,363.47,338.42,323.36,429.5,175.4,110.65,61.11,30.55,66.9,176.29,146.22,319.76,22.58,178.51,61.25,174.01,367.32,64.71,145.46,232.9,159.24,130.42,283.36,302.01,73.98,1223.48,62.02,190.49,53.93,57.14,148.47,60.68,95.13,212.11,154.8,184.83,264.72,263.28,265.88,124.41,323.46,96.01,57.31,263.89,31.96,131.75,265.55,84.7,0.0,301.05,236.94,200.97,305.77,330.88,41.92,111.95,198.88,94.19,39.89,37.31,49.26,58.15,181.83,160.04,58.47,299.65,354.5,199.39,146.36,403.1,129.31,295.15,161.46,51.64,50.85,118.48,188.93,140.43,52.72,236.86,120.97,100.41,212.23,187.7,240.68,58.05,229.5,303.22,197.64,185.24,54.94,116.6,189.48,137.0,125.92,154.12,363.37,67.07,307.37,246.38,46.14,176.55,157.14,258.32,95.62,133.75,210.04,73.51,301.87,213.51,155.8,142.1,53.73,141.38,86.77,68.62,156.21,187.77,255.93,288.1,134.29,287.28,139.68,16.01,247.74,52.14,164.86,317.62,540.65,191.95,71.1,122.76,203.44,103.76,94.62,211.37,330.35,93.59,235.55,96.27,11.6,162.89,83.02,170.71,58.26,152.85,14.78,244.89,77.38,198.28,78.14,93.44,77.23,46.07,173.63,43.86,97.61,123.13,107.64,60.35,143.57,147.29,88.79,135.61,143.14,76.91,284.25,76.77,240.58,168.45,70.11,86.44,53.99,58.89,182.98,114.55,92.04,95.05,90.6,116.33,139.19,136.69,47.09,11.96,366.6,127.03,65.5,135.44,319.57,81.1,56.53,79.1,39.67,118.38,327.5,91.22,71.57,39.71,77.31,52.29,158.95,89.93,37.13,71.01,78.3,183.27,77.34,118.81,70.07,126.44,89.57,184.81,51.99,24.98,179.66,95.82,34.45,55.84,202.68,90.03,32.76,43.52,54.23,53.91,64.53,838.59,32.53,156.78,71.01,137.12,39.58,39.23,1.37,166.57,140.19,34.5,36.91,30.34,139.84,31.87,29.56,47.96,39.06,68.22,38.41],\"coloraxis\":\"coloraxis\",\"symbol\":\"circle\"},\"mode\":\"markers\",\"name\":\"\",\"orientation\":\"v\",\"showlegend\":false,\"x\":[52898,51979,50887,49991,44927,43899,43257,42798,41751,41231,40112,36843,36724,35684,33966,33898,33783,33206,33032,32502,32181,31762,31358,31123,30992,30427,29536,29499,29215,28032,27705,27221,27119,26792,26694,25744,25653,25065,24529,24094,23804,23575,23389,23375,22923,22730,22543,22439,22153,21915,21811,21574,21335,21164,21106,21097,21081,20763,20333,20111,20015,19806,19664,19067,18986,18778,18773,18515,18371,17852,17836,17504,17492,17354,17138,17115,17050,16636,16596,16413,15894,15890,15867,15722,15563,15032,15010,14994,14749,14739,14417,14311,14169,14143,14140,14114,13985,13801,13454,13387,13315,13101,13091,12985,12859,12854,12755,12688,12685,12482,12403,12382,12353,12329,12211,12043,11985,11975,11940,11500,11434,11215,11087,10829,10826,10624,10585,10565,10431,10426,10326,10211,10195,10147,10114,9974,9833,9771,9724,9644,9577,9539,9514,9424,9408,9389,9243,9161,9151,9122,9082,9037,9021,8879,8870,8775,8737,8612,8576,8559,8528,8506,8476,8448,8431,8429,8327,8207,8186,8109,8087,8084,7963,7930,7923,7858,7842,7830,7758,7731,7681,7655,7615,7613,7556,7545,7536,7495,7461,7370,7324,7215,7191,7124,7112,7109,6955,6952,6890,6858,6821,6809,6804,6734,6672,6646,6638,6596,6587,6556,6518,6512,6457,6398,6392,6339,6332,6330,6308,6290,6180,6170,6135,6127,6111,6080,6074,6060,6036,6026,5898,5897,5871,5866,5730,5728,5724,5669,5542,5491,5481,5443,5415,5403,5398,5375,5342,5328,5290,5281,5263,5257,5199,5184,5153,5148,5140,5129,5120,5115,5073,4999,4967,4963,4942,4893,4890,4875,4873,4846,4827,4796,4779,4771,4731,4708,4673,4657,4651,4640,4637,4635,4627,4576,4572,4564,4531,4526,4511,4449,4440,4431,4427,4375,4326,4310,4284,4277,4260,4214,4204,4198,4188,4169,4096,4094,4091,4057,4053,4049,4013,4004,3995,3983,3956,3947,3909,3879,3859,3818,3794,3788,3766,3763,3741,3711,3682,3681,3659,3645,3643,3618,3618,3600,3559,3541,3528,3517,3506,3506,3501,3486,3469,3444,3436,3430,3423,3423,3408,3406,3372,3328,3311,3301,3299,3297,3291,3282,3272,3270,3257,3246,3242,3221,3218,3202,3185,3133,3113,3107,3107,3098,3090,3069,3047,3045,3028,3009,3006,3006,3006,2999,2995,2988,2988,2979,2959,2954,2953,2948,2942,2942,2939,2939,2915,2881,2876,2868,2849,2844,2839,2814,2800,2795,2790,2785,2780,2780,2775,2742,2729,2711,2699,2697,2696,2688,2668,2651,2649,2636,2619,2616,2612,2610,2605,2598,2597,2590,2585,2578,2577,2575,2566,2551,2537,2537,2536,2528,2528,2520,2499,2499,2483,2482,2468,2461,2460,2459,2442,2420,2420,2418,2415,2402,2393,2350,2346,2341,2335,2332,2321,2313,2308,2304,2302,2301,2297,2291,2265,2264,2259,2235,2229,2226,2226,2224,2209,2186,2175,2171,2163,2129,2128,2127,2114,2110,2107,2098,2096,2094,2092,2066,2050,2040,2035,2026,2020,2019,2012,2005,2000,1992,1986,1985,1966,1963,1962,1959,1959,1950,1948,1945,1936,1933,1930,1930,1929,1915,1911,1900,1890,1890,1888,1860,1856,1845,1838,1818,1801,1800,1796,1795,1794,1788,1783,1776,1769,1756,1747,1730,1729,1715,1703,1701,1685,1682,1681,1678,1657,1652,1647,1640,1639,1638,1635,1634,1622,1613,1612,1608,1602,1601,1597,1585,1584,1561,1560,1553,1550,1545,1545,1529,1524,1517,1517,1507,1494,1493,1492,1492,1484,1480,1479,1474,1473,1473,1473,1456,1452,1446,1444,1443,1430,1420,1420,1401,1397,1379,1370,1368,1367,1351,1338,1329,1320,1313,1308,1305,1301,1298,1292,1283,1282,1275,1274,1267,1264,1254,1240,1235,1225,1211,1211,1209,1208,1197,1195,1194,1190,1189,1188,1185,1184,1180,1179,1178,1175,1169,1168,1154,1150,1150,1150,1134,1133,1127,1117,1116,1112,1112,1112,1105,1103,1097,1096,1094,1087,1064,1060,1057,1057,1054,1051,1045,1042,1040,1034,1029,1020,1014,1007,1007,1004,1004,1003,995,993,991,989,984,975,971,968,967,961,955,953,945,928,925,924,920,918,918,911,910,906,903,899,897,896,896,896,894,894,893,892,892,892,889,888,888,880,875,873,871,870,869,866,864,859,859,852,849,847,845,839,836,832,829,829,827,824,819,816,811,811,811,807,804,802,802,801,799,795,794,788,782,782,773,772,768,767,767,766,763,761,759,755,753,736,733,731,731,727,715,715,714,714,713,710,709,695,692,688,686,685,685,685,681,680,675,674,672,668,660,660,658,654,651,648,648,641,629,629,625,625,620,615,615,608,604,601,596,596,592,590,588,584,584,580,579,577,574,573,573,571,565,561,555,553,551,547,542,540,539,536,531,527,526,525,521,516,514,509,492,489,486,482,481,472,461,461,457,454,452,451,437,432,430,430,422,415,410,407,407,406,398,387,385,381,373,370,367,366,359,359,356,356,356,353,352,351,349,349,343,340,332,332,330,329,328,327,327,324,323,320,315,313,308,293,292,291,290,290,288,283,282,279,277,273,272,271,269,267,266,266,265,262,259,254,250,246,246,244,242,226,225,220,215,214,213,209,203,201,200,200,197,185,182,181,178,168,166,162,161,158,148,139,138,134,130,105,99,86,86,86,77,67,58,34,31],\"xaxis\":\"x\",\"y\":[933.82,1806.62,1970.67,1690.19,1479.12,3703.9,2713.92,1457.14,1205.95,1553.5,2197.01,1235.01,1271.29,1472.8,1210.6,1592.91,1788.33,1929.77,2280.57,1829.99,3562.54,843.31,1755.21,2009.09,1608.16,1202.72,2565.53,822.24,2011.46,2591.22,1897.52,2086.12,2303.03,1093.61,1840.36,1947.37,1449.78,1624.17,2864.79,2808.1,2135.16,2513.19,1267.33,2204.08,1695.71,2123.31,2557.98,1593.27,1159.18,2322.58,1024.86,806.4,1113.84,1791.0,1641.43,1605.22,1687.66,1424.59,983.64,1361.43,1089.4,703.3,2132.34,675.04,2594.04,2236.67,579.4,1410.09,1813.67,789.75,2887.24,887.91,1606.99,1456.08,1279.43,918.92,2665.34,2159.35,2559.53,2282.77,1802.51,1145.73,1575.47,2420.46,1887.04,2355.72,2484.81,769.21,2288.7,1163.62,1115.88,1062.35,481.7,1479.26,1445.94,1309.89,1217.12,950.91,1439.19,1047.1,1814.35,1284.94,841.75,1241.56,1297.03,1699.4,1555.51,1591.22,1858.14,1109.43,674.77,1714.49,807.56,1735.44,1316.86,863.76,924.19,1168.64,395.59,389.77,1355.96,1763.36,1449.8,460.49,624.1,1357.61,473.25,972.51,920.05,826.62,741.3,1122.36,1406.11,1302.18,404.66,1759.57,797.2,1127.47,354.61,1260.59,629.17,1304.31,368.65,1329.09,834.13,284.82,677.39,1221.81,656.01,242.77,999.75,1264.31,723.89,663.83,1440.76,445.59,694.53,245.35,1230.68,1367.81,1692.9,1356.57,1056.76,882.83,1085.69,807.02,1608.05,1252.56,822.63,1163.09,720.83,698.09,920.8,395.59,812.02,800.84,595.9,786.18,462.79,686.73,939.84,476.24,655.47,782.37,1023.19,1256.88,972.16,611.99,743.69,956.87,607.12,1007.61,1138.47,1131.09,899.18,1062.96,1180.9,261.12,427.49,723.04,809.31,716.59,1214.08,530.51,1042.57,991.34,1180.09,485.29,885.09,528.54,684.68,446.39,657.72,1435.13,432.7,466.23,563.9,988.52,560.22,296.0,1223.48,1301.8,1133.87,1061.97,756.91,704.17,1953.53,165.48,843.96,566.95,244.79,1374.58,618.89,1167.33,497.23,865.64,721.98,726.84,301.24,556.59,489.95,467.73,682.48,593.92,951.64,673.8,426.2,195.92,286.74,609.29,195.63,1230.86,594.48,156.34,244.59,588.96,690.1,532.34,211.05,383.84,672.66,516.78,284.22,383.55,325.59,651.73,759.21,685.03,851.07,422.69,428.69,606.36,1143.65,539.6,797.4,461.44,546.19,573.63,376.33,374.71,674.07,583.69,237.35,448.5,909.0,621.66,300.98,293.47,751.13,334.73,326.79,466.21,726.43,888.05,178.66,240.77,618.99,177.74,1065.58,685.07,777.77,838.08,705.47,482.26,335.07,356.71,421.04,872.14,357.93,500.34,445.76,1047.48,457.18,190.63,502.57,599.77,372.48,295.31,929.96,404.56,538.12,520.03,496.31,488.39,652.7,339.66,247.69,783.71,1200.81,380.73,354.07,585.7,282.88,1022.26,333.15,252.87,387.57,311.4,373.2,513.64,299.63,173.7,309.65,554.88,499.71,601.86,775.54,1117.0,518.75,596.15,570.52,322.34,297.33,471.82,127.03,506.78,311.48,449.7,610.05,226.9,665.77,635.41,293.19,578.21,366.21,726.31,614.56,303.24,123.47,127.31,720.43,363.47,725.98,850.61,510.88,571.39,123.22,338.56,480.51,824.42,304.08,261.29,273.01,127.41,201.66,245.1,401.04,527.03,553.63,582.86,496.8,271.67,193.44,71.42,195.58,391.25,505.67,501.54,78.49,394.03,399.69,191.45,200.66,225.26,600.98,432.72,436.7,393.23,290.83,498.96,126.19,343.2,328.21,349.75,540.54,171.79,387.08,304.12,256.48,465.96,350.38,332.51,433.36,335.22,236.87,477.03,130.66,671.37,415.93,203.68,180.58,156.9,863.63,342.78,277.13,348.65,284.91,238.35,172.83,239.41,227.92,421.37,1647.99,608.23,380.32,459.28,309.48,448.84,240.92,429.83,1661.19,294.35,323.44,221.75,421.14,254.22,342.9,279.72,681.58,723.89,345.03,136.68,76.83,317.73,273.19,298.06,116.9,86.18,231.66,184.71,57.88,349.59,461.56,624.52,339.47,382.2,135.72,183.71,144.57,189.24,284.79,194.9,367.81,266.62,223.63,286.4,170.73,134.26,107.26,236.06,255.12,175.1,244.74,165.58,108.81,258.71,154.36,222.41,355.22,346.13,127.57,150.5,199.59,381.16,156.66,551.31,250.31,408.84,412.8,287.2,253.65,115.36,218.32,233.67,370.07,191.33,53.6,119.24,272.38,187.7,103.79,33.38,121.91,58.69,229.47,223.58,124.99,711.37,608.33,181.33,479.66,582.98,141.72,405.14,430.98,646.89,362.36,267.76,186.1,117.75,153.24,177.5,246.39,221.41,403.94,276.26,319.55,374.19,121.08,198.37,278.92,244.66,176.47,207.03,68.9,110.07,1481.35,202.45,213.44,223.06,195.52,85.92,187.34,225.09,115.33,357.58,223.32,144.58,109.09,154.86,37.78,149.78,482.18,209.77,137.07,411.75,273.91,42.49,232.0,132.17,163.28,61.74,80.76,133.72,185.39,222.61,263.78,219.2,331.51,157.06,104.99,305.65,146.79,155.65,88.1,248.51,140.0,179.06,106.93,184.31,307.75,106.92,170.41,54.68,133.9,200.65,184.62,115.01,185.55,107.75,101.11,147.54,185.24,611.7,181.38,231.33,157.99,263.45,217.67,117.21,156.34,290.23,65.72,212.35,146.41,113.51,344.06,37.09,105.06,244.93,312.62,190.98,63.8,121.87,313.11,91.66,135.08,96.18,81.42,397.58,184.94,123.12,345.9,57.95,153.37,110.85,65.16,101.78,279.74,417.23,191.87,240.66,41.21,209.11,95.22,90.84,351.64,81.35,106.25,91.78,261.41,168.68,109.28,93.37,94.01,64.79,245.4,403.23,206.4,74.6,112.44,98.71,54.27,283.33,116.14,463.56,267.79,85.56,67.54,153.45,185.41,291.71,203.22,138.52,436.03,123.12,91.47,121.19,164.16,167.08,404.89,148.46,120.85,75.48,208.17,50.75,88.09,177.13,56.87,246.13,138.33,57.09,160.85,176.1,233.8,248.09,65.36,363.47,338.42,323.36,429.5,175.4,110.65,61.11,30.55,66.9,176.29,146.22,319.76,22.58,178.51,61.25,174.01,367.32,64.71,145.46,232.9,159.24,130.42,283.36,302.01,73.98,1223.48,62.02,190.49,53.93,57.14,148.47,60.68,95.13,212.11,154.8,184.83,264.72,263.28,265.88,124.41,323.46,96.01,57.31,263.89,31.96,131.75,265.55,84.7,0.0,301.05,236.94,200.97,305.77,330.88,41.92,111.95,198.88,94.19,39.89,37.31,49.26,58.15,181.83,160.04,58.47,299.65,354.5,199.39,146.36,403.1,129.31,295.15,161.46,51.64,50.85,118.48,188.93,140.43,52.72,236.86,120.97,100.41,212.23,187.7,240.68,58.05,229.5,303.22,197.64,185.24,54.94,116.6,189.48,137.0,125.92,154.12,363.37,67.07,307.37,246.38,46.14,176.55,157.14,258.32,95.62,133.75,210.04,73.51,301.87,213.51,155.8,142.1,53.73,141.38,86.77,68.62,156.21,187.77,255.93,288.1,134.29,287.28,139.68,16.01,247.74,52.14,164.86,317.62,540.65,191.95,71.1,122.76,203.44,103.76,94.62,211.37,330.35,93.59,235.55,96.27,11.6,162.89,83.02,170.71,58.26,152.85,14.78,244.89,77.38,198.28,78.14,93.44,77.23,46.07,173.63,43.86,97.61,123.13,107.64,60.35,143.57,147.29,88.79,135.61,143.14,76.91,284.25,76.77,240.58,168.45,70.11,86.44,53.99,58.89,182.98,114.55,92.04,95.05,90.6,116.33,139.19,136.69,47.09,11.96,366.6,127.03,65.5,135.44,319.57,81.1,56.53,79.1,39.67,118.38,327.5,91.22,71.57,39.71,77.31,52.29,158.95,89.93,37.13,71.01,78.3,183.27,77.34,118.81,70.07,126.44,89.57,184.81,51.99,24.98,179.66,95.82,34.45,55.84,202.68,90.03,32.76,43.52,54.23,53.91,64.53,838.59,32.53,156.78,71.01,137.12,39.58,39.23,1.37,166.57,140.19,34.5,36.91,30.34,139.84,31.87,29.56,47.96,39.06,68.22,38.41],\"yaxis\":\"y\",\"type\":\"scatter\"}],                        {\"template\":{\"data\":{\"barpolar\":[{\"marker\":{\"line\":{\"color\":\"rgb(234,234,242)\",\"width\":0.5},\"pattern\":{\"fillmode\":\"overlay\",\"size\":10,\"solidity\":0.2}},\"type\":\"barpolar\"}],\"bar\":[{\"error_x\":{\"color\":\"rgb(36,36,36)\"},\"error_y\":{\"color\":\"rgb(36,36,36)\"},\"marker\":{\"line\":{\"color\":\"rgb(234,234,242)\",\"width\":0.5},\"pattern\":{\"fillmode\":\"overlay\",\"size\":10,\"solidity\":0.2}},\"type\":\"bar\"}],\"carpet\":[{\"aaxis\":{\"endlinecolor\":\"rgb(36,36,36)\",\"gridcolor\":\"white\",\"linecolor\":\"white\",\"minorgridcolor\":\"white\",\"startlinecolor\":\"rgb(36,36,36)\"},\"baxis\":{\"endlinecolor\":\"rgb(36,36,36)\",\"gridcolor\":\"white\",\"linecolor\":\"white\",\"minorgridcolor\":\"white\",\"startlinecolor\":\"rgb(36,36,36)\"},\"type\":\"carpet\"}],\"choropleth\":[{\"colorbar\":{\"outlinewidth\":0,\"tickcolor\":\"rgb(36,36,36)\",\"ticklen\":8,\"ticks\":\"outside\",\"tickwidth\":2},\"type\":\"choropleth\"}],\"contourcarpet\":[{\"colorbar\":{\"outlinewidth\":0,\"tickcolor\":\"rgb(36,36,36)\",\"ticklen\":8,\"ticks\":\"outside\",\"tickwidth\":2},\"type\":\"contourcarpet\"}],\"contour\":[{\"colorbar\":{\"outlinewidth\":0,\"tickcolor\":\"rgb(36,36,36)\",\"ticklen\":8,\"ticks\":\"outside\",\"tickwidth\":2},\"colorscale\":[[0.0,\"rgb(2,4,25)\"],[0.06274509803921569,\"rgb(24,15,41)\"],[0.12549019607843137,\"rgb(47,23,57)\"],[0.18823529411764706,\"rgb(71,28,72)\"],[0.25098039215686274,\"rgb(97,30,82)\"],[0.3137254901960784,\"rgb(123,30,89)\"],[0.3764705882352941,\"rgb(150,27,91)\"],[0.4392156862745098,\"rgb(177,22,88)\"],[0.5019607843137255,\"rgb(203,26,79)\"],[0.5647058823529412,\"rgb(223,47,67)\"],[0.6274509803921569,\"rgb(236,76,61)\"],[0.6901960784313725,\"rgb(242,107,73)\"],[0.7529411764705882,\"rgb(244,135,95)\"],[0.8156862745098039,\"rgb(245,162,122)\"],[0.8784313725490196,\"rgb(246,188,153)\"],[0.9411764705882353,\"rgb(247,212,187)\"],[1.0,\"rgb(250,234,220)\"]],\"type\":\"contour\"}],\"heatmapgl\":[{\"colorbar\":{\"outlinewidth\":0,\"tickcolor\":\"rgb(36,36,36)\",\"ticklen\":8,\"ticks\":\"outside\",\"tickwidth\":2},\"colorscale\":[[0.0,\"rgb(2,4,25)\"],[0.06274509803921569,\"rgb(24,15,41)\"],[0.12549019607843137,\"rgb(47,23,57)\"],[0.18823529411764706,\"rgb(71,28,72)\"],[0.25098039215686274,\"rgb(97,30,82)\"],[0.3137254901960784,\"rgb(123,30,89)\"],[0.3764705882352941,\"rgb(150,27,91)\"],[0.4392156862745098,\"rgb(177,22,88)\"],[0.5019607843137255,\"rgb(203,26,79)\"],[0.5647058823529412,\"rgb(223,47,67)\"],[0.6274509803921569,\"rgb(236,76,61)\"],[0.6901960784313725,\"rgb(242,107,73)\"],[0.7529411764705882,\"rgb(244,135,95)\"],[0.8156862745098039,\"rgb(245,162,122)\"],[0.8784313725490196,\"rgb(246,188,153)\"],[0.9411764705882353,\"rgb(247,212,187)\"],[1.0,\"rgb(250,234,220)\"]],\"type\":\"heatmapgl\"}],\"heatmap\":[{\"colorbar\":{\"outlinewidth\":0,\"tickcolor\":\"rgb(36,36,36)\",\"ticklen\":8,\"ticks\":\"outside\",\"tickwidth\":2},\"colorscale\":[[0.0,\"rgb(2,4,25)\"],[0.06274509803921569,\"rgb(24,15,41)\"],[0.12549019607843137,\"rgb(47,23,57)\"],[0.18823529411764706,\"rgb(71,28,72)\"],[0.25098039215686274,\"rgb(97,30,82)\"],[0.3137254901960784,\"rgb(123,30,89)\"],[0.3764705882352941,\"rgb(150,27,91)\"],[0.4392156862745098,\"rgb(177,22,88)\"],[0.5019607843137255,\"rgb(203,26,79)\"],[0.5647058823529412,\"rgb(223,47,67)\"],[0.6274509803921569,\"rgb(236,76,61)\"],[0.6901960784313725,\"rgb(242,107,73)\"],[0.7529411764705882,\"rgb(244,135,95)\"],[0.8156862745098039,\"rgb(245,162,122)\"],[0.8784313725490196,\"rgb(246,188,153)\"],[0.9411764705882353,\"rgb(247,212,187)\"],[1.0,\"rgb(250,234,220)\"]],\"type\":\"heatmap\"}],\"histogram2dcontour\":[{\"colorbar\":{\"outlinewidth\":0,\"tickcolor\":\"rgb(36,36,36)\",\"ticklen\":8,\"ticks\":\"outside\",\"tickwidth\":2},\"colorscale\":[[0.0,\"rgb(2,4,25)\"],[0.06274509803921569,\"rgb(24,15,41)\"],[0.12549019607843137,\"rgb(47,23,57)\"],[0.18823529411764706,\"rgb(71,28,72)\"],[0.25098039215686274,\"rgb(97,30,82)\"],[0.3137254901960784,\"rgb(123,30,89)\"],[0.3764705882352941,\"rgb(150,27,91)\"],[0.4392156862745098,\"rgb(177,22,88)\"],[0.5019607843137255,\"rgb(203,26,79)\"],[0.5647058823529412,\"rgb(223,47,67)\"],[0.6274509803921569,\"rgb(236,76,61)\"],[0.6901960784313725,\"rgb(242,107,73)\"],[0.7529411764705882,\"rgb(244,135,95)\"],[0.8156862745098039,\"rgb(245,162,122)\"],[0.8784313725490196,\"rgb(246,188,153)\"],[0.9411764705882353,\"rgb(247,212,187)\"],[1.0,\"rgb(250,234,220)\"]],\"type\":\"histogram2dcontour\"}],\"histogram2d\":[{\"colorbar\":{\"outlinewidth\":0,\"tickcolor\":\"rgb(36,36,36)\",\"ticklen\":8,\"ticks\":\"outside\",\"tickwidth\":2},\"colorscale\":[[0.0,\"rgb(2,4,25)\"],[0.06274509803921569,\"rgb(24,15,41)\"],[0.12549019607843137,\"rgb(47,23,57)\"],[0.18823529411764706,\"rgb(71,28,72)\"],[0.25098039215686274,\"rgb(97,30,82)\"],[0.3137254901960784,\"rgb(123,30,89)\"],[0.3764705882352941,\"rgb(150,27,91)\"],[0.4392156862745098,\"rgb(177,22,88)\"],[0.5019607843137255,\"rgb(203,26,79)\"],[0.5647058823529412,\"rgb(223,47,67)\"],[0.6274509803921569,\"rgb(236,76,61)\"],[0.6901960784313725,\"rgb(242,107,73)\"],[0.7529411764705882,\"rgb(244,135,95)\"],[0.8156862745098039,\"rgb(245,162,122)\"],[0.8784313725490196,\"rgb(246,188,153)\"],[0.9411764705882353,\"rgb(247,212,187)\"],[1.0,\"rgb(250,234,220)\"]],\"type\":\"histogram2d\"}],\"histogram\":[{\"marker\":{\"pattern\":{\"fillmode\":\"overlay\",\"size\":10,\"solidity\":0.2}},\"type\":\"histogram\"}],\"mesh3d\":[{\"colorbar\":{\"outlinewidth\":0,\"tickcolor\":\"rgb(36,36,36)\",\"ticklen\":8,\"ticks\":\"outside\",\"tickwidth\":2},\"type\":\"mesh3d\"}],\"parcoords\":[{\"line\":{\"colorbar\":{\"outlinewidth\":0,\"tickcolor\":\"rgb(36,36,36)\",\"ticklen\":8,\"ticks\":\"outside\",\"tickwidth\":2}},\"type\":\"parcoords\"}],\"pie\":[{\"automargin\":true,\"type\":\"pie\"}],\"scatter3d\":[{\"line\":{\"colorbar\":{\"outlinewidth\":0,\"tickcolor\":\"rgb(36,36,36)\",\"ticklen\":8,\"ticks\":\"outside\",\"tickwidth\":2}},\"marker\":{\"colorbar\":{\"outlinewidth\":0,\"tickcolor\":\"rgb(36,36,36)\",\"ticklen\":8,\"ticks\":\"outside\",\"tickwidth\":2}},\"type\":\"scatter3d\"}],\"scattercarpet\":[{\"marker\":{\"colorbar\":{\"outlinewidth\":0,\"tickcolor\":\"rgb(36,36,36)\",\"ticklen\":8,\"ticks\":\"outside\",\"tickwidth\":2}},\"type\":\"scattercarpet\"}],\"scattergeo\":[{\"marker\":{\"colorbar\":{\"outlinewidth\":0,\"tickcolor\":\"rgb(36,36,36)\",\"ticklen\":8,\"ticks\":\"outside\",\"tickwidth\":2}},\"type\":\"scattergeo\"}],\"scattergl\":[{\"marker\":{\"colorbar\":{\"outlinewidth\":0,\"tickcolor\":\"rgb(36,36,36)\",\"ticklen\":8,\"ticks\":\"outside\",\"tickwidth\":2}},\"type\":\"scattergl\"}],\"scattermapbox\":[{\"marker\":{\"colorbar\":{\"outlinewidth\":0,\"tickcolor\":\"rgb(36,36,36)\",\"ticklen\":8,\"ticks\":\"outside\",\"tickwidth\":2}},\"type\":\"scattermapbox\"}],\"scatterpolargl\":[{\"marker\":{\"colorbar\":{\"outlinewidth\":0,\"tickcolor\":\"rgb(36,36,36)\",\"ticklen\":8,\"ticks\":\"outside\",\"tickwidth\":2}},\"type\":\"scatterpolargl\"}],\"scatterpolar\":[{\"marker\":{\"colorbar\":{\"outlinewidth\":0,\"tickcolor\":\"rgb(36,36,36)\",\"ticklen\":8,\"ticks\":\"outside\",\"tickwidth\":2}},\"type\":\"scatterpolar\"}],\"scatter\":[{\"fillpattern\":{\"fillmode\":\"overlay\",\"size\":10,\"solidity\":0.2},\"type\":\"scatter\"}],\"scatterternary\":[{\"marker\":{\"colorbar\":{\"outlinewidth\":0,\"tickcolor\":\"rgb(36,36,36)\",\"ticklen\":8,\"ticks\":\"outside\",\"tickwidth\":2}},\"type\":\"scatterternary\"}],\"surface\":[{\"colorbar\":{\"outlinewidth\":0,\"tickcolor\":\"rgb(36,36,36)\",\"ticklen\":8,\"ticks\":\"outside\",\"tickwidth\":2},\"colorscale\":[[0.0,\"rgb(2,4,25)\"],[0.06274509803921569,\"rgb(24,15,41)\"],[0.12549019607843137,\"rgb(47,23,57)\"],[0.18823529411764706,\"rgb(71,28,72)\"],[0.25098039215686274,\"rgb(97,30,82)\"],[0.3137254901960784,\"rgb(123,30,89)\"],[0.3764705882352941,\"rgb(150,27,91)\"],[0.4392156862745098,\"rgb(177,22,88)\"],[0.5019607843137255,\"rgb(203,26,79)\"],[0.5647058823529412,\"rgb(223,47,67)\"],[0.6274509803921569,\"rgb(236,76,61)\"],[0.6901960784313725,\"rgb(242,107,73)\"],[0.7529411764705882,\"rgb(244,135,95)\"],[0.8156862745098039,\"rgb(245,162,122)\"],[0.8784313725490196,\"rgb(246,188,153)\"],[0.9411764705882353,\"rgb(247,212,187)\"],[1.0,\"rgb(250,234,220)\"]],\"type\":\"surface\"}],\"table\":[{\"cells\":{\"fill\":{\"color\":\"rgb(231,231,240)\"},\"line\":{\"color\":\"white\"}},\"header\":{\"fill\":{\"color\":\"rgb(183,183,191)\"},\"line\":{\"color\":\"white\"}},\"type\":\"table\"}]},\"layout\":{\"annotationdefaults\":{\"arrowcolor\":\"rgb(67,103,167)\"},\"autotypenumbers\":\"strict\",\"coloraxis\":{\"colorbar\":{\"outlinewidth\":0,\"tickcolor\":\"rgb(36,36,36)\",\"ticklen\":8,\"ticks\":\"outside\",\"tickwidth\":2}},\"colorscale\":{\"sequential\":[[0.0,\"rgb(2,4,25)\"],[0.06274509803921569,\"rgb(24,15,41)\"],[0.12549019607843137,\"rgb(47,23,57)\"],[0.18823529411764706,\"rgb(71,28,72)\"],[0.25098039215686274,\"rgb(97,30,82)\"],[0.3137254901960784,\"rgb(123,30,89)\"],[0.3764705882352941,\"rgb(150,27,91)\"],[0.4392156862745098,\"rgb(177,22,88)\"],[0.5019607843137255,\"rgb(203,26,79)\"],[0.5647058823529412,\"rgb(223,47,67)\"],[0.6274509803921569,\"rgb(236,76,61)\"],[0.6901960784313725,\"rgb(242,107,73)\"],[0.7529411764705882,\"rgb(244,135,95)\"],[0.8156862745098039,\"rgb(245,162,122)\"],[0.8784313725490196,\"rgb(246,188,153)\"],[0.9411764705882353,\"rgb(247,212,187)\"],[1.0,\"rgb(250,234,220)\"]],\"sequentialminus\":[[0.0,\"rgb(2,4,25)\"],[0.06274509803921569,\"rgb(24,15,41)\"],[0.12549019607843137,\"rgb(47,23,57)\"],[0.18823529411764706,\"rgb(71,28,72)\"],[0.25098039215686274,\"rgb(97,30,82)\"],[0.3137254901960784,\"rgb(123,30,89)\"],[0.3764705882352941,\"rgb(150,27,91)\"],[0.4392156862745098,\"rgb(177,22,88)\"],[0.5019607843137255,\"rgb(203,26,79)\"],[0.5647058823529412,\"rgb(223,47,67)\"],[0.6274509803921569,\"rgb(236,76,61)\"],[0.6901960784313725,\"rgb(242,107,73)\"],[0.7529411764705882,\"rgb(244,135,95)\"],[0.8156862745098039,\"rgb(245,162,122)\"],[0.8784313725490196,\"rgb(246,188,153)\"],[0.9411764705882353,\"rgb(247,212,187)\"],[1.0,\"rgb(250,234,220)\"]]},\"colorway\":[\"rgb(76,114,176)\",\"rgb(221,132,82)\",\"rgb(85,168,104)\",\"rgb(196,78,82)\",\"rgb(129,114,179)\",\"rgb(147,120,96)\",\"rgb(218,139,195)\",\"rgb(140,140,140)\",\"rgb(204,185,116)\",\"rgb(100,181,205)\"],\"font\":{\"color\":\"rgb(36,36,36)\"},\"geo\":{\"bgcolor\":\"white\",\"lakecolor\":\"white\",\"landcolor\":\"rgb(234,234,242)\",\"showlakes\":true,\"showland\":true,\"subunitcolor\":\"white\"},\"hoverlabel\":{\"align\":\"left\"},\"hovermode\":\"closest\",\"paper_bgcolor\":\"white\",\"plot_bgcolor\":\"rgb(234,234,242)\",\"polar\":{\"angularaxis\":{\"gridcolor\":\"white\",\"linecolor\":\"white\",\"showgrid\":true,\"ticks\":\"\"},\"bgcolor\":\"rgb(234,234,242)\",\"radialaxis\":{\"gridcolor\":\"white\",\"linecolor\":\"white\",\"showgrid\":true,\"ticks\":\"\"}},\"scene\":{\"xaxis\":{\"backgroundcolor\":\"rgb(234,234,242)\",\"gridcolor\":\"white\",\"gridwidth\":2,\"linecolor\":\"white\",\"showbackground\":true,\"showgrid\":true,\"ticks\":\"\",\"zerolinecolor\":\"white\"},\"yaxis\":{\"backgroundcolor\":\"rgb(234,234,242)\",\"gridcolor\":\"white\",\"gridwidth\":2,\"linecolor\":\"white\",\"showbackground\":true,\"showgrid\":true,\"ticks\":\"\",\"zerolinecolor\":\"white\"},\"zaxis\":{\"backgroundcolor\":\"rgb(234,234,242)\",\"gridcolor\":\"white\",\"gridwidth\":2,\"linecolor\":\"white\",\"showbackground\":true,\"showgrid\":true,\"ticks\":\"\",\"zerolinecolor\":\"white\"}},\"shapedefaults\":{\"fillcolor\":\"rgb(67,103,167)\",\"line\":{\"width\":0},\"opacity\":0.5},\"ternary\":{\"aaxis\":{\"gridcolor\":\"white\",\"linecolor\":\"white\",\"showgrid\":true,\"ticks\":\"\"},\"baxis\":{\"gridcolor\":\"white\",\"linecolor\":\"white\",\"showgrid\":true,\"ticks\":\"\"},\"bgcolor\":\"rgb(234,234,242)\",\"caxis\":{\"gridcolor\":\"white\",\"linecolor\":\"white\",\"showgrid\":true,\"ticks\":\"\"}},\"xaxis\":{\"automargin\":true,\"gridcolor\":\"white\",\"linecolor\":\"white\",\"showgrid\":true,\"ticks\":\"\",\"title\":{\"standoff\":15},\"zerolinecolor\":\"white\"},\"yaxis\":{\"automargin\":true,\"gridcolor\":\"white\",\"linecolor\":\"white\",\"showgrid\":true,\"ticks\":\"\",\"title\":{\"standoff\":15},\"zerolinecolor\":\"white\"}}},\"xaxis\":{\"anchor\":\"y\",\"domain\":[0.0,1.0],\"title\":{\"text\":\"Number of Spotify Playlist The Song Include in\"}},\"yaxis\":{\"anchor\":\"x\",\"domain\":[0.0,1.0],\"title\":{\"text\":\"Number Of Streams In Millions\"}},\"coloraxis\":{\"colorbar\":{\"title\":{\"text\":\"Number Of Streams In Millions\"}},\"colorscale\":[[0.0,\"rgb(2,4,25)\"],[0.0625,\"rgb(24,15,41)\"],[0.125,\"rgb(47,23,57)\"],[0.1875,\"rgb(71,28,72)\"],[0.25,\"rgb(97,30,82)\"],[0.3125,\"rgb(123,30,89)\"],[0.375,\"rgb(150,27,91)\"],[0.4375,\"rgb(177,22,88)\"],[0.5,\"rgb(203,26,79)\"],[0.5625,\"rgb(223,47,67)\"],[0.625,\"rgb(236,76,61)\"],[0.6875,\"rgb(242,107,73)\"],[0.75,\"rgb(244,135,95)\"],[0.8125,\"rgb(245,162,122)\"],[0.875,\"rgb(246,188,153)\"],[0.9375,\"rgb(247,212,187)\"],[1.0,\"rgb(250,234,220)\"]]},\"legend\":{\"tracegroupgap\":0},\"title\":{\"text\":\"How Existence in Spotify Playlist affect numbers of streams \"},\"height\":700,\"width\":1200},                        {\"responsive\": true}                    ).then(function(){\n",
       "                            \n",
       "var gd = document.getElementById('f10ab4a0-74ee-4914-9965-d2c206c3daf5');\n",
       "var x = new MutationObserver(function (mutations, observer) {{\n",
       "        var display = window.getComputedStyle(gd).display;\n",
       "        if (!display || display === 'none') {{\n",
       "            console.log([gd, 'removed!']);\n",
       "            Plotly.purge(gd);\n",
       "            observer.disconnect();\n",
       "        }}\n",
       "}});\n",
       "\n",
       "// Listen for the removal of the full notebook cells\n",
       "var notebookContainer = gd.closest('#notebook-container');\n",
       "if (notebookContainer) {{\n",
       "    x.observe(notebookContainer, {childList: true});\n",
       "}}\n",
       "\n",
       "// Listen for the clearing of the current output cell\n",
       "var outputEl = gd.closest('.output');\n",
       "if (outputEl) {{\n",
       "    x.observe(outputEl, {childList: true});\n",
       "}}\n",
       "\n",
       "                        })                };                });            </script>        </div>"
      ]
     },
     "metadata": {},
     "output_type": "display_data"
    }
   ],
   "source": [
    "#Ploting Relation between spotify playlist in number of streams \n",
    "sp_playlist_plt = px.scatter(sp_playlist,y= 'streams_in_millions', x = 'in_spotify_playlists',template = 'seaborn',width = 1200, height = 700,\n",
    "                                 color = 'streams_in_millions',title = 'How Existence in Spotify Playlist affect numbers of streams ', labels = {\n",
    "                                 'in_spotify_playlists': 'Number of Spotify Playlist The Song Include in', 'streams_in_millions': 'Number Of Streams In Millions'})\n",
    "sp_playlist_plt"
   ]
  },
  {
   "cell_type": "code",
   "execution_count": 25,
   "id": "554f58e5",
   "metadata": {
    "execution": {
     "iopub.execute_input": "2024-03-25T17:13:12.386034Z",
     "iopub.status.busy": "2024-03-25T17:13:12.385000Z",
     "iopub.status.idle": "2024-03-25T17:13:12.399147Z",
     "shell.execute_reply": "2024-03-25T17:13:12.398229Z"
    },
    "papermill": {
     "duration": 0.031265,
     "end_time": "2024-03-25T17:13:12.401728",
     "exception": false,
     "start_time": "2024-03-25T17:13:12.370463",
     "status": "completed"
    },
    "tags": []
   },
   "outputs": [
    {
     "data": {
      "text/html": [
       "<div>\n",
       "<style scoped>\n",
       "    .dataframe tbody tr th:only-of-type {\n",
       "        vertical-align: middle;\n",
       "    }\n",
       "\n",
       "    .dataframe tbody tr th {\n",
       "        vertical-align: top;\n",
       "    }\n",
       "\n",
       "    .dataframe thead th {\n",
       "        text-align: right;\n",
       "    }\n",
       "</style>\n",
       "<table border=\"1\" class=\"dataframe\">\n",
       "  <thead>\n",
       "    <tr style=\"text-align: right;\">\n",
       "      <th></th>\n",
       "      <th>danceability_%</th>\n",
       "      <th>streams_in_millions</th>\n",
       "    </tr>\n",
       "  </thead>\n",
       "  <tbody>\n",
       "    <tr>\n",
       "      <th>595</th>\n",
       "      <td>96</td>\n",
       "      <td>261.29</td>\n",
       "    </tr>\n",
       "    <tr>\n",
       "      <th>224</th>\n",
       "      <td>95</td>\n",
       "      <td>335.07</td>\n",
       "    </tr>\n",
       "    <tr>\n",
       "      <th>250</th>\n",
       "      <td>95</td>\n",
       "      <td>1424.59</td>\n",
       "    </tr>\n",
       "    <tr>\n",
       "      <th>423</th>\n",
       "      <td>95</td>\n",
       "      <td>428.69</td>\n",
       "    </tr>\n",
       "    <tr>\n",
       "      <th>702</th>\n",
       "      <td>95</td>\n",
       "      <td>229.47</td>\n",
       "    </tr>\n",
       "    <tr>\n",
       "      <th>...</th>\n",
       "      <td>...</td>\n",
       "      <td>...</td>\n",
       "    </tr>\n",
       "    <tr>\n",
       "      <th>704</th>\n",
       "      <td>28</td>\n",
       "      <td>121.91</td>\n",
       "    </tr>\n",
       "    <tr>\n",
       "      <th>521</th>\n",
       "      <td>27</td>\n",
       "      <td>53.93</td>\n",
       "    </tr>\n",
       "    <tr>\n",
       "      <th>387</th>\n",
       "      <td>25</td>\n",
       "      <td>297.33</td>\n",
       "    </tr>\n",
       "    <tr>\n",
       "      <th>447</th>\n",
       "      <td>24</td>\n",
       "      <td>663.83</td>\n",
       "    </tr>\n",
       "    <tr>\n",
       "      <th>469</th>\n",
       "      <td>23</td>\n",
       "      <td>395.59</td>\n",
       "    </tr>\n",
       "  </tbody>\n",
       "</table>\n",
       "<p>952 rows × 2 columns</p>\n",
       "</div>"
      ],
      "text/plain": [
       "     danceability_%  streams_in_millions\n",
       "595              96               261.29\n",
       "224              95               335.07\n",
       "250              95              1424.59\n",
       "423              95               428.69\n",
       "702              95               229.47\n",
       "..              ...                  ...\n",
       "704              28               121.91\n",
       "521              27                53.93\n",
       "387              25               297.33\n",
       "447              24               663.83\n",
       "469              23               395.59\n",
       "\n",
       "[952 rows x 2 columns]"
      ]
     },
     "execution_count": 25,
     "metadata": {},
     "output_type": "execute_result"
    }
   ],
   "source": [
    "# relation between is the songs is suitable for dancing and the number of streams \n",
    "danceability = sp.filter(items =['danceability_%','streams_in_millions'],axis = 1)\n",
    "# sorting by how suitable the song is for dancing in decending order\n",
    "danceability = danceability.sort_values(by = 'danceability_%',ascending = False)\n",
    "danceability"
   ]
  },
  {
   "cell_type": "code",
   "execution_count": 26,
   "id": "4efe5613",
   "metadata": {
    "execution": {
     "iopub.execute_input": "2024-03-25T17:13:12.431985Z",
     "iopub.status.busy": "2024-03-25T17:13:12.430573Z",
     "iopub.status.idle": "2024-03-25T17:13:12.499452Z",
     "shell.execute_reply": "2024-03-25T17:13:12.498119Z"
    },
    "papermill": {
     "duration": 0.086631,
     "end_time": "2024-03-25T17:13:12.502294",
     "exception": false,
     "start_time": "2024-03-25T17:13:12.415663",
     "status": "completed"
    },
    "tags": []
   },
   "outputs": [
    {
     "data": {
      "text/html": [
       "<div>                            <div id=\"47325fd1-b73f-403b-a864-09765f72665d\" class=\"plotly-graph-div\" style=\"height:700px; width:1200px;\"></div>            <script type=\"text/javascript\">                require([\"plotly\"], function(Plotly) {                    window.PLOTLYENV=window.PLOTLYENV || {};                                    if (document.getElementById(\"47325fd1-b73f-403b-a864-09765f72665d\")) {                    Plotly.newPlot(                        \"47325fd1-b73f-403b-a864-09765f72665d\",                        [{\"hovertemplate\":\"Percentage of danceability =%{x}\\u003cbr\\u003eNumber Of Streams In Millions=%{marker.color}\\u003cextra\\u003e\\u003c\\u002fextra\\u003e\",\"legendgroup\":\"\",\"marker\":{\"color\":[261.29,335.07,1424.59,428.69,229.47,294.35,176.1,190.49,112.44,11.96,675.04,162.89,176.29,782.37,843.31,153.37,235.55,64.79,122.76,123.22,183.71,1687.66,32.76,217.67,1440.76,482.26,295.31,694.53,212.11,822.24,154.86,516.78,279.72,1929.77,120.85,674.07,104.99,244.93,54.94,1202.72,168.68,244.66,165.58,277.13,65.5,154.12,116.14,106.93,720.83,64.71,304.12,301.05,254.22,85.92,191.45,136.68,671.37,720.43,885.09,137.0,139.19,809.31,601.86,380.73,174.01,304.08,313.11,682.48,198.88,283.36,1714.49,229.5,499.71,16.01,335.22,93.44,118.38,111.95,354.07,1457.14,685.07,657.72,674.77,246.13,200.65,115.36,383.84,596.15,173.7,95.22,121.19,594.48,93.37,161.46,248.09,170.41,403.23,71.57,723.89,723.89,540.65,231.33,502.57,327.5,159.24,160.04,81.35,716.59,105.06,232.9,1214.08,81.1,462.79,24.98,3562.54,273.01,53.73,150.5,138.33,247.74,672.66,614.56,471.82,342.78,863.63,144.57,189.24,115.01,248.51,1.37,2864.79,482.18,146.41,240.92,1593.27,113.51,90.84,190.63,70.07,175.1,309.65,338.42,133.9,1329.09,209.11,165.48,863.76,240.68,96.27,106.92,123.12,546.19,1210.6,156.21,1555.51,299.63,1168.64,123.47,47.09,527.03,61.25,445.76,330.35,279.74,301.24,345.9,78.49,134.29,264.72,160.85,1180.9,397.58,31.87,157.14,263.28,349.75,553.63,29.56,608.23,551.31,110.65,1062.35,119.24,258.32,655.47,71.01,199.39,76.77,489.95,1047.48,376.33,92.04,61.11,141.38,293.47,333.15,909.0,146.22,448.5,394.03,253.65,430.98,213.51,153.24,344.06,73.51,899.18,1605.22,307.75,11.6,221.41,393.23,1302.18,57.95,427.49,176.55,933.82,417.23,887.91,287.28,266.62,1143.65,152.85,178.51,506.78,56.87,143.14,1897.52,2303.03,797.4,78.3,208.17,66.9,237.35,58.26,585.7,126.19,496.8,2280.57,319.55,918.92,70.11,95.05,187.77,721.98,191.95,53.99,127.03,595.9,195.58,436.03,57.09,155.8,223.63,197.64,1138.47,624.52,54.27,311.4,357.93,579.4,219.2,65.16,530.51,652.7,295.15,191.87,63.8,189.48,1575.47,198.37,223.58,566.95,300.98,374.71,77.23,140.19,463.56,109.09,2713.92,1759.57,37.13,2594.04,39.06,838.08,465.96,139.68,91.22,363.47,232.0,312.62,1309.89,477.03,924.19,46.07,158.95,2557.98,54.23,2808.1,355.22,756.91,2484.81,76.91,362.36,513.64,71.42,191.33,223.06,1435.13,123.12,1022.26,403.94,91.66,1355.96,1692.9,851.07,510.88,55.84,276.26,381.16,432.7,656.01,2591.22,578.21,865.64,1159.18,741.3,609.29,1479.26,298.06,1814.35,47.96,258.71,528.54,85.56,22.58,244.59,179.06,95.13,1093.61,342.9,255.93,759.21,116.9,1145.73,211.37,345.03,309.48,956.87,726.84,267.79,103.76,245.1,920.8,1223.48,195.92,141.72,170.71,673.8,221.75,1763.36,65.72,156.66,58.69,436.7,1472.8,291.71,209.77,1252.56,94.01,296.0,303.22,367.81,1235.01,1481.35,43.52,488.39,236.86,52.72,95.82,929.96,67.07,421.04,170.73,154.8,89.57,107.75,185.24,247.69,100.41,175.4,618.99,182.98,1223.48,236.06,351.64,651.73,401.04,334.73,690.1,62.02,330.88,284.25,194.9,68.22,1230.68,743.69,121.08,1085.69,1367.81,129.31,305.65,133.72,80.76,157.06,448.84,187.7,459.28,110.85,1316.86,684.68,107.64,843.96,323.36,146.36,126.44,560.22,538.12,2132.34,1699.4,1267.33,608.33,272.38,136.69,184.83,118.81,301.87,307.37,236.94,665.77,328.21,1007.61,326.79,305.77,391.25,198.28,101.78,116.33,130.66,501.54,90.03,1829.99,1791.0,325.59,137.12,89.93,156.34,354.61,278.92,323.46,115.33,769.21,81.42,1802.51,227.92,606.36,103.79,164.86,148.46,273.91,319.57,52.14,245.35,822.63,348.65,127.03,263.78,233.8,226.9,797.2,500.34,207.03,290.83,157.99,265.55,2565.53,1591.22,286.4,53.91,1439.19,190.98,950.91,123.13,236.87,184.62,83.02,250.31,1606.99,116.6,60.68,539.6,43.86,183.27,120.97,284.22,888.05,77.38,422.69,570.52,145.46,972.51,239.41,395.59,629.17,127.41,155.65,68.62,725.98,593.92,261.12,245.4,57.88,58.15,498.96,1131.09,261.41,339.47,2011.46,479.66,686.73,610.05,698.09,154.36,218.32,288.1,147.54,60.35,323.44,37.09,156.34,53.6,125.92,1042.57,374.19,84.7,1374.58,1113.84,86.44,50.75,1133.87,415.93,1264.31,193.44,1065.58,263.45,303.24,185.39,98.71,222.41,90.6,1221.81,36.91,339.66,181.83,68.9,117.21,225.26,199.59,476.24,267.76,256.48,317.73,1180.09,149.78,404.56,134.26,88.79,231.66,222.61,1163.09,202.68,332.51,106.25,433.36,999.75,775.54,211.05,1205.95,1260.59,380.32,75.48,138.52,180.58,331.51,1641.43,1445.94,350.38,91.78,39.71,109.28,1357.61,58.05,383.55,114.55,177.13,1953.53,290.23,124.41,322.34,583.69,212.35,363.37,1024.86,173.63,110.07,1241.56,50.85,71.1,118.48,46.14,57.31,461.44,1356.57,685.03,164.16,1167.33,1117.0,343.2,86.77,812.02,185.24,1304.31,2282.77,2204.08,2236.67,188.93,86.18,2123.31,1163.62,96.01,51.64,951.64,148.47,1735.44,96.18,920.05,185.41,411.75,255.12,1661.19,349.59,786.18,79.1,94.19,777.77,1406.11,2559.53,240.77,403.1,88.09,91.47,177.74,77.34,473.25,286.74,481.7,1127.47,319.76,363.47,582.98,1647.99,1858.14,357.58,372.48,677.39,168.45,497.23,449.7,404.89,373.2,1200.81,187.7,153.45,139.84,184.94,39.67,94.62,2665.34,1115.88,135.72,611.7,240.66,366.6,646.89,540.54,244.79,210.04,156.78,432.72,1061.97,972.16,244.89,212.23,311.48,213.44,635.41,588.96,176.47,1023.19,723.04,147.29,76.83,144.58,599.77,1479.12,2159.35,505.67,480.51,143.57,554.88,2135.16,181.38,1608.16,983.64,408.84,1887.04,61.74,223.32,108.81,611.99,52.29,573.63,282.88,681.58,461.56,726.31,399.69,166.57,354.5,233.67,711.37,64.53,95.62,14.78,445.59,124.99,273.19,97.61,302.01,1047.1,1109.43,466.23,2322.58,201.66,800.84,127.31,171.79,1695.71,299.65,1624.17,1788.33,185.55,367.32,532.34,77.31,806.4,704.17,34.5,618.89,356.71,203.44,32.53,1456.08,38.41,240.58,1271.29,34.45,67.54,146.79,404.66,1970.67,518.75,133.75,200.66,203.22,93.59,466.21,429.83,156.9,1122.36,1217.12,1062.96,206.4,2513.19,135.08,1690.19,225.09,200.97,178.66,789.75,73.98,366.21,238.35,607.12,429.5,181.33,387.57,293.19,140.0,582.86,179.66,195.63,485.29,246.38,39.58,751.13,520.03,1361.43,39.89,142.1,172.83,3703.9,283.33,271.67,39.23,2887.24,58.89,30.34,457.18,195.52,101.11,1592.91,135.61,127.57,140.43,184.81,33.38,0.0,56.53,405.14,1297.03,177.5,2009.09,58.47,187.34,246.39,1301.8,387.08,107.26,1279.43,57.14,370.07,132.17,939.84,54.68,467.73,263.89,826.62,41.92,834.13,163.28,31.96,556.59,1813.67,1553.5,621.66,1089.4,49.26,412.8,446.39,807.02,1449.8,1608.05,991.34,1410.09,421.37,184.31,30.55,41.21,131.75,317.62,37.31,130.42,1256.88,117.75,988.52,2288.7,368.65,37.78,65.36,51.99,1755.21,882.83,2086.12,137.07,346.13,167.08,121.87,284.82,872.14,2197.01,71.01,338.56,88.1,783.71,287.2,571.39,284.79,2420.46,838.59,203.68,850.61,135.44,244.74,184.71,42.49,703.3,841.75,624.1,426.2,389.77,382.2,1947.37,284.91,807.56,1806.62,2355.72,496.31,824.42,1449.78,242.77,600.98,726.43,202.45,186.1,265.88,78.14,460.49,1840.36,1284.94,705.47,252.87,421.14,563.9,1056.76,1230.86,74.6,121.91,53.93,297.33,663.83,395.59],\"coloraxis\":\"coloraxis\",\"symbol\":\"circle\"},\"mode\":\"markers\",\"name\":\"\",\"orientation\":\"v\",\"showlegend\":false,\"x\":[96,95,95,95,95,95,95,94,93,93,93,93,93,92,92,92,92,92,92,92,92,92,92,91,91,91,91,91,91,91,91,91,91,91,91,90,90,90,90,90,90,90,90,90,89,89,89,89,89,89,89,88,88,88,88,88,88,88,87,87,87,87,87,87,87,87,87,87,86,86,86,86,86,86,86,86,86,86,86,86,86,86,85,85,85,85,85,85,85,85,85,85,85,85,84,84,84,84,84,84,84,84,84,84,84,84,84,84,84,84,84,84,84,83,83,83,83,83,83,83,83,83,83,83,83,83,83,82,82,82,82,82,82,82,82,82,82,82,82,82,82,82,82,82,82,82,82,82,82,82,81,81,81,81,81,81,81,81,81,81,81,81,81,81,81,81,81,81,81,81,81,81,81,81,81,81,81,81,80,80,80,80,80,80,80,80,80,80,80,80,80,80,80,80,80,80,80,80,80,80,80,80,80,80,80,80,80,80,80,79,79,79,79,79,79,79,79,79,79,79,79,79,79,79,79,79,79,79,79,79,79,78,78,78,78,78,78,78,78,78,78,78,78,78,78,78,78,78,78,78,78,78,78,78,78,78,78,77,77,77,77,77,77,77,77,77,77,77,77,77,77,77,77,77,77,77,77,77,77,77,77,77,77,77,77,77,77,77,77,76,76,76,76,76,76,76,76,76,76,76,76,76,76,76,76,76,75,75,75,75,75,75,75,75,75,75,75,75,75,75,75,75,75,75,75,74,74,74,74,74,74,74,74,74,74,74,74,74,74,74,74,74,74,74,74,74,74,74,74,74,74,74,74,74,73,73,73,73,73,73,73,73,73,73,73,73,73,73,73,73,73,73,73,73,73,73,73,73,73,73,73,72,72,72,72,72,72,72,72,72,72,72,72,72,72,72,72,72,72,72,72,72,71,71,71,71,71,71,71,71,71,71,71,71,71,71,71,71,71,71,71,71,71,71,71,71,71,71,70,70,70,70,70,70,70,70,70,70,70,70,70,70,70,70,70,70,70,70,70,70,70,70,70,70,70,70,70,70,70,70,70,70,70,70,70,70,70,70,70,70,70,69,69,69,69,69,69,69,69,69,69,69,69,69,68,68,68,68,68,68,68,68,68,68,68,68,68,68,68,68,68,68,68,68,67,67,67,67,67,67,67,67,67,67,67,67,67,67,67,67,67,67,67,67,67,67,67,66,66,66,66,66,66,66,66,66,66,66,66,66,66,66,66,66,65,65,65,65,65,65,65,65,65,65,65,65,65,65,65,65,65,65,65,65,65,65,65,65,65,65,64,64,64,64,64,64,64,64,64,64,64,64,64,64,64,64,64,64,64,64,63,63,63,63,63,63,63,63,63,63,63,63,63,63,63,63,63,63,63,63,63,63,63,62,62,62,62,62,62,62,62,62,62,62,61,61,61,61,61,61,61,61,61,61,61,61,61,61,61,61,61,61,61,61,60,60,60,60,60,60,60,60,60,60,60,60,60,60,60,60,60,60,60,60,60,60,59,59,59,59,59,59,59,59,59,59,59,59,59,59,59,59,59,59,59,59,59,59,59,59,59,58,58,58,58,58,58,58,58,58,58,58,58,58,58,58,57,57,57,57,57,57,57,57,57,57,57,57,57,57,57,57,56,56,56,56,56,56,56,56,56,56,56,56,56,56,56,56,56,56,56,56,56,56,56,56,56,56,56,56,56,56,55,55,55,55,55,55,55,55,55,54,54,54,54,54,54,54,54,54,54,53,53,53,53,53,53,53,53,53,53,53,53,53,53,53,53,52,52,52,52,52,52,52,52,52,52,52,51,51,51,51,51,51,51,51,51,51,51,51,51,51,51,51,51,51,50,50,50,50,50,50,50,50,50,50,50,50,49,49,49,49,49,49,49,49,49,49,49,48,48,48,48,48,48,47,47,47,47,47,47,47,47,47,47,46,46,46,46,46,46,46,46,45,45,45,45,45,45,45,45,45,45,45,45,45,44,44,44,44,44,44,44,44,44,44,44,44,43,43,43,43,43,42,42,42,42,42,42,41,41,41,41,41,40,40,40,40,40,39,39,39,39,38,37,37,37,37,37,37,36,36,36,36,35,35,35,35,35,34,34,34,34,34,34,34,33,33,33,32,32,31,31,31,31,29,28,28,27,25,24,23],\"xaxis\":\"x\",\"y\":[261.29,335.07,1424.59,428.69,229.47,294.35,176.1,190.49,112.44,11.96,675.04,162.89,176.29,782.37,843.31,153.37,235.55,64.79,122.76,123.22,183.71,1687.66,32.76,217.67,1440.76,482.26,295.31,694.53,212.11,822.24,154.86,516.78,279.72,1929.77,120.85,674.07,104.99,244.93,54.94,1202.72,168.68,244.66,165.58,277.13,65.5,154.12,116.14,106.93,720.83,64.71,304.12,301.05,254.22,85.92,191.45,136.68,671.37,720.43,885.09,137.0,139.19,809.31,601.86,380.73,174.01,304.08,313.11,682.48,198.88,283.36,1714.49,229.5,499.71,16.01,335.22,93.44,118.38,111.95,354.07,1457.14,685.07,657.72,674.77,246.13,200.65,115.36,383.84,596.15,173.7,95.22,121.19,594.48,93.37,161.46,248.09,170.41,403.23,71.57,723.89,723.89,540.65,231.33,502.57,327.5,159.24,160.04,81.35,716.59,105.06,232.9,1214.08,81.1,462.79,24.98,3562.54,273.01,53.73,150.5,138.33,247.74,672.66,614.56,471.82,342.78,863.63,144.57,189.24,115.01,248.51,1.37,2864.79,482.18,146.41,240.92,1593.27,113.51,90.84,190.63,70.07,175.1,309.65,338.42,133.9,1329.09,209.11,165.48,863.76,240.68,96.27,106.92,123.12,546.19,1210.6,156.21,1555.51,299.63,1168.64,123.47,47.09,527.03,61.25,445.76,330.35,279.74,301.24,345.9,78.49,134.29,264.72,160.85,1180.9,397.58,31.87,157.14,263.28,349.75,553.63,29.56,608.23,551.31,110.65,1062.35,119.24,258.32,655.47,71.01,199.39,76.77,489.95,1047.48,376.33,92.04,61.11,141.38,293.47,333.15,909.0,146.22,448.5,394.03,253.65,430.98,213.51,153.24,344.06,73.51,899.18,1605.22,307.75,11.6,221.41,393.23,1302.18,57.95,427.49,176.55,933.82,417.23,887.91,287.28,266.62,1143.65,152.85,178.51,506.78,56.87,143.14,1897.52,2303.03,797.4,78.3,208.17,66.9,237.35,58.26,585.7,126.19,496.8,2280.57,319.55,918.92,70.11,95.05,187.77,721.98,191.95,53.99,127.03,595.9,195.58,436.03,57.09,155.8,223.63,197.64,1138.47,624.52,54.27,311.4,357.93,579.4,219.2,65.16,530.51,652.7,295.15,191.87,63.8,189.48,1575.47,198.37,223.58,566.95,300.98,374.71,77.23,140.19,463.56,109.09,2713.92,1759.57,37.13,2594.04,39.06,838.08,465.96,139.68,91.22,363.47,232.0,312.62,1309.89,477.03,924.19,46.07,158.95,2557.98,54.23,2808.1,355.22,756.91,2484.81,76.91,362.36,513.64,71.42,191.33,223.06,1435.13,123.12,1022.26,403.94,91.66,1355.96,1692.9,851.07,510.88,55.84,276.26,381.16,432.7,656.01,2591.22,578.21,865.64,1159.18,741.3,609.29,1479.26,298.06,1814.35,47.96,258.71,528.54,85.56,22.58,244.59,179.06,95.13,1093.61,342.9,255.93,759.21,116.9,1145.73,211.37,345.03,309.48,956.87,726.84,267.79,103.76,245.1,920.8,1223.48,195.92,141.72,170.71,673.8,221.75,1763.36,65.72,156.66,58.69,436.7,1472.8,291.71,209.77,1252.56,94.01,296.0,303.22,367.81,1235.01,1481.35,43.52,488.39,236.86,52.72,95.82,929.96,67.07,421.04,170.73,154.8,89.57,107.75,185.24,247.69,100.41,175.4,618.99,182.98,1223.48,236.06,351.64,651.73,401.04,334.73,690.1,62.02,330.88,284.25,194.9,68.22,1230.68,743.69,121.08,1085.69,1367.81,129.31,305.65,133.72,80.76,157.06,448.84,187.7,459.28,110.85,1316.86,684.68,107.64,843.96,323.36,146.36,126.44,560.22,538.12,2132.34,1699.4,1267.33,608.33,272.38,136.69,184.83,118.81,301.87,307.37,236.94,665.77,328.21,1007.61,326.79,305.77,391.25,198.28,101.78,116.33,130.66,501.54,90.03,1829.99,1791.0,325.59,137.12,89.93,156.34,354.61,278.92,323.46,115.33,769.21,81.42,1802.51,227.92,606.36,103.79,164.86,148.46,273.91,319.57,52.14,245.35,822.63,348.65,127.03,263.78,233.8,226.9,797.2,500.34,207.03,290.83,157.99,265.55,2565.53,1591.22,286.4,53.91,1439.19,190.98,950.91,123.13,236.87,184.62,83.02,250.31,1606.99,116.6,60.68,539.6,43.86,183.27,120.97,284.22,888.05,77.38,422.69,570.52,145.46,972.51,239.41,395.59,629.17,127.41,155.65,68.62,725.98,593.92,261.12,245.4,57.88,58.15,498.96,1131.09,261.41,339.47,2011.46,479.66,686.73,610.05,698.09,154.36,218.32,288.1,147.54,60.35,323.44,37.09,156.34,53.6,125.92,1042.57,374.19,84.7,1374.58,1113.84,86.44,50.75,1133.87,415.93,1264.31,193.44,1065.58,263.45,303.24,185.39,98.71,222.41,90.6,1221.81,36.91,339.66,181.83,68.9,117.21,225.26,199.59,476.24,267.76,256.48,317.73,1180.09,149.78,404.56,134.26,88.79,231.66,222.61,1163.09,202.68,332.51,106.25,433.36,999.75,775.54,211.05,1205.95,1260.59,380.32,75.48,138.52,180.58,331.51,1641.43,1445.94,350.38,91.78,39.71,109.28,1357.61,58.05,383.55,114.55,177.13,1953.53,290.23,124.41,322.34,583.69,212.35,363.37,1024.86,173.63,110.07,1241.56,50.85,71.1,118.48,46.14,57.31,461.44,1356.57,685.03,164.16,1167.33,1117.0,343.2,86.77,812.02,185.24,1304.31,2282.77,2204.08,2236.67,188.93,86.18,2123.31,1163.62,96.01,51.64,951.64,148.47,1735.44,96.18,920.05,185.41,411.75,255.12,1661.19,349.59,786.18,79.1,94.19,777.77,1406.11,2559.53,240.77,403.1,88.09,91.47,177.74,77.34,473.25,286.74,481.7,1127.47,319.76,363.47,582.98,1647.99,1858.14,357.58,372.48,677.39,168.45,497.23,449.7,404.89,373.2,1200.81,187.7,153.45,139.84,184.94,39.67,94.62,2665.34,1115.88,135.72,611.7,240.66,366.6,646.89,540.54,244.79,210.04,156.78,432.72,1061.97,972.16,244.89,212.23,311.48,213.44,635.41,588.96,176.47,1023.19,723.04,147.29,76.83,144.58,599.77,1479.12,2159.35,505.67,480.51,143.57,554.88,2135.16,181.38,1608.16,983.64,408.84,1887.04,61.74,223.32,108.81,611.99,52.29,573.63,282.88,681.58,461.56,726.31,399.69,166.57,354.5,233.67,711.37,64.53,95.62,14.78,445.59,124.99,273.19,97.61,302.01,1047.1,1109.43,466.23,2322.58,201.66,800.84,127.31,171.79,1695.71,299.65,1624.17,1788.33,185.55,367.32,532.34,77.31,806.4,704.17,34.5,618.89,356.71,203.44,32.53,1456.08,38.41,240.58,1271.29,34.45,67.54,146.79,404.66,1970.67,518.75,133.75,200.66,203.22,93.59,466.21,429.83,156.9,1122.36,1217.12,1062.96,206.4,2513.19,135.08,1690.19,225.09,200.97,178.66,789.75,73.98,366.21,238.35,607.12,429.5,181.33,387.57,293.19,140.0,582.86,179.66,195.63,485.29,246.38,39.58,751.13,520.03,1361.43,39.89,142.1,172.83,3703.9,283.33,271.67,39.23,2887.24,58.89,30.34,457.18,195.52,101.11,1592.91,135.61,127.57,140.43,184.81,33.38,0.0,56.53,405.14,1297.03,177.5,2009.09,58.47,187.34,246.39,1301.8,387.08,107.26,1279.43,57.14,370.07,132.17,939.84,54.68,467.73,263.89,826.62,41.92,834.13,163.28,31.96,556.59,1813.67,1553.5,621.66,1089.4,49.26,412.8,446.39,807.02,1449.8,1608.05,991.34,1410.09,421.37,184.31,30.55,41.21,131.75,317.62,37.31,130.42,1256.88,117.75,988.52,2288.7,368.65,37.78,65.36,51.99,1755.21,882.83,2086.12,137.07,346.13,167.08,121.87,284.82,872.14,2197.01,71.01,338.56,88.1,783.71,287.2,571.39,284.79,2420.46,838.59,203.68,850.61,135.44,244.74,184.71,42.49,703.3,841.75,624.1,426.2,389.77,382.2,1947.37,284.91,807.56,1806.62,2355.72,496.31,824.42,1449.78,242.77,600.98,726.43,202.45,186.1,265.88,78.14,460.49,1840.36,1284.94,705.47,252.87,421.14,563.9,1056.76,1230.86,74.6,121.91,53.93,297.33,663.83,395.59],\"yaxis\":\"y\",\"type\":\"scatter\"}],                        {\"template\":{\"data\":{\"barpolar\":[{\"marker\":{\"line\":{\"color\":\"rgb(234,234,242)\",\"width\":0.5},\"pattern\":{\"fillmode\":\"overlay\",\"size\":10,\"solidity\":0.2}},\"type\":\"barpolar\"}],\"bar\":[{\"error_x\":{\"color\":\"rgb(36,36,36)\"},\"error_y\":{\"color\":\"rgb(36,36,36)\"},\"marker\":{\"line\":{\"color\":\"rgb(234,234,242)\",\"width\":0.5},\"pattern\":{\"fillmode\":\"overlay\",\"size\":10,\"solidity\":0.2}},\"type\":\"bar\"}],\"carpet\":[{\"aaxis\":{\"endlinecolor\":\"rgb(36,36,36)\",\"gridcolor\":\"white\",\"linecolor\":\"white\",\"minorgridcolor\":\"white\",\"startlinecolor\":\"rgb(36,36,36)\"},\"baxis\":{\"endlinecolor\":\"rgb(36,36,36)\",\"gridcolor\":\"white\",\"linecolor\":\"white\",\"minorgridcolor\":\"white\",\"startlinecolor\":\"rgb(36,36,36)\"},\"type\":\"carpet\"}],\"choropleth\":[{\"colorbar\":{\"outlinewidth\":0,\"tickcolor\":\"rgb(36,36,36)\",\"ticklen\":8,\"ticks\":\"outside\",\"tickwidth\":2},\"type\":\"choropleth\"}],\"contourcarpet\":[{\"colorbar\":{\"outlinewidth\":0,\"tickcolor\":\"rgb(36,36,36)\",\"ticklen\":8,\"ticks\":\"outside\",\"tickwidth\":2},\"type\":\"contourcarpet\"}],\"contour\":[{\"colorbar\":{\"outlinewidth\":0,\"tickcolor\":\"rgb(36,36,36)\",\"ticklen\":8,\"ticks\":\"outside\",\"tickwidth\":2},\"colorscale\":[[0.0,\"rgb(2,4,25)\"],[0.06274509803921569,\"rgb(24,15,41)\"],[0.12549019607843137,\"rgb(47,23,57)\"],[0.18823529411764706,\"rgb(71,28,72)\"],[0.25098039215686274,\"rgb(97,30,82)\"],[0.3137254901960784,\"rgb(123,30,89)\"],[0.3764705882352941,\"rgb(150,27,91)\"],[0.4392156862745098,\"rgb(177,22,88)\"],[0.5019607843137255,\"rgb(203,26,79)\"],[0.5647058823529412,\"rgb(223,47,67)\"],[0.6274509803921569,\"rgb(236,76,61)\"],[0.6901960784313725,\"rgb(242,107,73)\"],[0.7529411764705882,\"rgb(244,135,95)\"],[0.8156862745098039,\"rgb(245,162,122)\"],[0.8784313725490196,\"rgb(246,188,153)\"],[0.9411764705882353,\"rgb(247,212,187)\"],[1.0,\"rgb(250,234,220)\"]],\"type\":\"contour\"}],\"heatmapgl\":[{\"colorbar\":{\"outlinewidth\":0,\"tickcolor\":\"rgb(36,36,36)\",\"ticklen\":8,\"ticks\":\"outside\",\"tickwidth\":2},\"colorscale\":[[0.0,\"rgb(2,4,25)\"],[0.06274509803921569,\"rgb(24,15,41)\"],[0.12549019607843137,\"rgb(47,23,57)\"],[0.18823529411764706,\"rgb(71,28,72)\"],[0.25098039215686274,\"rgb(97,30,82)\"],[0.3137254901960784,\"rgb(123,30,89)\"],[0.3764705882352941,\"rgb(150,27,91)\"],[0.4392156862745098,\"rgb(177,22,88)\"],[0.5019607843137255,\"rgb(203,26,79)\"],[0.5647058823529412,\"rgb(223,47,67)\"],[0.6274509803921569,\"rgb(236,76,61)\"],[0.6901960784313725,\"rgb(242,107,73)\"],[0.7529411764705882,\"rgb(244,135,95)\"],[0.8156862745098039,\"rgb(245,162,122)\"],[0.8784313725490196,\"rgb(246,188,153)\"],[0.9411764705882353,\"rgb(247,212,187)\"],[1.0,\"rgb(250,234,220)\"]],\"type\":\"heatmapgl\"}],\"heatmap\":[{\"colorbar\":{\"outlinewidth\":0,\"tickcolor\":\"rgb(36,36,36)\",\"ticklen\":8,\"ticks\":\"outside\",\"tickwidth\":2},\"colorscale\":[[0.0,\"rgb(2,4,25)\"],[0.06274509803921569,\"rgb(24,15,41)\"],[0.12549019607843137,\"rgb(47,23,57)\"],[0.18823529411764706,\"rgb(71,28,72)\"],[0.25098039215686274,\"rgb(97,30,82)\"],[0.3137254901960784,\"rgb(123,30,89)\"],[0.3764705882352941,\"rgb(150,27,91)\"],[0.4392156862745098,\"rgb(177,22,88)\"],[0.5019607843137255,\"rgb(203,26,79)\"],[0.5647058823529412,\"rgb(223,47,67)\"],[0.6274509803921569,\"rgb(236,76,61)\"],[0.6901960784313725,\"rgb(242,107,73)\"],[0.7529411764705882,\"rgb(244,135,95)\"],[0.8156862745098039,\"rgb(245,162,122)\"],[0.8784313725490196,\"rgb(246,188,153)\"],[0.9411764705882353,\"rgb(247,212,187)\"],[1.0,\"rgb(250,234,220)\"]],\"type\":\"heatmap\"}],\"histogram2dcontour\":[{\"colorbar\":{\"outlinewidth\":0,\"tickcolor\":\"rgb(36,36,36)\",\"ticklen\":8,\"ticks\":\"outside\",\"tickwidth\":2},\"colorscale\":[[0.0,\"rgb(2,4,25)\"],[0.06274509803921569,\"rgb(24,15,41)\"],[0.12549019607843137,\"rgb(47,23,57)\"],[0.18823529411764706,\"rgb(71,28,72)\"],[0.25098039215686274,\"rgb(97,30,82)\"],[0.3137254901960784,\"rgb(123,30,89)\"],[0.3764705882352941,\"rgb(150,27,91)\"],[0.4392156862745098,\"rgb(177,22,88)\"],[0.5019607843137255,\"rgb(203,26,79)\"],[0.5647058823529412,\"rgb(223,47,67)\"],[0.6274509803921569,\"rgb(236,76,61)\"],[0.6901960784313725,\"rgb(242,107,73)\"],[0.7529411764705882,\"rgb(244,135,95)\"],[0.8156862745098039,\"rgb(245,162,122)\"],[0.8784313725490196,\"rgb(246,188,153)\"],[0.9411764705882353,\"rgb(247,212,187)\"],[1.0,\"rgb(250,234,220)\"]],\"type\":\"histogram2dcontour\"}],\"histogram2d\":[{\"colorbar\":{\"outlinewidth\":0,\"tickcolor\":\"rgb(36,36,36)\",\"ticklen\":8,\"ticks\":\"outside\",\"tickwidth\":2},\"colorscale\":[[0.0,\"rgb(2,4,25)\"],[0.06274509803921569,\"rgb(24,15,41)\"],[0.12549019607843137,\"rgb(47,23,57)\"],[0.18823529411764706,\"rgb(71,28,72)\"],[0.25098039215686274,\"rgb(97,30,82)\"],[0.3137254901960784,\"rgb(123,30,89)\"],[0.3764705882352941,\"rgb(150,27,91)\"],[0.4392156862745098,\"rgb(177,22,88)\"],[0.5019607843137255,\"rgb(203,26,79)\"],[0.5647058823529412,\"rgb(223,47,67)\"],[0.6274509803921569,\"rgb(236,76,61)\"],[0.6901960784313725,\"rgb(242,107,73)\"],[0.7529411764705882,\"rgb(244,135,95)\"],[0.8156862745098039,\"rgb(245,162,122)\"],[0.8784313725490196,\"rgb(246,188,153)\"],[0.9411764705882353,\"rgb(247,212,187)\"],[1.0,\"rgb(250,234,220)\"]],\"type\":\"histogram2d\"}],\"histogram\":[{\"marker\":{\"pattern\":{\"fillmode\":\"overlay\",\"size\":10,\"solidity\":0.2}},\"type\":\"histogram\"}],\"mesh3d\":[{\"colorbar\":{\"outlinewidth\":0,\"tickcolor\":\"rgb(36,36,36)\",\"ticklen\":8,\"ticks\":\"outside\",\"tickwidth\":2},\"type\":\"mesh3d\"}],\"parcoords\":[{\"line\":{\"colorbar\":{\"outlinewidth\":0,\"tickcolor\":\"rgb(36,36,36)\",\"ticklen\":8,\"ticks\":\"outside\",\"tickwidth\":2}},\"type\":\"parcoords\"}],\"pie\":[{\"automargin\":true,\"type\":\"pie\"}],\"scatter3d\":[{\"line\":{\"colorbar\":{\"outlinewidth\":0,\"tickcolor\":\"rgb(36,36,36)\",\"ticklen\":8,\"ticks\":\"outside\",\"tickwidth\":2}},\"marker\":{\"colorbar\":{\"outlinewidth\":0,\"tickcolor\":\"rgb(36,36,36)\",\"ticklen\":8,\"ticks\":\"outside\",\"tickwidth\":2}},\"type\":\"scatter3d\"}],\"scattercarpet\":[{\"marker\":{\"colorbar\":{\"outlinewidth\":0,\"tickcolor\":\"rgb(36,36,36)\",\"ticklen\":8,\"ticks\":\"outside\",\"tickwidth\":2}},\"type\":\"scattercarpet\"}],\"scattergeo\":[{\"marker\":{\"colorbar\":{\"outlinewidth\":0,\"tickcolor\":\"rgb(36,36,36)\",\"ticklen\":8,\"ticks\":\"outside\",\"tickwidth\":2}},\"type\":\"scattergeo\"}],\"scattergl\":[{\"marker\":{\"colorbar\":{\"outlinewidth\":0,\"tickcolor\":\"rgb(36,36,36)\",\"ticklen\":8,\"ticks\":\"outside\",\"tickwidth\":2}},\"type\":\"scattergl\"}],\"scattermapbox\":[{\"marker\":{\"colorbar\":{\"outlinewidth\":0,\"tickcolor\":\"rgb(36,36,36)\",\"ticklen\":8,\"ticks\":\"outside\",\"tickwidth\":2}},\"type\":\"scattermapbox\"}],\"scatterpolargl\":[{\"marker\":{\"colorbar\":{\"outlinewidth\":0,\"tickcolor\":\"rgb(36,36,36)\",\"ticklen\":8,\"ticks\":\"outside\",\"tickwidth\":2}},\"type\":\"scatterpolargl\"}],\"scatterpolar\":[{\"marker\":{\"colorbar\":{\"outlinewidth\":0,\"tickcolor\":\"rgb(36,36,36)\",\"ticklen\":8,\"ticks\":\"outside\",\"tickwidth\":2}},\"type\":\"scatterpolar\"}],\"scatter\":[{\"fillpattern\":{\"fillmode\":\"overlay\",\"size\":10,\"solidity\":0.2},\"type\":\"scatter\"}],\"scatterternary\":[{\"marker\":{\"colorbar\":{\"outlinewidth\":0,\"tickcolor\":\"rgb(36,36,36)\",\"ticklen\":8,\"ticks\":\"outside\",\"tickwidth\":2}},\"type\":\"scatterternary\"}],\"surface\":[{\"colorbar\":{\"outlinewidth\":0,\"tickcolor\":\"rgb(36,36,36)\",\"ticklen\":8,\"ticks\":\"outside\",\"tickwidth\":2},\"colorscale\":[[0.0,\"rgb(2,4,25)\"],[0.06274509803921569,\"rgb(24,15,41)\"],[0.12549019607843137,\"rgb(47,23,57)\"],[0.18823529411764706,\"rgb(71,28,72)\"],[0.25098039215686274,\"rgb(97,30,82)\"],[0.3137254901960784,\"rgb(123,30,89)\"],[0.3764705882352941,\"rgb(150,27,91)\"],[0.4392156862745098,\"rgb(177,22,88)\"],[0.5019607843137255,\"rgb(203,26,79)\"],[0.5647058823529412,\"rgb(223,47,67)\"],[0.6274509803921569,\"rgb(236,76,61)\"],[0.6901960784313725,\"rgb(242,107,73)\"],[0.7529411764705882,\"rgb(244,135,95)\"],[0.8156862745098039,\"rgb(245,162,122)\"],[0.8784313725490196,\"rgb(246,188,153)\"],[0.9411764705882353,\"rgb(247,212,187)\"],[1.0,\"rgb(250,234,220)\"]],\"type\":\"surface\"}],\"table\":[{\"cells\":{\"fill\":{\"color\":\"rgb(231,231,240)\"},\"line\":{\"color\":\"white\"}},\"header\":{\"fill\":{\"color\":\"rgb(183,183,191)\"},\"line\":{\"color\":\"white\"}},\"type\":\"table\"}]},\"layout\":{\"annotationdefaults\":{\"arrowcolor\":\"rgb(67,103,167)\"},\"autotypenumbers\":\"strict\",\"coloraxis\":{\"colorbar\":{\"outlinewidth\":0,\"tickcolor\":\"rgb(36,36,36)\",\"ticklen\":8,\"ticks\":\"outside\",\"tickwidth\":2}},\"colorscale\":{\"sequential\":[[0.0,\"rgb(2,4,25)\"],[0.06274509803921569,\"rgb(24,15,41)\"],[0.12549019607843137,\"rgb(47,23,57)\"],[0.18823529411764706,\"rgb(71,28,72)\"],[0.25098039215686274,\"rgb(97,30,82)\"],[0.3137254901960784,\"rgb(123,30,89)\"],[0.3764705882352941,\"rgb(150,27,91)\"],[0.4392156862745098,\"rgb(177,22,88)\"],[0.5019607843137255,\"rgb(203,26,79)\"],[0.5647058823529412,\"rgb(223,47,67)\"],[0.6274509803921569,\"rgb(236,76,61)\"],[0.6901960784313725,\"rgb(242,107,73)\"],[0.7529411764705882,\"rgb(244,135,95)\"],[0.8156862745098039,\"rgb(245,162,122)\"],[0.8784313725490196,\"rgb(246,188,153)\"],[0.9411764705882353,\"rgb(247,212,187)\"],[1.0,\"rgb(250,234,220)\"]],\"sequentialminus\":[[0.0,\"rgb(2,4,25)\"],[0.06274509803921569,\"rgb(24,15,41)\"],[0.12549019607843137,\"rgb(47,23,57)\"],[0.18823529411764706,\"rgb(71,28,72)\"],[0.25098039215686274,\"rgb(97,30,82)\"],[0.3137254901960784,\"rgb(123,30,89)\"],[0.3764705882352941,\"rgb(150,27,91)\"],[0.4392156862745098,\"rgb(177,22,88)\"],[0.5019607843137255,\"rgb(203,26,79)\"],[0.5647058823529412,\"rgb(223,47,67)\"],[0.6274509803921569,\"rgb(236,76,61)\"],[0.6901960784313725,\"rgb(242,107,73)\"],[0.7529411764705882,\"rgb(244,135,95)\"],[0.8156862745098039,\"rgb(245,162,122)\"],[0.8784313725490196,\"rgb(246,188,153)\"],[0.9411764705882353,\"rgb(247,212,187)\"],[1.0,\"rgb(250,234,220)\"]]},\"colorway\":[\"rgb(76,114,176)\",\"rgb(221,132,82)\",\"rgb(85,168,104)\",\"rgb(196,78,82)\",\"rgb(129,114,179)\",\"rgb(147,120,96)\",\"rgb(218,139,195)\",\"rgb(140,140,140)\",\"rgb(204,185,116)\",\"rgb(100,181,205)\"],\"font\":{\"color\":\"rgb(36,36,36)\"},\"geo\":{\"bgcolor\":\"white\",\"lakecolor\":\"white\",\"landcolor\":\"rgb(234,234,242)\",\"showlakes\":true,\"showland\":true,\"subunitcolor\":\"white\"},\"hoverlabel\":{\"align\":\"left\"},\"hovermode\":\"closest\",\"paper_bgcolor\":\"white\",\"plot_bgcolor\":\"rgb(234,234,242)\",\"polar\":{\"angularaxis\":{\"gridcolor\":\"white\",\"linecolor\":\"white\",\"showgrid\":true,\"ticks\":\"\"},\"bgcolor\":\"rgb(234,234,242)\",\"radialaxis\":{\"gridcolor\":\"white\",\"linecolor\":\"white\",\"showgrid\":true,\"ticks\":\"\"}},\"scene\":{\"xaxis\":{\"backgroundcolor\":\"rgb(234,234,242)\",\"gridcolor\":\"white\",\"gridwidth\":2,\"linecolor\":\"white\",\"showbackground\":true,\"showgrid\":true,\"ticks\":\"\",\"zerolinecolor\":\"white\"},\"yaxis\":{\"backgroundcolor\":\"rgb(234,234,242)\",\"gridcolor\":\"white\",\"gridwidth\":2,\"linecolor\":\"white\",\"showbackground\":true,\"showgrid\":true,\"ticks\":\"\",\"zerolinecolor\":\"white\"},\"zaxis\":{\"backgroundcolor\":\"rgb(234,234,242)\",\"gridcolor\":\"white\",\"gridwidth\":2,\"linecolor\":\"white\",\"showbackground\":true,\"showgrid\":true,\"ticks\":\"\",\"zerolinecolor\":\"white\"}},\"shapedefaults\":{\"fillcolor\":\"rgb(67,103,167)\",\"line\":{\"width\":0},\"opacity\":0.5},\"ternary\":{\"aaxis\":{\"gridcolor\":\"white\",\"linecolor\":\"white\",\"showgrid\":true,\"ticks\":\"\"},\"baxis\":{\"gridcolor\":\"white\",\"linecolor\":\"white\",\"showgrid\":true,\"ticks\":\"\"},\"bgcolor\":\"rgb(234,234,242)\",\"caxis\":{\"gridcolor\":\"white\",\"linecolor\":\"white\",\"showgrid\":true,\"ticks\":\"\"}},\"xaxis\":{\"automargin\":true,\"gridcolor\":\"white\",\"linecolor\":\"white\",\"showgrid\":true,\"ticks\":\"\",\"title\":{\"standoff\":15},\"zerolinecolor\":\"white\"},\"yaxis\":{\"automargin\":true,\"gridcolor\":\"white\",\"linecolor\":\"white\",\"showgrid\":true,\"ticks\":\"\",\"title\":{\"standoff\":15},\"zerolinecolor\":\"white\"}}},\"xaxis\":{\"anchor\":\"y\",\"domain\":[0.0,1.0],\"title\":{\"text\":\"Percentage of danceability \"}},\"yaxis\":{\"anchor\":\"x\",\"domain\":[0.0,1.0],\"title\":{\"text\":\"Number Of Streams In Millions\"}},\"coloraxis\":{\"colorbar\":{\"title\":{\"text\":\"Number Of Streams In Millions\"}},\"colorscale\":[[0.0,\"rgb(2,4,25)\"],[0.0625,\"rgb(24,15,41)\"],[0.125,\"rgb(47,23,57)\"],[0.1875,\"rgb(71,28,72)\"],[0.25,\"rgb(97,30,82)\"],[0.3125,\"rgb(123,30,89)\"],[0.375,\"rgb(150,27,91)\"],[0.4375,\"rgb(177,22,88)\"],[0.5,\"rgb(203,26,79)\"],[0.5625,\"rgb(223,47,67)\"],[0.625,\"rgb(236,76,61)\"],[0.6875,\"rgb(242,107,73)\"],[0.75,\"rgb(244,135,95)\"],[0.8125,\"rgb(245,162,122)\"],[0.875,\"rgb(246,188,153)\"],[0.9375,\"rgb(247,212,187)\"],[1.0,\"rgb(250,234,220)\"]]},\"legend\":{\"tracegroupgap\":0},\"title\":{\"text\":\"Is The Songs Suitable for Dancing Affect Number of Streams \"},\"height\":700,\"width\":1200},                        {\"responsive\": true}                    ).then(function(){\n",
       "                            \n",
       "var gd = document.getElementById('47325fd1-b73f-403b-a864-09765f72665d');\n",
       "var x = new MutationObserver(function (mutations, observer) {{\n",
       "        var display = window.getComputedStyle(gd).display;\n",
       "        if (!display || display === 'none') {{\n",
       "            console.log([gd, 'removed!']);\n",
       "            Plotly.purge(gd);\n",
       "            observer.disconnect();\n",
       "        }}\n",
       "}});\n",
       "\n",
       "// Listen for the removal of the full notebook cells\n",
       "var notebookContainer = gd.closest('#notebook-container');\n",
       "if (notebookContainer) {{\n",
       "    x.observe(notebookContainer, {childList: true});\n",
       "}}\n",
       "\n",
       "// Listen for the clearing of the current output cell\n",
       "var outputEl = gd.closest('.output');\n",
       "if (outputEl) {{\n",
       "    x.observe(outputEl, {childList: true});\n",
       "}}\n",
       "\n",
       "                        })                };                });            </script>        </div>"
      ]
     },
     "metadata": {},
     "output_type": "display_data"
    }
   ],
   "source": [
    "#Ploting Relation between dancing songs and number of streams \n",
    "danceability_plt = px.scatter(danceability,y= 'streams_in_millions', x = 'danceability_%',template = 'seaborn',width = 1200, height = 700,\n",
    "                                 color = 'streams_in_millions',title = 'Is The Songs Suitable for Dancing Affect Number of Streams ', labels = {\n",
    "                                 'danceability_%': 'Percentage of danceability ', 'streams_in_millions': 'Number Of Streams In Millions'})\n",
    "danceability_plt"
   ]
  },
  {
   "cell_type": "code",
   "execution_count": 27,
   "id": "642f4666",
   "metadata": {
    "execution": {
     "iopub.execute_input": "2024-03-25T17:13:12.533404Z",
     "iopub.status.busy": "2024-03-25T17:13:12.532066Z",
     "iopub.status.idle": "2024-03-25T17:13:12.546345Z",
     "shell.execute_reply": "2024-03-25T17:13:12.545010Z"
    },
    "papermill": {
     "duration": 0.032642,
     "end_time": "2024-03-25T17:13:12.548860",
     "exception": false,
     "start_time": "2024-03-25T17:13:12.516218",
     "status": "completed"
    },
    "tags": []
   },
   "outputs": [
    {
     "data": {
      "text/html": [
       "<div>\n",
       "<style scoped>\n",
       "    .dataframe tbody tr th:only-of-type {\n",
       "        vertical-align: middle;\n",
       "    }\n",
       "\n",
       "    .dataframe tbody tr th {\n",
       "        vertical-align: top;\n",
       "    }\n",
       "\n",
       "    .dataframe thead th {\n",
       "        text-align: right;\n",
       "    }\n",
       "</style>\n",
       "<table border=\"1\" class=\"dataframe\">\n",
       "  <thead>\n",
       "    <tr style=\"text-align: right;\">\n",
       "      <th></th>\n",
       "      <th>speechiness_%</th>\n",
       "      <th>streams_in_millions</th>\n",
       "    </tr>\n",
       "  </thead>\n",
       "  <tbody>\n",
       "    <tr>\n",
       "      <th>247</th>\n",
       "      <td>64</td>\n",
       "      <td>71.57</td>\n",
       "    </tr>\n",
       "    <tr>\n",
       "      <th>935</th>\n",
       "      <td>59</td>\n",
       "      <td>170.41</td>\n",
       "    </tr>\n",
       "    <tr>\n",
       "      <th>209</th>\n",
       "      <td>49</td>\n",
       "      <td>113.51</td>\n",
       "    </tr>\n",
       "    <tr>\n",
       "      <th>928</th>\n",
       "      <td>46</td>\n",
       "      <td>85.56</td>\n",
       "    </tr>\n",
       "    <tr>\n",
       "      <th>426</th>\n",
       "      <td>46</td>\n",
       "      <td>199.39</td>\n",
       "    </tr>\n",
       "    <tr>\n",
       "      <th>...</th>\n",
       "      <td>...</td>\n",
       "      <td>...</td>\n",
       "    </tr>\n",
       "    <tr>\n",
       "      <th>124</th>\n",
       "      <td>3</td>\n",
       "      <td>330.35</td>\n",
       "    </tr>\n",
       "    <tr>\n",
       "      <th>693</th>\n",
       "      <td>3</td>\n",
       "      <td>2484.81</td>\n",
       "    </tr>\n",
       "    <tr>\n",
       "      <th>369</th>\n",
       "      <td>2</td>\n",
       "      <td>236.86</td>\n",
       "    </tr>\n",
       "    <tr>\n",
       "      <th>138</th>\n",
       "      <td>2</td>\n",
       "      <td>2559.53</td>\n",
       "    </tr>\n",
       "    <tr>\n",
       "      <th>910</th>\n",
       "      <td>2</td>\n",
       "      <td>1608.16</td>\n",
       "    </tr>\n",
       "  </tbody>\n",
       "</table>\n",
       "<p>952 rows × 2 columns</p>\n",
       "</div>"
      ],
      "text/plain": [
       "     speechiness_%  streams_in_millions\n",
       "247             64                71.57\n",
       "935             59               170.41\n",
       "209             49               113.51\n",
       "928             46                85.56\n",
       "426             46               199.39\n",
       "..             ...                  ...\n",
       "124              3               330.35\n",
       "693              3              2484.81\n",
       "369              2               236.86\n",
       "138              2              2559.53\n",
       "910              2              1608.16\n",
       "\n",
       "[952 rows x 2 columns]"
      ]
     },
     "execution_count": 27,
     "metadata": {},
     "output_type": "execute_result"
    }
   ],
   "source": [
    "# How the amount of speaking word in the song affect the number of streams \n",
    "speechiness = sp.filter(items =['speechiness_%','streams_in_millions'],axis = 1)\n",
    "# sorting by the amount of speaking word in the song in decending order\n",
    "speechiness = speechiness.sort_values(by = 'speechiness_%',ascending = False)\n",
    "speechiness"
   ]
  },
  {
   "cell_type": "code",
   "execution_count": 28,
   "id": "0cdaea23",
   "metadata": {
    "execution": {
     "iopub.execute_input": "2024-03-25T17:13:12.580378Z",
     "iopub.status.busy": "2024-03-25T17:13:12.579640Z",
     "iopub.status.idle": "2024-03-25T17:13:12.651904Z",
     "shell.execute_reply": "2024-03-25T17:13:12.650457Z"
    },
    "papermill": {
     "duration": 0.093128,
     "end_time": "2024-03-25T17:13:12.656160",
     "exception": false,
     "start_time": "2024-03-25T17:13:12.563032",
     "status": "completed"
    },
    "tags": []
   },
   "outputs": [
    {
     "data": {
      "text/html": [
       "<div>                            <div id=\"863890be-7c44-4a54-830e-3ffee671eba6\" class=\"plotly-graph-div\" style=\"height:700px; width:1200px;\"></div>            <script type=\"text/javascript\">                require([\"plotly\"], function(Plotly) {                    window.PLOTLYENV=window.PLOTLYENV || {};                                    if (document.getElementById(\"863890be-7c44-4a54-830e-3ffee671eba6\")) {                    Plotly.newPlot(                        \"863890be-7c44-4a54-830e-3ffee671eba6\",                        [{\"hovertemplate\":\"Percentage of Speechiness =%{x}\\u003cbr\\u003eNumber Of Streams In Millions=%{marker.color}\\u003cextra\\u003e\\u003c\\u002fextra\\u003e\",\"legendgroup\":\"\",\"marker\":{\"color\":[71.57,170.41,113.51,85.56,199.39,86.18,273.91,129.31,2123.31,187.7,156.9,190.49,212.23,50.75,185.24,81.35,94.62,339.47,322.34,206.4,184.83,253.65,344.06,57.14,298.06,37.78,107.26,394.03,1202.72,184.94,116.14,146.22,582.98,162.89,68.9,121.08,61.74,127.31,33.38,245.1,191.95,1180.9,160.85,276.26,71.42,556.59,101.78,560.22,65.5,93.59,271.67,1791.0,553.63,144.57,1435.13,374.19,154.86,80.76,93.37,606.36,58.69,212.35,254.22,294.35,1304.31,624.52,461.56,500.34,267.76,594.48,100.41,118.81,245.4,135.44,37.31,76.83,195.52,674.07,482.26,93.44,1241.56,2565.53,133.75,618.99,1223.48,229.47,263.89,54.94,240.68,176.29,106.25,237.35,124.99,448.5,81.42,277.13,593.92,1022.26,1829.99,185.39,1264.31,843.31,184.62,194.9,11.96,266.62,65.16,176.1,1210.6,573.63,183.71,527.03,428.69,64.79,797.4,174.01,2288.7,1279.43,863.63,331.51,1062.35,178.51,148.46,236.06,73.98,1223.48,85.92,57.95,363.47,920.8,513.64,822.24,299.63,217.67,684.68,467.73,506.78,203.68,307.75,101.11,918.92,499.71,401.04,173.7,112.44,479.66,117.21,115.36,233.8,184.31,58.47,1695.71,183.27,109.09,37.09,538.12,91.66,302.01,311.4,104.99,16.01,673.8,170.71,1887.04,834.13,1445.94,181.33,252.87,223.06,330.88,618.89,248.09,376.33,516.78,118.38,528.54,155.65,356.71,304.12,225.26,137.0,335.22,335.07,1113.84,37.13,120.85,1735.44,381.16,115.01,800.84,76.77,287.28,595.9,887.91,342.78,489.95,357.93,301.24,218.32,229.5,333.15,383.84,236.87,421.37,191.45,399.69,956.87,665.77,39.67,863.76,116.6,288.1,362.36,850.61,43.52,131.75,232.0,191.33,123.12,24.98,1252.56,62.02,177.5,459.28,246.13,1929.77,219.2,190.98,189.48,563.9,323.46,1260.59,265.55,223.32,1897.52,720.83,448.84,231.33,247.74,461.44,41.92,611.7,806.4,2594.04,397.58,210.04,532.34,247.69,108.81,157.14,244.79,284.22,79.1,1143.65,121.19,782.37,1047.1,1692.9,578.21,1065.58,309.65,2864.79,357.58,326.79,694.53,325.59,171.79,551.31,950.91,355.22,139.19,463.56,972.51,235.55,1093.61,882.83,405.14,244.66,181.83,284.82,426.2,2557.98,135.61,1138.47,94.01,1687.66,1230.68,293.47,261.29,258.71,95.13,193.44,39.71,1256.88,674.77,153.45,41.21,164.16,126.19,71.01,91.22,107.64,160.04,123.22,1302.18,78.3,158.95,304.08,1329.09,212.11,134.26,143.57,614.56,95.22,263.78,198.88,221.75,1806.62,501.54,279.72,393.23,213.44,159.24,865.64,775.54,2303.03,1440.76,170.73,120.97,177.13,179.06,716.59,301.05,675.04,191.87,327.5,421.14,354.61,200.97,939.84,245.35,30.34,279.74,797.2,150.5,32.76,51.64,146.41,432.72,244.74,49.26,488.39,809.31,3562.54,75.48,109.28,307.37,197.64,1953.53,682.48,546.19,1947.37,110.85,588.96,119.24,51.99,201.66,208.17,1.37,153.37,284.79,596.15,301.87,258.32,1690.19,47.09,141.72,518.75,1647.99,1316.86,723.89,60.68,56.87,58.26,283.36,502.57,328.21,106.93,57.31,222.41,404.56,202.45,246.38,98.71,345.9,601.86,130.42,143.14,711.37,175.4,58.05,165.48,609.29,433.36,116.33,1042.57,585.7,77.38,610.05,723.89,1858.14,53.6,373.2,175.1,278.92,291.71,3703.9,826.62,1802.51,354.07,540.54,317.73,566.95,348.65,65.36,1608.05,473.25,78.14,422.69,672.66,146.36,46.14,657.72,95.82,655.47,354.5,168.45,248.51,273.01,89.57,76.91,90.84,1714.49,807.02,53.99,1424.59,1205.95,65.72,244.93,43.86,345.03,142.1,106.92,1024.86,195.58,77.31,86.77,403.23,1167.33,283.33,726.31,195.63,1200.81,176.55,346.13,477.03,78.49,168.68,77.34,1814.35,140.0,122.76,496.31,103.79,309.48,1624.17,303.24,685.07,209.77,73.51,121.87,303.22,2513.19,136.68,81.1,105.06,22.58,1355.96,149.78,272.38,920.05,1357.61,231.66,295.31,138.33,115.33,213.51,436.7,1553.5,703.3,244.59,1763.36,154.36,198.37,186.1,133.9,233.67,71.01,195.92,349.75,1759.57,465.96,432.7,1180.09,64.71,777.77,154.12,427.49,951.64,1439.19,759.21,2197.01,1970.67,466.21,190.63,2236.67,363.47,417.23,313.11,824.42,167.08,305.65,338.42,374.71,382.2,185.55,54.68,261.41,296.0,96.01,721.98,117.75,90.6,380.73,769.21,70.11,221.41,138.52,838.08,485.29,29.56,1047.48,172.83,286.4,145.46,415.93,988.52,2665.34,39.89,110.07,88.09,497.23,92.04,1479.12,2322.58,66.9,47.96,2713.92,436.03,1840.36,332.51,403.1,1481.35,95.05,31.87,255.93,11.6,462.79,1641.43,2135.16,263.45,671.37,872.14,1217.12,367.32,246.39,96.27,77.23,50.85,242.77,349.59,539.6,34.5,1007.61,147.29,198.28,2808.1,200.65,339.66,743.69,54.27,116.9,1367.81,999.75,843.96,52.29,127.41,178.66,885.09,1085.69,2420.46,471.82,123.13,156.34,111.95,223.58,256.48,68.22,110.65,1230.86,107.75,505.67,53.93,482.18,1131.09,1267.33,94.19,1271.29,61.11,53.73,2132.34,255.12,240.66,1457.14,187.77,466.23,319.55,933.82,1661.19,726.43,103.76,157.99,185.24,57.09,822.63,127.03,232.9,161.46,68.62,64.53,677.39,207.03,305.77,540.65,42.49,236.94,1235.01,223.63,387.08,264.72,1356.57,97.61,123.47,295.15,14.78,239.41,812.02,1214.08,1813.67,57.88,380.32,209.11,84.7,1109.43,786.18,176.47,123.12,140.43,429.83,61.25,899.18,187.34,86.44,363.37,1163.09,181.38,58.15,2009.09,250.31,1410.09,685.03,284.25,300.98,929.96,2011.46,1284.94,132.17,1133.87,334.73,366.21,114.55,290.83,54.23,1449.8,273.19,430.98,91.78,0.0,189.24,342.9,211.05,55.84,286.74,36.91,137.07,164.86,704.17,263.28,155.8,38.41,2204.08,141.38,173.63,1606.99,663.83,1456.08,1449.78,1479.26,991.34,90.03,163.28,211.37,651.73,608.33,222.61,140.19,338.56,70.07,323.36,445.76,480.51,152.85,156.34,1061.97,319.57,343.2,240.77,34.45,554.88,185.41,290.23,446.39,520.03,476.24,611.99,1056.76,1168.64,656.01,383.55,726.84,421.04,130.66,888.05,686.73,180.58,608.23,323.44,31.96,127.03,133.72,1699.4,154.8,135.72,67.54,429.5,783.71,389.77,851.07,629.17,579.4,227.92,756.91,182.98,83.02,312.62,972.16,166.57,1361.43,52.72,652.7,156.78,317.62,165.58,202.68,67.07,299.65,498.96,153.24,2282.77,124.41,39.58,720.43,240.92,408.84,156.21,137.12,367.81,395.59,751.13,1755.21,96.18,351.64,1472.8,118.48,983.64,127.57,404.66,460.49,395.59,157.06,2887.24,121.91,63.8,39.23,600.98,403.94,635.41,1592.91,481.7,1127.47,261.12,134.29,136.69,510.88,705.47,1297.03,52.14,267.79,30.55,71.1,496.8,203.44,2591.22,387.57,599.77,91.47,287.2,583.69,725.98,530.51,74.6,624.1,1575.47,177.74,1023.19,924.19,570.52,225.09,1115.88,391.25,319.76,1309.89,723.04,188.93,449.7,200.66,88.1,1221.81,404.89,412.8,156.66,1605.22,621.66,60.35,146.79,46.07,297.33,370.07,789.75,2280.57,226.9,411.75,240.58,457.18,1089.4,244.89,1301.8,184.71,646.89,1591.22,1593.27,32.53,582.86,350.38,203.22,56.53,147.54,841.75,265.88,698.09,372.48,139.84,284.91,1788.33,89.93,58.89,1374.58,909.0,135.08,681.58,1406.11,144.58,39.06,187.7,807.56,607.12,445.59,1122.36,368.65,1062.96,184.81,741.3,293.19,139.68,179.66,1163.62,690.1,1117.0,1145.73,238.35,1159.18,282.88,148.47,95.62,125.92,2159.35,571.39,53.91,838.59,1555.51,126.44,311.48,88.79,2355.72,366.6,199.59,2086.12,330.35,2484.81,236.86,2559.53,1608.16],\"coloraxis\":\"coloraxis\",\"symbol\":\"circle\"},\"mode\":\"markers\",\"name\":\"\",\"orientation\":\"v\",\"showlegend\":false,\"x\":[64,59,49,46,46,46,45,45,44,44,43,42,41,40,40,40,40,39,39,39,39,39,38,38,38,38,38,37,37,36,36,36,36,36,36,36,36,35,35,35,35,34,34,34,34,34,34,33,33,33,33,33,33,33,32,32,32,32,32,32,32,31,31,31,31,31,31,31,31,30,30,30,30,29,29,29,29,29,29,29,28,28,28,28,28,28,28,28,27,27,27,27,27,26,26,26,26,26,26,25,25,25,25,25,25,25,25,25,24,24,24,24,24,24,24,24,24,24,23,23,23,23,23,23,23,23,23,23,23,22,22,22,22,22,22,22,21,21,21,21,21,21,21,21,20,20,20,20,20,20,20,20,20,20,19,19,19,19,19,19,19,18,18,18,18,18,18,17,17,17,17,17,17,16,16,16,16,16,16,16,16,16,16,16,15,15,15,15,15,15,14,14,14,14,14,14,14,14,14,14,14,14,14,14,14,13,13,13,13,13,13,13,13,13,13,13,13,12,12,12,12,12,12,12,12,12,12,12,12,12,12,12,12,11,11,11,11,11,11,11,11,11,11,11,11,11,11,11,11,11,11,11,11,11,11,10,10,10,10,10,10,10,10,10,10,10,10,10,10,10,10,10,10,10,10,10,10,10,10,9,9,9,9,9,9,9,9,9,9,9,9,9,9,9,9,9,9,9,9,9,9,9,9,9,9,9,9,9,9,9,9,9,9,9,9,9,8,8,8,8,8,8,8,8,8,8,8,8,8,8,8,8,8,8,8,8,8,8,8,8,8,8,8,8,8,8,8,8,8,8,8,8,8,8,8,8,8,8,8,8,8,8,8,8,8,8,8,8,7,7,7,7,7,7,7,7,7,7,7,7,7,7,7,7,7,7,7,7,7,7,7,7,7,7,7,7,7,7,7,7,7,7,7,7,7,7,7,7,7,7,7,7,7,7,7,7,7,6,6,6,6,6,6,6,6,6,6,6,6,6,6,6,6,6,6,6,6,6,6,6,6,6,6,6,6,6,6,6,6,6,6,6,6,6,6,6,6,6,6,6,6,6,6,6,6,6,6,6,6,6,6,6,6,6,6,6,6,6,6,6,6,6,6,6,6,6,6,6,6,6,6,6,6,5,5,5,5,5,5,5,5,5,5,5,5,5,5,5,5,5,5,5,5,5,5,5,5,5,5,5,5,5,5,5,5,5,5,5,5,5,5,5,5,5,5,5,5,5,5,5,5,5,5,5,5,5,5,5,5,5,5,5,5,5,5,5,5,5,5,5,5,5,5,5,5,5,5,5,5,5,5,5,5,5,5,5,5,5,5,5,5,5,5,5,5,5,5,5,5,5,5,5,5,5,5,5,5,5,5,5,5,5,5,5,5,5,5,5,5,5,5,5,5,5,5,5,5,5,5,5,5,5,5,4,4,4,4,4,4,4,4,4,4,4,4,4,4,4,4,4,4,4,4,4,4,4,4,4,4,4,4,4,4,4,4,4,4,4,4,4,4,4,4,4,4,4,4,4,4,4,4,4,4,4,4,4,4,4,4,4,4,4,4,4,4,4,4,4,4,4,4,4,4,4,4,4,4,4,4,4,4,4,4,4,4,4,4,4,4,4,4,4,4,4,4,4,4,4,4,4,4,4,4,4,4,4,4,4,4,4,4,4,4,4,4,4,4,4,4,4,4,4,4,4,4,4,4,4,4,4,4,4,4,4,4,4,4,4,4,4,4,4,4,4,4,4,4,4,4,4,4,4,4,4,4,4,4,4,4,4,4,4,4,4,4,4,4,4,4,4,4,4,4,4,4,4,4,4,3,3,3,3,3,3,3,3,3,3,3,3,3,3,3,3,3,3,3,3,3,3,3,3,3,3,3,3,3,3,3,3,3,3,3,3,3,3,3,3,3,3,3,3,3,3,3,3,3,3,3,3,3,3,3,3,3,3,3,3,3,3,3,3,3,3,3,3,3,3,3,3,3,3,3,3,3,3,3,3,3,3,3,3,3,3,3,3,3,3,3,3,3,3,3,3,3,3,3,3,3,3,3,3,3,3,3,3,3,3,3,3,3,3,3,3,3,3,3,3,3,3,3,3,3,3,3,3,3,3,3,3,3,3,3,3,3,3,3,3,3,3,3,3,3,3,3,3,3,3,3,2,2,2],\"xaxis\":\"x\",\"y\":[71.57,170.41,113.51,85.56,199.39,86.18,273.91,129.31,2123.31,187.7,156.9,190.49,212.23,50.75,185.24,81.35,94.62,339.47,322.34,206.4,184.83,253.65,344.06,57.14,298.06,37.78,107.26,394.03,1202.72,184.94,116.14,146.22,582.98,162.89,68.9,121.08,61.74,127.31,33.38,245.1,191.95,1180.9,160.85,276.26,71.42,556.59,101.78,560.22,65.5,93.59,271.67,1791.0,553.63,144.57,1435.13,374.19,154.86,80.76,93.37,606.36,58.69,212.35,254.22,294.35,1304.31,624.52,461.56,500.34,267.76,594.48,100.41,118.81,245.4,135.44,37.31,76.83,195.52,674.07,482.26,93.44,1241.56,2565.53,133.75,618.99,1223.48,229.47,263.89,54.94,240.68,176.29,106.25,237.35,124.99,448.5,81.42,277.13,593.92,1022.26,1829.99,185.39,1264.31,843.31,184.62,194.9,11.96,266.62,65.16,176.1,1210.6,573.63,183.71,527.03,428.69,64.79,797.4,174.01,2288.7,1279.43,863.63,331.51,1062.35,178.51,148.46,236.06,73.98,1223.48,85.92,57.95,363.47,920.8,513.64,822.24,299.63,217.67,684.68,467.73,506.78,203.68,307.75,101.11,918.92,499.71,401.04,173.7,112.44,479.66,117.21,115.36,233.8,184.31,58.47,1695.71,183.27,109.09,37.09,538.12,91.66,302.01,311.4,104.99,16.01,673.8,170.71,1887.04,834.13,1445.94,181.33,252.87,223.06,330.88,618.89,248.09,376.33,516.78,118.38,528.54,155.65,356.71,304.12,225.26,137.0,335.22,335.07,1113.84,37.13,120.85,1735.44,381.16,115.01,800.84,76.77,287.28,595.9,887.91,342.78,489.95,357.93,301.24,218.32,229.5,333.15,383.84,236.87,421.37,191.45,399.69,956.87,665.77,39.67,863.76,116.6,288.1,362.36,850.61,43.52,131.75,232.0,191.33,123.12,24.98,1252.56,62.02,177.5,459.28,246.13,1929.77,219.2,190.98,189.48,563.9,323.46,1260.59,265.55,223.32,1897.52,720.83,448.84,231.33,247.74,461.44,41.92,611.7,806.4,2594.04,397.58,210.04,532.34,247.69,108.81,157.14,244.79,284.22,79.1,1143.65,121.19,782.37,1047.1,1692.9,578.21,1065.58,309.65,2864.79,357.58,326.79,694.53,325.59,171.79,551.31,950.91,355.22,139.19,463.56,972.51,235.55,1093.61,882.83,405.14,244.66,181.83,284.82,426.2,2557.98,135.61,1138.47,94.01,1687.66,1230.68,293.47,261.29,258.71,95.13,193.44,39.71,1256.88,674.77,153.45,41.21,164.16,126.19,71.01,91.22,107.64,160.04,123.22,1302.18,78.3,158.95,304.08,1329.09,212.11,134.26,143.57,614.56,95.22,263.78,198.88,221.75,1806.62,501.54,279.72,393.23,213.44,159.24,865.64,775.54,2303.03,1440.76,170.73,120.97,177.13,179.06,716.59,301.05,675.04,191.87,327.5,421.14,354.61,200.97,939.84,245.35,30.34,279.74,797.2,150.5,32.76,51.64,146.41,432.72,244.74,49.26,488.39,809.31,3562.54,75.48,109.28,307.37,197.64,1953.53,682.48,546.19,1947.37,110.85,588.96,119.24,51.99,201.66,208.17,1.37,153.37,284.79,596.15,301.87,258.32,1690.19,47.09,141.72,518.75,1647.99,1316.86,723.89,60.68,56.87,58.26,283.36,502.57,328.21,106.93,57.31,222.41,404.56,202.45,246.38,98.71,345.9,601.86,130.42,143.14,711.37,175.4,58.05,165.48,609.29,433.36,116.33,1042.57,585.7,77.38,610.05,723.89,1858.14,53.6,373.2,175.1,278.92,291.71,3703.9,826.62,1802.51,354.07,540.54,317.73,566.95,348.65,65.36,1608.05,473.25,78.14,422.69,672.66,146.36,46.14,657.72,95.82,655.47,354.5,168.45,248.51,273.01,89.57,76.91,90.84,1714.49,807.02,53.99,1424.59,1205.95,65.72,244.93,43.86,345.03,142.1,106.92,1024.86,195.58,77.31,86.77,403.23,1167.33,283.33,726.31,195.63,1200.81,176.55,346.13,477.03,78.49,168.68,77.34,1814.35,140.0,122.76,496.31,103.79,309.48,1624.17,303.24,685.07,209.77,73.51,121.87,303.22,2513.19,136.68,81.1,105.06,22.58,1355.96,149.78,272.38,920.05,1357.61,231.66,295.31,138.33,115.33,213.51,436.7,1553.5,703.3,244.59,1763.36,154.36,198.37,186.1,133.9,233.67,71.01,195.92,349.75,1759.57,465.96,432.7,1180.09,64.71,777.77,154.12,427.49,951.64,1439.19,759.21,2197.01,1970.67,466.21,190.63,2236.67,363.47,417.23,313.11,824.42,167.08,305.65,338.42,374.71,382.2,185.55,54.68,261.41,296.0,96.01,721.98,117.75,90.6,380.73,769.21,70.11,221.41,138.52,838.08,485.29,29.56,1047.48,172.83,286.4,145.46,415.93,988.52,2665.34,39.89,110.07,88.09,497.23,92.04,1479.12,2322.58,66.9,47.96,2713.92,436.03,1840.36,332.51,403.1,1481.35,95.05,31.87,255.93,11.6,462.79,1641.43,2135.16,263.45,671.37,872.14,1217.12,367.32,246.39,96.27,77.23,50.85,242.77,349.59,539.6,34.5,1007.61,147.29,198.28,2808.1,200.65,339.66,743.69,54.27,116.9,1367.81,999.75,843.96,52.29,127.41,178.66,885.09,1085.69,2420.46,471.82,123.13,156.34,111.95,223.58,256.48,68.22,110.65,1230.86,107.75,505.67,53.93,482.18,1131.09,1267.33,94.19,1271.29,61.11,53.73,2132.34,255.12,240.66,1457.14,187.77,466.23,319.55,933.82,1661.19,726.43,103.76,157.99,185.24,57.09,822.63,127.03,232.9,161.46,68.62,64.53,677.39,207.03,305.77,540.65,42.49,236.94,1235.01,223.63,387.08,264.72,1356.57,97.61,123.47,295.15,14.78,239.41,812.02,1214.08,1813.67,57.88,380.32,209.11,84.7,1109.43,786.18,176.47,123.12,140.43,429.83,61.25,899.18,187.34,86.44,363.37,1163.09,181.38,58.15,2009.09,250.31,1410.09,685.03,284.25,300.98,929.96,2011.46,1284.94,132.17,1133.87,334.73,366.21,114.55,290.83,54.23,1449.8,273.19,430.98,91.78,0.0,189.24,342.9,211.05,55.84,286.74,36.91,137.07,164.86,704.17,263.28,155.8,38.41,2204.08,141.38,173.63,1606.99,663.83,1456.08,1449.78,1479.26,991.34,90.03,163.28,211.37,651.73,608.33,222.61,140.19,338.56,70.07,323.36,445.76,480.51,152.85,156.34,1061.97,319.57,343.2,240.77,34.45,554.88,185.41,290.23,446.39,520.03,476.24,611.99,1056.76,1168.64,656.01,383.55,726.84,421.04,130.66,888.05,686.73,180.58,608.23,323.44,31.96,127.03,133.72,1699.4,154.8,135.72,67.54,429.5,783.71,389.77,851.07,629.17,579.4,227.92,756.91,182.98,83.02,312.62,972.16,166.57,1361.43,52.72,652.7,156.78,317.62,165.58,202.68,67.07,299.65,498.96,153.24,2282.77,124.41,39.58,720.43,240.92,408.84,156.21,137.12,367.81,395.59,751.13,1755.21,96.18,351.64,1472.8,118.48,983.64,127.57,404.66,460.49,395.59,157.06,2887.24,121.91,63.8,39.23,600.98,403.94,635.41,1592.91,481.7,1127.47,261.12,134.29,136.69,510.88,705.47,1297.03,52.14,267.79,30.55,71.1,496.8,203.44,2591.22,387.57,599.77,91.47,287.2,583.69,725.98,530.51,74.6,624.1,1575.47,177.74,1023.19,924.19,570.52,225.09,1115.88,391.25,319.76,1309.89,723.04,188.93,449.7,200.66,88.1,1221.81,404.89,412.8,156.66,1605.22,621.66,60.35,146.79,46.07,297.33,370.07,789.75,2280.57,226.9,411.75,240.58,457.18,1089.4,244.89,1301.8,184.71,646.89,1591.22,1593.27,32.53,582.86,350.38,203.22,56.53,147.54,841.75,265.88,698.09,372.48,139.84,284.91,1788.33,89.93,58.89,1374.58,909.0,135.08,681.58,1406.11,144.58,39.06,187.7,807.56,607.12,445.59,1122.36,368.65,1062.96,184.81,741.3,293.19,139.68,179.66,1163.62,690.1,1117.0,1145.73,238.35,1159.18,282.88,148.47,95.62,125.92,2159.35,571.39,53.91,838.59,1555.51,126.44,311.48,88.79,2355.72,366.6,199.59,2086.12,330.35,2484.81,236.86,2559.53,1608.16],\"yaxis\":\"y\",\"type\":\"scatter\"}],                        {\"template\":{\"data\":{\"barpolar\":[{\"marker\":{\"line\":{\"color\":\"rgb(234,234,242)\",\"width\":0.5},\"pattern\":{\"fillmode\":\"overlay\",\"size\":10,\"solidity\":0.2}},\"type\":\"barpolar\"}],\"bar\":[{\"error_x\":{\"color\":\"rgb(36,36,36)\"},\"error_y\":{\"color\":\"rgb(36,36,36)\"},\"marker\":{\"line\":{\"color\":\"rgb(234,234,242)\",\"width\":0.5},\"pattern\":{\"fillmode\":\"overlay\",\"size\":10,\"solidity\":0.2}},\"type\":\"bar\"}],\"carpet\":[{\"aaxis\":{\"endlinecolor\":\"rgb(36,36,36)\",\"gridcolor\":\"white\",\"linecolor\":\"white\",\"minorgridcolor\":\"white\",\"startlinecolor\":\"rgb(36,36,36)\"},\"baxis\":{\"endlinecolor\":\"rgb(36,36,36)\",\"gridcolor\":\"white\",\"linecolor\":\"white\",\"minorgridcolor\":\"white\",\"startlinecolor\":\"rgb(36,36,36)\"},\"type\":\"carpet\"}],\"choropleth\":[{\"colorbar\":{\"outlinewidth\":0,\"tickcolor\":\"rgb(36,36,36)\",\"ticklen\":8,\"ticks\":\"outside\",\"tickwidth\":2},\"type\":\"choropleth\"}],\"contourcarpet\":[{\"colorbar\":{\"outlinewidth\":0,\"tickcolor\":\"rgb(36,36,36)\",\"ticklen\":8,\"ticks\":\"outside\",\"tickwidth\":2},\"type\":\"contourcarpet\"}],\"contour\":[{\"colorbar\":{\"outlinewidth\":0,\"tickcolor\":\"rgb(36,36,36)\",\"ticklen\":8,\"ticks\":\"outside\",\"tickwidth\":2},\"colorscale\":[[0.0,\"rgb(2,4,25)\"],[0.06274509803921569,\"rgb(24,15,41)\"],[0.12549019607843137,\"rgb(47,23,57)\"],[0.18823529411764706,\"rgb(71,28,72)\"],[0.25098039215686274,\"rgb(97,30,82)\"],[0.3137254901960784,\"rgb(123,30,89)\"],[0.3764705882352941,\"rgb(150,27,91)\"],[0.4392156862745098,\"rgb(177,22,88)\"],[0.5019607843137255,\"rgb(203,26,79)\"],[0.5647058823529412,\"rgb(223,47,67)\"],[0.6274509803921569,\"rgb(236,76,61)\"],[0.6901960784313725,\"rgb(242,107,73)\"],[0.7529411764705882,\"rgb(244,135,95)\"],[0.8156862745098039,\"rgb(245,162,122)\"],[0.8784313725490196,\"rgb(246,188,153)\"],[0.9411764705882353,\"rgb(247,212,187)\"],[1.0,\"rgb(250,234,220)\"]],\"type\":\"contour\"}],\"heatmapgl\":[{\"colorbar\":{\"outlinewidth\":0,\"tickcolor\":\"rgb(36,36,36)\",\"ticklen\":8,\"ticks\":\"outside\",\"tickwidth\":2},\"colorscale\":[[0.0,\"rgb(2,4,25)\"],[0.06274509803921569,\"rgb(24,15,41)\"],[0.12549019607843137,\"rgb(47,23,57)\"],[0.18823529411764706,\"rgb(71,28,72)\"],[0.25098039215686274,\"rgb(97,30,82)\"],[0.3137254901960784,\"rgb(123,30,89)\"],[0.3764705882352941,\"rgb(150,27,91)\"],[0.4392156862745098,\"rgb(177,22,88)\"],[0.5019607843137255,\"rgb(203,26,79)\"],[0.5647058823529412,\"rgb(223,47,67)\"],[0.6274509803921569,\"rgb(236,76,61)\"],[0.6901960784313725,\"rgb(242,107,73)\"],[0.7529411764705882,\"rgb(244,135,95)\"],[0.8156862745098039,\"rgb(245,162,122)\"],[0.8784313725490196,\"rgb(246,188,153)\"],[0.9411764705882353,\"rgb(247,212,187)\"],[1.0,\"rgb(250,234,220)\"]],\"type\":\"heatmapgl\"}],\"heatmap\":[{\"colorbar\":{\"outlinewidth\":0,\"tickcolor\":\"rgb(36,36,36)\",\"ticklen\":8,\"ticks\":\"outside\",\"tickwidth\":2},\"colorscale\":[[0.0,\"rgb(2,4,25)\"],[0.06274509803921569,\"rgb(24,15,41)\"],[0.12549019607843137,\"rgb(47,23,57)\"],[0.18823529411764706,\"rgb(71,28,72)\"],[0.25098039215686274,\"rgb(97,30,82)\"],[0.3137254901960784,\"rgb(123,30,89)\"],[0.3764705882352941,\"rgb(150,27,91)\"],[0.4392156862745098,\"rgb(177,22,88)\"],[0.5019607843137255,\"rgb(203,26,79)\"],[0.5647058823529412,\"rgb(223,47,67)\"],[0.6274509803921569,\"rgb(236,76,61)\"],[0.6901960784313725,\"rgb(242,107,73)\"],[0.7529411764705882,\"rgb(244,135,95)\"],[0.8156862745098039,\"rgb(245,162,122)\"],[0.8784313725490196,\"rgb(246,188,153)\"],[0.9411764705882353,\"rgb(247,212,187)\"],[1.0,\"rgb(250,234,220)\"]],\"type\":\"heatmap\"}],\"histogram2dcontour\":[{\"colorbar\":{\"outlinewidth\":0,\"tickcolor\":\"rgb(36,36,36)\",\"ticklen\":8,\"ticks\":\"outside\",\"tickwidth\":2},\"colorscale\":[[0.0,\"rgb(2,4,25)\"],[0.06274509803921569,\"rgb(24,15,41)\"],[0.12549019607843137,\"rgb(47,23,57)\"],[0.18823529411764706,\"rgb(71,28,72)\"],[0.25098039215686274,\"rgb(97,30,82)\"],[0.3137254901960784,\"rgb(123,30,89)\"],[0.3764705882352941,\"rgb(150,27,91)\"],[0.4392156862745098,\"rgb(177,22,88)\"],[0.5019607843137255,\"rgb(203,26,79)\"],[0.5647058823529412,\"rgb(223,47,67)\"],[0.6274509803921569,\"rgb(236,76,61)\"],[0.6901960784313725,\"rgb(242,107,73)\"],[0.7529411764705882,\"rgb(244,135,95)\"],[0.8156862745098039,\"rgb(245,162,122)\"],[0.8784313725490196,\"rgb(246,188,153)\"],[0.9411764705882353,\"rgb(247,212,187)\"],[1.0,\"rgb(250,234,220)\"]],\"type\":\"histogram2dcontour\"}],\"histogram2d\":[{\"colorbar\":{\"outlinewidth\":0,\"tickcolor\":\"rgb(36,36,36)\",\"ticklen\":8,\"ticks\":\"outside\",\"tickwidth\":2},\"colorscale\":[[0.0,\"rgb(2,4,25)\"],[0.06274509803921569,\"rgb(24,15,41)\"],[0.12549019607843137,\"rgb(47,23,57)\"],[0.18823529411764706,\"rgb(71,28,72)\"],[0.25098039215686274,\"rgb(97,30,82)\"],[0.3137254901960784,\"rgb(123,30,89)\"],[0.3764705882352941,\"rgb(150,27,91)\"],[0.4392156862745098,\"rgb(177,22,88)\"],[0.5019607843137255,\"rgb(203,26,79)\"],[0.5647058823529412,\"rgb(223,47,67)\"],[0.6274509803921569,\"rgb(236,76,61)\"],[0.6901960784313725,\"rgb(242,107,73)\"],[0.7529411764705882,\"rgb(244,135,95)\"],[0.8156862745098039,\"rgb(245,162,122)\"],[0.8784313725490196,\"rgb(246,188,153)\"],[0.9411764705882353,\"rgb(247,212,187)\"],[1.0,\"rgb(250,234,220)\"]],\"type\":\"histogram2d\"}],\"histogram\":[{\"marker\":{\"pattern\":{\"fillmode\":\"overlay\",\"size\":10,\"solidity\":0.2}},\"type\":\"histogram\"}],\"mesh3d\":[{\"colorbar\":{\"outlinewidth\":0,\"tickcolor\":\"rgb(36,36,36)\",\"ticklen\":8,\"ticks\":\"outside\",\"tickwidth\":2},\"type\":\"mesh3d\"}],\"parcoords\":[{\"line\":{\"colorbar\":{\"outlinewidth\":0,\"tickcolor\":\"rgb(36,36,36)\",\"ticklen\":8,\"ticks\":\"outside\",\"tickwidth\":2}},\"type\":\"parcoords\"}],\"pie\":[{\"automargin\":true,\"type\":\"pie\"}],\"scatter3d\":[{\"line\":{\"colorbar\":{\"outlinewidth\":0,\"tickcolor\":\"rgb(36,36,36)\",\"ticklen\":8,\"ticks\":\"outside\",\"tickwidth\":2}},\"marker\":{\"colorbar\":{\"outlinewidth\":0,\"tickcolor\":\"rgb(36,36,36)\",\"ticklen\":8,\"ticks\":\"outside\",\"tickwidth\":2}},\"type\":\"scatter3d\"}],\"scattercarpet\":[{\"marker\":{\"colorbar\":{\"outlinewidth\":0,\"tickcolor\":\"rgb(36,36,36)\",\"ticklen\":8,\"ticks\":\"outside\",\"tickwidth\":2}},\"type\":\"scattercarpet\"}],\"scattergeo\":[{\"marker\":{\"colorbar\":{\"outlinewidth\":0,\"tickcolor\":\"rgb(36,36,36)\",\"ticklen\":8,\"ticks\":\"outside\",\"tickwidth\":2}},\"type\":\"scattergeo\"}],\"scattergl\":[{\"marker\":{\"colorbar\":{\"outlinewidth\":0,\"tickcolor\":\"rgb(36,36,36)\",\"ticklen\":8,\"ticks\":\"outside\",\"tickwidth\":2}},\"type\":\"scattergl\"}],\"scattermapbox\":[{\"marker\":{\"colorbar\":{\"outlinewidth\":0,\"tickcolor\":\"rgb(36,36,36)\",\"ticklen\":8,\"ticks\":\"outside\",\"tickwidth\":2}},\"type\":\"scattermapbox\"}],\"scatterpolargl\":[{\"marker\":{\"colorbar\":{\"outlinewidth\":0,\"tickcolor\":\"rgb(36,36,36)\",\"ticklen\":8,\"ticks\":\"outside\",\"tickwidth\":2}},\"type\":\"scatterpolargl\"}],\"scatterpolar\":[{\"marker\":{\"colorbar\":{\"outlinewidth\":0,\"tickcolor\":\"rgb(36,36,36)\",\"ticklen\":8,\"ticks\":\"outside\",\"tickwidth\":2}},\"type\":\"scatterpolar\"}],\"scatter\":[{\"fillpattern\":{\"fillmode\":\"overlay\",\"size\":10,\"solidity\":0.2},\"type\":\"scatter\"}],\"scatterternary\":[{\"marker\":{\"colorbar\":{\"outlinewidth\":0,\"tickcolor\":\"rgb(36,36,36)\",\"ticklen\":8,\"ticks\":\"outside\",\"tickwidth\":2}},\"type\":\"scatterternary\"}],\"surface\":[{\"colorbar\":{\"outlinewidth\":0,\"tickcolor\":\"rgb(36,36,36)\",\"ticklen\":8,\"ticks\":\"outside\",\"tickwidth\":2},\"colorscale\":[[0.0,\"rgb(2,4,25)\"],[0.06274509803921569,\"rgb(24,15,41)\"],[0.12549019607843137,\"rgb(47,23,57)\"],[0.18823529411764706,\"rgb(71,28,72)\"],[0.25098039215686274,\"rgb(97,30,82)\"],[0.3137254901960784,\"rgb(123,30,89)\"],[0.3764705882352941,\"rgb(150,27,91)\"],[0.4392156862745098,\"rgb(177,22,88)\"],[0.5019607843137255,\"rgb(203,26,79)\"],[0.5647058823529412,\"rgb(223,47,67)\"],[0.6274509803921569,\"rgb(236,76,61)\"],[0.6901960784313725,\"rgb(242,107,73)\"],[0.7529411764705882,\"rgb(244,135,95)\"],[0.8156862745098039,\"rgb(245,162,122)\"],[0.8784313725490196,\"rgb(246,188,153)\"],[0.9411764705882353,\"rgb(247,212,187)\"],[1.0,\"rgb(250,234,220)\"]],\"type\":\"surface\"}],\"table\":[{\"cells\":{\"fill\":{\"color\":\"rgb(231,231,240)\"},\"line\":{\"color\":\"white\"}},\"header\":{\"fill\":{\"color\":\"rgb(183,183,191)\"},\"line\":{\"color\":\"white\"}},\"type\":\"table\"}]},\"layout\":{\"annotationdefaults\":{\"arrowcolor\":\"rgb(67,103,167)\"},\"autotypenumbers\":\"strict\",\"coloraxis\":{\"colorbar\":{\"outlinewidth\":0,\"tickcolor\":\"rgb(36,36,36)\",\"ticklen\":8,\"ticks\":\"outside\",\"tickwidth\":2}},\"colorscale\":{\"sequential\":[[0.0,\"rgb(2,4,25)\"],[0.06274509803921569,\"rgb(24,15,41)\"],[0.12549019607843137,\"rgb(47,23,57)\"],[0.18823529411764706,\"rgb(71,28,72)\"],[0.25098039215686274,\"rgb(97,30,82)\"],[0.3137254901960784,\"rgb(123,30,89)\"],[0.3764705882352941,\"rgb(150,27,91)\"],[0.4392156862745098,\"rgb(177,22,88)\"],[0.5019607843137255,\"rgb(203,26,79)\"],[0.5647058823529412,\"rgb(223,47,67)\"],[0.6274509803921569,\"rgb(236,76,61)\"],[0.6901960784313725,\"rgb(242,107,73)\"],[0.7529411764705882,\"rgb(244,135,95)\"],[0.8156862745098039,\"rgb(245,162,122)\"],[0.8784313725490196,\"rgb(246,188,153)\"],[0.9411764705882353,\"rgb(247,212,187)\"],[1.0,\"rgb(250,234,220)\"]],\"sequentialminus\":[[0.0,\"rgb(2,4,25)\"],[0.06274509803921569,\"rgb(24,15,41)\"],[0.12549019607843137,\"rgb(47,23,57)\"],[0.18823529411764706,\"rgb(71,28,72)\"],[0.25098039215686274,\"rgb(97,30,82)\"],[0.3137254901960784,\"rgb(123,30,89)\"],[0.3764705882352941,\"rgb(150,27,91)\"],[0.4392156862745098,\"rgb(177,22,88)\"],[0.5019607843137255,\"rgb(203,26,79)\"],[0.5647058823529412,\"rgb(223,47,67)\"],[0.6274509803921569,\"rgb(236,76,61)\"],[0.6901960784313725,\"rgb(242,107,73)\"],[0.7529411764705882,\"rgb(244,135,95)\"],[0.8156862745098039,\"rgb(245,162,122)\"],[0.8784313725490196,\"rgb(246,188,153)\"],[0.9411764705882353,\"rgb(247,212,187)\"],[1.0,\"rgb(250,234,220)\"]]},\"colorway\":[\"rgb(76,114,176)\",\"rgb(221,132,82)\",\"rgb(85,168,104)\",\"rgb(196,78,82)\",\"rgb(129,114,179)\",\"rgb(147,120,96)\",\"rgb(218,139,195)\",\"rgb(140,140,140)\",\"rgb(204,185,116)\",\"rgb(100,181,205)\"],\"font\":{\"color\":\"rgb(36,36,36)\"},\"geo\":{\"bgcolor\":\"white\",\"lakecolor\":\"white\",\"landcolor\":\"rgb(234,234,242)\",\"showlakes\":true,\"showland\":true,\"subunitcolor\":\"white\"},\"hoverlabel\":{\"align\":\"left\"},\"hovermode\":\"closest\",\"paper_bgcolor\":\"white\",\"plot_bgcolor\":\"rgb(234,234,242)\",\"polar\":{\"angularaxis\":{\"gridcolor\":\"white\",\"linecolor\":\"white\",\"showgrid\":true,\"ticks\":\"\"},\"bgcolor\":\"rgb(234,234,242)\",\"radialaxis\":{\"gridcolor\":\"white\",\"linecolor\":\"white\",\"showgrid\":true,\"ticks\":\"\"}},\"scene\":{\"xaxis\":{\"backgroundcolor\":\"rgb(234,234,242)\",\"gridcolor\":\"white\",\"gridwidth\":2,\"linecolor\":\"white\",\"showbackground\":true,\"showgrid\":true,\"ticks\":\"\",\"zerolinecolor\":\"white\"},\"yaxis\":{\"backgroundcolor\":\"rgb(234,234,242)\",\"gridcolor\":\"white\",\"gridwidth\":2,\"linecolor\":\"white\",\"showbackground\":true,\"showgrid\":true,\"ticks\":\"\",\"zerolinecolor\":\"white\"},\"zaxis\":{\"backgroundcolor\":\"rgb(234,234,242)\",\"gridcolor\":\"white\",\"gridwidth\":2,\"linecolor\":\"white\",\"showbackground\":true,\"showgrid\":true,\"ticks\":\"\",\"zerolinecolor\":\"white\"}},\"shapedefaults\":{\"fillcolor\":\"rgb(67,103,167)\",\"line\":{\"width\":0},\"opacity\":0.5},\"ternary\":{\"aaxis\":{\"gridcolor\":\"white\",\"linecolor\":\"white\",\"showgrid\":true,\"ticks\":\"\"},\"baxis\":{\"gridcolor\":\"white\",\"linecolor\":\"white\",\"showgrid\":true,\"ticks\":\"\"},\"bgcolor\":\"rgb(234,234,242)\",\"caxis\":{\"gridcolor\":\"white\",\"linecolor\":\"white\",\"showgrid\":true,\"ticks\":\"\"}},\"xaxis\":{\"automargin\":true,\"gridcolor\":\"white\",\"linecolor\":\"white\",\"showgrid\":true,\"ticks\":\"\",\"title\":{\"standoff\":15},\"zerolinecolor\":\"white\"},\"yaxis\":{\"automargin\":true,\"gridcolor\":\"white\",\"linecolor\":\"white\",\"showgrid\":true,\"ticks\":\"\",\"title\":{\"standoff\":15},\"zerolinecolor\":\"white\"}}},\"xaxis\":{\"anchor\":\"y\",\"domain\":[0.0,1.0],\"title\":{\"text\":\"Percentage of Speechiness \"}},\"yaxis\":{\"anchor\":\"x\",\"domain\":[0.0,1.0],\"title\":{\"text\":\"Number Of Streams In Millions\"}},\"coloraxis\":{\"colorbar\":{\"title\":{\"text\":\"Number Of Streams In Millions\"}},\"colorscale\":[[0.0,\"rgb(2,4,25)\"],[0.0625,\"rgb(24,15,41)\"],[0.125,\"rgb(47,23,57)\"],[0.1875,\"rgb(71,28,72)\"],[0.25,\"rgb(97,30,82)\"],[0.3125,\"rgb(123,30,89)\"],[0.375,\"rgb(150,27,91)\"],[0.4375,\"rgb(177,22,88)\"],[0.5,\"rgb(203,26,79)\"],[0.5625,\"rgb(223,47,67)\"],[0.625,\"rgb(236,76,61)\"],[0.6875,\"rgb(242,107,73)\"],[0.75,\"rgb(244,135,95)\"],[0.8125,\"rgb(245,162,122)\"],[0.875,\"rgb(246,188,153)\"],[0.9375,\"rgb(247,212,187)\"],[1.0,\"rgb(250,234,220)\"]]},\"legend\":{\"tracegroupgap\":0},\"title\":{\"text\":\"The Percentage Of Speechiness In the Songs and How That affect Number of Streams \"},\"height\":700,\"width\":1200},                        {\"responsive\": true}                    ).then(function(){\n",
       "                            \n",
       "var gd = document.getElementById('863890be-7c44-4a54-830e-3ffee671eba6');\n",
       "var x = new MutationObserver(function (mutations, observer) {{\n",
       "        var display = window.getComputedStyle(gd).display;\n",
       "        if (!display || display === 'none') {{\n",
       "            console.log([gd, 'removed!']);\n",
       "            Plotly.purge(gd);\n",
       "            observer.disconnect();\n",
       "        }}\n",
       "}});\n",
       "\n",
       "// Listen for the removal of the full notebook cells\n",
       "var notebookContainer = gd.closest('#notebook-container');\n",
       "if (notebookContainer) {{\n",
       "    x.observe(notebookContainer, {childList: true});\n",
       "}}\n",
       "\n",
       "// Listen for the clearing of the current output cell\n",
       "var outputEl = gd.closest('.output');\n",
       "if (outputEl) {{\n",
       "    x.observe(outputEl, {childList: true});\n",
       "}}\n",
       "\n",
       "                        })                };                });            </script>        </div>"
      ]
     },
     "metadata": {},
     "output_type": "display_data"
    }
   ],
   "source": [
    "#Ploting Relation between spoken words in the songs and number of streams \n",
    "speechiness_plt = px.scatter(speechiness,y= 'streams_in_millions', x = 'speechiness_%',template = 'seaborn',width = 1200, height = 700,\n",
    "                                 color = 'streams_in_millions',title = 'The Percentage Of Speechiness In the Songs and How That affect Number of Streams ', labels = {\n",
    "                                 'speechiness_%': 'Percentage of Speechiness ', 'streams_in_millions': 'Number Of Streams In Millions'})\n",
    "speechiness_plt"
   ]
  },
  {
   "cell_type": "code",
   "execution_count": 29,
   "id": "e08773a2",
   "metadata": {
    "execution": {
     "iopub.execute_input": "2024-03-25T17:13:12.686281Z",
     "iopub.status.busy": "2024-03-25T17:13:12.685766Z",
     "iopub.status.idle": "2024-03-25T17:13:12.702696Z",
     "shell.execute_reply": "2024-03-25T17:13:12.701238Z"
    },
    "papermill": {
     "duration": 0.034918,
     "end_time": "2024-03-25T17:13:12.705320",
     "exception": false,
     "start_time": "2024-03-25T17:13:12.670402",
     "status": "completed"
    },
    "tags": []
   },
   "outputs": [
    {
     "data": {
      "text/html": [
       "<div>\n",
       "<style scoped>\n",
       "    .dataframe tbody tr th:only-of-type {\n",
       "        vertical-align: middle;\n",
       "    }\n",
       "\n",
       "    .dataframe tbody tr th {\n",
       "        vertical-align: top;\n",
       "    }\n",
       "\n",
       "    .dataframe thead th {\n",
       "        text-align: right;\n",
       "    }\n",
       "</style>\n",
       "<table border=\"1\" class=\"dataframe\">\n",
       "  <thead>\n",
       "    <tr style=\"text-align: right;\">\n",
       "      <th></th>\n",
       "      <th>valence_%</th>\n",
       "      <th>streams_in_millions</th>\n",
       "    </tr>\n",
       "  </thead>\n",
       "  <tbody>\n",
       "    <tr>\n",
       "      <th>418</th>\n",
       "      <td>97</td>\n",
       "      <td>482.26</td>\n",
       "    </tr>\n",
       "    <tr>\n",
       "      <th>896</th>\n",
       "      <td>97</td>\n",
       "      <td>323.46</td>\n",
       "    </tr>\n",
       "    <tr>\n",
       "      <th>861</th>\n",
       "      <td>97</td>\n",
       "      <td>164.86</td>\n",
       "    </tr>\n",
       "    <tr>\n",
       "      <th>754</th>\n",
       "      <td>97</td>\n",
       "      <td>1714.49</td>\n",
       "    </tr>\n",
       "    <tr>\n",
       "      <th>359</th>\n",
       "      <td>97</td>\n",
       "      <td>134.29</td>\n",
       "    </tr>\n",
       "    <tr>\n",
       "      <th>...</th>\n",
       "      <td>...</td>\n",
       "      <td>...</td>\n",
       "    </tr>\n",
       "    <tr>\n",
       "      <th>670</th>\n",
       "      <td>4</td>\n",
       "      <td>252.87</td>\n",
       "    </tr>\n",
       "    <tr>\n",
       "      <th>487</th>\n",
       "      <td>4</td>\n",
       "      <td>317.73</td>\n",
       "    </tr>\n",
       "    <tr>\n",
       "      <th>914</th>\n",
       "      <td>4</td>\n",
       "      <td>380.32</td>\n",
       "    </tr>\n",
       "    <tr>\n",
       "      <th>408</th>\n",
       "      <td>4</td>\n",
       "      <td>646.89</td>\n",
       "    </tr>\n",
       "    <tr>\n",
       "      <th>242</th>\n",
       "      <td>4</td>\n",
       "      <td>457.18</td>\n",
       "    </tr>\n",
       "  </tbody>\n",
       "</table>\n",
       "<p>952 rows × 2 columns</p>\n",
       "</div>"
      ],
      "text/plain": [
       "     valence_%  streams_in_millions\n",
       "418         97               482.26\n",
       "896         97               323.46\n",
       "861         97               164.86\n",
       "754         97              1714.49\n",
       "359         97               134.29\n",
       "..         ...                  ...\n",
       "670          4               252.87\n",
       "487          4               317.73\n",
       "914          4               380.32\n",
       "408          4               646.89\n",
       "242          4               457.18\n",
       "\n",
       "[952 rows x 2 columns]"
      ]
     },
     "execution_count": 29,
     "metadata": {},
     "output_type": "execute_result"
    }
   ],
   "source": [
    "# Is Being The Songs Positive Affect the Number Of Streams:\n",
    "valence = sp.filter(items =['valence_%','streams_in_millions'],axis = 1)\n",
    "# sorting by the positivity in the song in decending order\n",
    "valence = valence.sort_values(by = 'valence_%',ascending = False)\n",
    "valence"
   ]
  },
  {
   "cell_type": "code",
   "execution_count": 30,
   "id": "5b8457d8",
   "metadata": {
    "execution": {
     "iopub.execute_input": "2024-03-25T17:13:12.738603Z",
     "iopub.status.busy": "2024-03-25T17:13:12.738136Z",
     "iopub.status.idle": "2024-03-25T17:13:12.813500Z",
     "shell.execute_reply": "2024-03-25T17:13:12.812085Z"
    },
    "papermill": {
     "duration": 0.094382,
     "end_time": "2024-03-25T17:13:12.816271",
     "exception": false,
     "start_time": "2024-03-25T17:13:12.721889",
     "status": "completed"
    },
    "tags": []
   },
   "outputs": [
    {
     "data": {
      "text/html": [
       "<div>                            <div id=\"31ef36f6-e532-4298-bb15-ca1a9823b90d\" class=\"plotly-graph-div\" style=\"height:700px; width:1200px;\"></div>            <script type=\"text/javascript\">                require([\"plotly\"], function(Plotly) {                    window.PLOTLYENV=window.PLOTLYENV || {};                                    if (document.getElementById(\"31ef36f6-e532-4298-bb15-ca1a9823b90d\")) {                    Plotly.newPlot(                        \"31ef36f6-e532-4298-bb15-ca1a9823b90d\",                        [{\"hovertemplate\":\"Percentage of Positivity =%{x}\\u003cbr\\u003eNumber Of Streams In Millions=%{marker.color}\\u003cextra\\u003e\\u003c\\u002fextra\\u003e\",\"legendgroup\":\"\",\"marker\":{\"color\":[482.26,323.46,164.86,1714.49,134.29,165.58,520.03,248.09,175.4,78.3,255.93,176.55,851.07,54.23,127.03,57.88,231.33,756.91,1113.84,219.2,139.68,245.35,178.66,510.88,3562.54,180.58,313.11,247.69,232.0,596.15,345.9,1802.51,148.47,1605.22,11.6,136.69,212.11,2808.1,500.34,428.69,326.79,118.38,351.64,157.99,797.2,127.03,716.59,187.7,31.87,743.69,123.47,236.06,189.24,90.84,685.07,154.12,1814.35,436.03,141.38,629.17,199.59,502.57,1953.53,195.92,236.86,1159.18,1329.09,256.48,429.5,1481.35,354.61,933.82,86.44,473.25,299.65,198.88,1479.12,1279.43,90.03,143.14,156.34,383.55,142.1,769.21,91.66,71.01,288.1,1214.08,404.66,58.05,143.57,54.27,103.79,652.7,354.5,725.98,83.02,37.09,197.64,120.97,432.72,107.64,176.1,118.81,1180.9,115.36,339.66,106.92,52.14,146.22,899.18,380.73,1302.18,374.71,445.76,1085.69,682.48,301.05,1267.33,200.65,116.6,312.62,395.59,73.51,231.66,121.19,1065.58,80.76,158.95,147.29,863.76,265.55,71.42,1202.72,222.41,427.49,55.84,393.23,673.8,39.06,267.79,528.54,100.41,463.56,516.78,1424.59,129.31,782.37,363.47,189.48,127.41,741.3,261.41,0.0,123.22,62.02,333.15,56.87,720.83,176.29,2484.81,198.28,279.74,920.05,116.33,663.83,1145.73,374.19,202.68,1699.4,290.23,95.13,579.4,496.8,1735.44,190.63,168.68,277.13,64.71,1457.14,367.32,209.11,65.16,191.95,53.99,103.76,177.13,138.52,448.5,2594.04,104.99,657.72,54.94,403.94,61.25,430.98,41.21,245.4,403.23,191.87,1575.47,156.34,1692.9,319.76,120.85,244.93,1593.27,1690.19,122.76,263.28,723.89,263.45,223.58,246.13,723.89,1115.88,446.39,95.62,539.6,239.41,296.0,720.43,665.77,94.01,261.29,76.83,244.59,212.23,373.2,117.21,295.15,190.49,394.03,551.31,325.59,462.79,330.88,223.63,226.9,94.62,264.72,1143.65,476.24,95.05,96.27,404.89,77.23,76.77,144.57,582.98,261.12,822.63,485.29,2303.03,1887.04,200.97,342.9,79.1,11.96,160.85,144.58,244.79,302.01,93.44,109.09,299.63,291.71,335.22,421.04,65.5,133.9,1553.5,88.79,30.34,284.25,283.36,1687.66,482.18,157.06,651.73,183.71,2513.19,887.91,221.41,181.33,1970.67,86.18,1252.56,1456.08,71.01,838.08,211.37,140.19,624.52,343.2,81.1,608.33,170.71,1316.86,303.22,655.47,287.28,367.81,156.21,232.9,595.9,244.66,309.48,2591.22,674.77,295.31,123.12,513.64,52.29,924.19,1221.81,273.01,126.44,610.05,153.45,290.83,217.67,187.77,112.44,258.32,119.24,335.07,1.37,789.75,187.7,221.75,263.89,64.79,499.71,222.61,675.04,133.72,157.14,1591.22,618.99,258.71,233.8,34.45,70.07,236.94,223.32,461.56,160.04,345.03,46.07,304.12,1759.57,212.35,391.25,135.72,1235.01,163.28,37.78,436.7,50.75,152.85,247.74,704.17,110.07,2132.34,111.95,65.72,279.72,66.9,1367.81,951.64,1897.52,32.76,459.28,349.75,759.21,1555.51,106.93,1223.48,471.82,255.12,1047.1,585.7,57.95,108.81,266.62,2280.57,800.84,278.92,355.22,538.12,479.66,601.86,118.48,301.87,606.36,501.54,206.4,1439.19,448.84,466.23,1168.64,1355.96,387.08,331.51,2322.58,168.45,553.63,184.94,61.74,506.78,50.85,240.66,527.03,138.33,505.67,124.99,146.36,293.47,181.38,1356.57,177.5,920.8,182.98,309.65,153.37,71.57,110.85,57.31,208.17,41.92,319.55,381.16,145.46,466.21,175.1,183.27,806.4,1223.48,81.35,1205.95,154.8,2864.79,305.77,432.7,885.09,812.02,146.41,64.53,29.56,161.46,834.13,726.31,1210.6,918.92,726.84,2123.31,826.62,357.93,2557.98,235.55,300.98,403.1,540.65,68.9,185.39,58.26,37.31,240.68,711.37,85.92,174.01,1472.8,611.7,429.83,363.47,809.31,1374.58,78.14,566.95,1647.99,113.51,73.98,999.75,950.91,1479.26,126.19,298.06,203.22,518.75,127.31,200.66,888.05,2009.09,107.26,1606.99,882.83,58.47,77.31,246.38,176.47,33.38,721.98,338.42,372.48,350.38,311.4,101.11,58.89,36.91,90.6,2565.53,362.36,1445.94,327.5,822.24,240.92,570.52,1284.94,284.22,178.51,582.86,14.78,116.14,276.26,786.18,51.64,2665.34,2011.46,56.53,47.09,167.08,147.54,185.41,1791.0,1163.62,2204.08,1138.47,480.51,67.54,115.01,162.89,614.56,273.91,286.74,656.01,461.44,137.0,199.39,972.16,477.03,171.79,225.26,1641.43,179.06,415.93,203.68,344.06,1117.0,2420.46,185.55,401.04,184.62,43.52,349.59,191.33,2887.24,956.87,75.48,1297.03,540.54,135.08,131.75,366.6,1260.59,95.82,139.84,1309.89,672.66,39.89,105.06,370.07,797.4,294.35,671.37,125.92,1163.09,1661.19,305.65,1435.13,467.73,1440.76,609.29,97.61,229.5,159.24,1592.91,67.07,16.01,573.63,607.12,1788.33,1929.77,65.36,248.51,89.93,135.61,383.84,608.23,1061.97,1007.61,2282.77,68.22,408.84,1167.33,150.5,173.7,130.42,283.33,824.42,190.98,2135.16,356.71,546.19,674.07,1131.09,43.86,684.68,863.63,77.34,422.69,93.59,1624.17,319.57,237.35,348.65,93.37,165.48,618.89,1357.61,530.51,273.19,185.24,186.1,284.79,194.9,330.35,195.58,328.21,301.24,399.69,366.21,188.93,460.49,271.67,245.1,184.31,185.24,1109.43,1840.36,807.56,3703.9,123.13,92.04,209.77,240.77,1093.61,172.83,405.14,339.47,307.37,121.08,267.76,229.47,181.83,47.96,2713.92,334.73,578.21,599.77,117.75,850.61,213.51,207.03,39.71,363.37,116.9,98.71,49.26,22.58,263.78,91.22,123.12,242.77,130.66,137.12,272.38,323.36,38.41,322.34,556.59,61.11,1449.78,54.68,2086.12,346.13,489.95,57.14,1089.4,236.87,1127.47,690.1,170.41,164.16,140.0,53.73,156.9,137.07,694.53,387.57,96.01,60.35,32.53,600.98,173.63,124.41,929.96,332.51,155.8,146.79,563.9,227.92,184.83,156.66,211.05,1056.76,354.07,843.31,311.48,2159.35,201.66,382.2,421.14,677.39,588.96,149.78,91.78,114.55,593.92,53.6,60.68,81.42,210.04,909.0,139.19,135.44,254.22,1122.36,37.13,703.3,284.91,1755.21,88.1,293.19,244.89,988.52,939.84,184.71,1133.87,991.34,421.37,635.41,307.75,972.51,156.78,76.91,148.46,58.15,58.69,121.91,115.33,465.96,39.67,24.98,726.43,63.8,71.1,141.72,807.02,134.26,1301.8,445.59,532.34,133.75,53.91,265.88,621.66,91.47,195.52,1230.68,1361.43,838.59,411.75,1806.62,84.7,723.04,1062.35,153.24,1241.56,225.09,1304.31,68.62,154.36,983.64,2197.01,303.24,496.31,1047.48,554.88,571.39,154.86,481.7,1200.81,177.74,31.96,389.77,1256.88,52.72,203.44,101.78,449.7,95.22,39.58,202.45,89.57,2288.7,85.56,155.65,417.23,109.28,594.48,1608.16,583.69,1858.14,376.33,238.35,166.57,39.23,497.23,86.77,304.08,2236.67,198.37,681.58,1217.12,57.09,1024.86,284.82,233.67,244.74,1608.05,323.44,1264.31,34.5,1042.57,88.09,783.71,282.88,395.59,865.64,685.03,1022.26,179.66,433.36,317.62,686.73,397.58,170.73,705.47,624.1,107.75,127.57,1449.8,843.96,841.75,2559.53,297.33,426.2,213.44,286.4,611.99,698.09,253.65,110.65,136.68,357.58,246.39,187.34,42.49,240.58,1763.36,250.31,30.55,751.13,51.99,560.22,775.54,184.81,1813.67,74.6,94.19,140.43,1406.11,412.8,218.32,1947.37,2355.72,1271.29,1230.86,342.78,77.38,223.06,106.25,777.77,193.44,488.39,1410.09,1695.71,404.56,96.18,53.93,338.56,872.14,368.65,191.45,1180.09,498.96,121.87,1062.96,46.14,132.17,287.2,78.49,1023.19,1829.99,195.63,70.11,252.87,317.73,380.32,646.89,457.18],\"coloraxis\":\"coloraxis\",\"symbol\":\"circle\"},\"mode\":\"markers\",\"name\":\"\",\"orientation\":\"v\",\"showlegend\":false,\"x\":[97,97,97,97,97,96,96,96,96,96,96,96,96,96,96,96,96,96,95,94,94,94,94,93,93,93,93,92,92,92,92,92,92,92,92,92,91,91,91,91,91,91,91,90,90,90,90,90,90,90,90,90,90,89,89,89,89,89,89,88,88,88,88,88,88,88,88,88,87,87,87,87,87,86,86,86,86,86,86,86,86,85,85,85,85,85,85,85,84,84,84,84,84,84,84,83,83,83,83,83,83,83,83,83,83,83,82,82,82,82,82,82,82,82,82,82,82,82,81,81,81,81,81,81,80,80,80,80,80,80,80,80,79,79,79,79,79,79,79,79,79,79,79,79,79,78,78,78,78,78,78,78,78,78,78,78,77,77,77,77,77,77,77,77,76,76,76,76,76,76,76,76,76,76,76,76,76,75,75,75,75,75,75,75,75,75,75,75,74,74,74,74,74,74,74,74,74,74,74,74,74,74,74,73,73,73,73,73,73,72,72,72,72,72,72,72,72,72,72,72,72,72,71,71,71,71,71,71,71,71,71,71,71,71,70,70,70,70,70,70,70,70,70,70,69,69,69,69,69,69,69,69,69,68,68,68,68,68,68,68,68,68,68,68,68,68,68,67,67,67,67,67,67,67,67,67,67,67,67,67,66,66,66,66,66,66,66,66,66,65,65,65,65,65,65,65,65,65,65,65,64,64,64,64,64,64,64,64,64,64,63,63,63,63,63,63,63,63,63,63,63,63,63,62,62,62,62,62,62,62,62,62,62,62,61,61,61,61,61,61,61,61,61,61,61,61,61,61,61,61,61,60,60,60,60,60,60,60,60,60,60,59,59,59,59,59,59,59,59,59,59,59,59,59,59,59,59,59,59,58,58,58,58,58,58,58,58,58,58,58,58,58,57,57,57,57,57,57,57,57,57,57,57,56,56,56,56,56,56,56,56,56,56,56,56,56,56,55,55,55,55,55,55,55,55,55,55,55,55,55,55,55,55,55,55,54,54,54,54,54,54,54,54,54,53,53,53,53,53,53,53,53,53,53,53,53,53,53,53,53,53,53,52,52,52,52,52,52,52,52,52,52,52,52,52,51,51,51,51,51,51,51,51,51,51,51,51,51,51,50,50,50,50,50,50,50,50,50,50,50,50,50,50,50,49,49,49,49,49,49,49,49,49,49,49,49,49,49,49,49,48,48,48,48,48,48,48,48,48,48,48,47,47,47,47,47,47,47,47,47,47,47,47,46,46,46,46,46,46,46,46,46,46,46,46,46,45,45,45,45,45,45,45,45,45,45,45,45,45,44,44,44,44,44,44,44,44,44,44,44,44,44,44,43,43,43,43,43,43,43,43,43,43,43,43,43,42,42,42,42,42,42,42,42,42,42,42,42,42,42,42,41,41,41,41,41,41,41,41,41,41,41,41,40,40,40,40,40,40,40,40,40,40,40,40,40,40,40,40,40,40,40,40,39,39,39,39,39,39,39,39,39,39,39,39,39,38,38,38,38,38,38,38,38,37,37,37,37,37,37,37,37,37,36,36,36,36,36,36,36,36,36,36,36,36,36,35,35,35,35,35,35,35,35,35,35,34,34,34,34,34,33,33,33,33,33,33,33,33,33,33,33,33,32,32,32,32,32,32,32,32,32,32,32,32,31,31,31,31,31,31,31,31,31,31,31,31,31,30,30,30,30,30,30,30,30,29,29,29,29,29,29,29,29,28,28,28,28,28,28,28,28,27,27,27,27,27,27,27,27,27,27,26,26,26,26,26,26,26,26,26,26,26,25,25,25,25,25,25,25,25,25,25,24,24,24,24,24,24,24,24,24,24,24,24,24,24,24,24,24,24,24,24,24,23,23,23,23,23,23,23,23,23,23,23,22,22,22,22,22,22,22,22,22,22,22,22,22,22,22,22,21,21,21,21,21,20,20,20,20,20,20,20,20,20,20,20,20,20,20,19,19,19,19,19,19,19,19,19,19,19,18,18,18,18,18,18,18,17,17,17,17,17,17,17,17,17,17,17,17,16,16,16,15,15,15,15,15,14,14,14,14,14,14,14,14,14,14,13,13,13,13,13,12,12,12,12,12,12,11,11,11,11,11,11,10,10,10,10,10,10,9,9,8,8,8,8,7,7,7,7,7,6,6,6,5,5,4,4,4,4,4],\"xaxis\":\"x\",\"y\":[482.26,323.46,164.86,1714.49,134.29,165.58,520.03,248.09,175.4,78.3,255.93,176.55,851.07,54.23,127.03,57.88,231.33,756.91,1113.84,219.2,139.68,245.35,178.66,510.88,3562.54,180.58,313.11,247.69,232.0,596.15,345.9,1802.51,148.47,1605.22,11.6,136.69,212.11,2808.1,500.34,428.69,326.79,118.38,351.64,157.99,797.2,127.03,716.59,187.7,31.87,743.69,123.47,236.06,189.24,90.84,685.07,154.12,1814.35,436.03,141.38,629.17,199.59,502.57,1953.53,195.92,236.86,1159.18,1329.09,256.48,429.5,1481.35,354.61,933.82,86.44,473.25,299.65,198.88,1479.12,1279.43,90.03,143.14,156.34,383.55,142.1,769.21,91.66,71.01,288.1,1214.08,404.66,58.05,143.57,54.27,103.79,652.7,354.5,725.98,83.02,37.09,197.64,120.97,432.72,107.64,176.1,118.81,1180.9,115.36,339.66,106.92,52.14,146.22,899.18,380.73,1302.18,374.71,445.76,1085.69,682.48,301.05,1267.33,200.65,116.6,312.62,395.59,73.51,231.66,121.19,1065.58,80.76,158.95,147.29,863.76,265.55,71.42,1202.72,222.41,427.49,55.84,393.23,673.8,39.06,267.79,528.54,100.41,463.56,516.78,1424.59,129.31,782.37,363.47,189.48,127.41,741.3,261.41,0.0,123.22,62.02,333.15,56.87,720.83,176.29,2484.81,198.28,279.74,920.05,116.33,663.83,1145.73,374.19,202.68,1699.4,290.23,95.13,579.4,496.8,1735.44,190.63,168.68,277.13,64.71,1457.14,367.32,209.11,65.16,191.95,53.99,103.76,177.13,138.52,448.5,2594.04,104.99,657.72,54.94,403.94,61.25,430.98,41.21,245.4,403.23,191.87,1575.47,156.34,1692.9,319.76,120.85,244.93,1593.27,1690.19,122.76,263.28,723.89,263.45,223.58,246.13,723.89,1115.88,446.39,95.62,539.6,239.41,296.0,720.43,665.77,94.01,261.29,76.83,244.59,212.23,373.2,117.21,295.15,190.49,394.03,551.31,325.59,462.79,330.88,223.63,226.9,94.62,264.72,1143.65,476.24,95.05,96.27,404.89,77.23,76.77,144.57,582.98,261.12,822.63,485.29,2303.03,1887.04,200.97,342.9,79.1,11.96,160.85,144.58,244.79,302.01,93.44,109.09,299.63,291.71,335.22,421.04,65.5,133.9,1553.5,88.79,30.34,284.25,283.36,1687.66,482.18,157.06,651.73,183.71,2513.19,887.91,221.41,181.33,1970.67,86.18,1252.56,1456.08,71.01,838.08,211.37,140.19,624.52,343.2,81.1,608.33,170.71,1316.86,303.22,655.47,287.28,367.81,156.21,232.9,595.9,244.66,309.48,2591.22,674.77,295.31,123.12,513.64,52.29,924.19,1221.81,273.01,126.44,610.05,153.45,290.83,217.67,187.77,112.44,258.32,119.24,335.07,1.37,789.75,187.7,221.75,263.89,64.79,499.71,222.61,675.04,133.72,157.14,1591.22,618.99,258.71,233.8,34.45,70.07,236.94,223.32,461.56,160.04,345.03,46.07,304.12,1759.57,212.35,391.25,135.72,1235.01,163.28,37.78,436.7,50.75,152.85,247.74,704.17,110.07,2132.34,111.95,65.72,279.72,66.9,1367.81,951.64,1897.52,32.76,459.28,349.75,759.21,1555.51,106.93,1223.48,471.82,255.12,1047.1,585.7,57.95,108.81,266.62,2280.57,800.84,278.92,355.22,538.12,479.66,601.86,118.48,301.87,606.36,501.54,206.4,1439.19,448.84,466.23,1168.64,1355.96,387.08,331.51,2322.58,168.45,553.63,184.94,61.74,506.78,50.85,240.66,527.03,138.33,505.67,124.99,146.36,293.47,181.38,1356.57,177.5,920.8,182.98,309.65,153.37,71.57,110.85,57.31,208.17,41.92,319.55,381.16,145.46,466.21,175.1,183.27,806.4,1223.48,81.35,1205.95,154.8,2864.79,305.77,432.7,885.09,812.02,146.41,64.53,29.56,161.46,834.13,726.31,1210.6,918.92,726.84,2123.31,826.62,357.93,2557.98,235.55,300.98,403.1,540.65,68.9,185.39,58.26,37.31,240.68,711.37,85.92,174.01,1472.8,611.7,429.83,363.47,809.31,1374.58,78.14,566.95,1647.99,113.51,73.98,999.75,950.91,1479.26,126.19,298.06,203.22,518.75,127.31,200.66,888.05,2009.09,107.26,1606.99,882.83,58.47,77.31,246.38,176.47,33.38,721.98,338.42,372.48,350.38,311.4,101.11,58.89,36.91,90.6,2565.53,362.36,1445.94,327.5,822.24,240.92,570.52,1284.94,284.22,178.51,582.86,14.78,116.14,276.26,786.18,51.64,2665.34,2011.46,56.53,47.09,167.08,147.54,185.41,1791.0,1163.62,2204.08,1138.47,480.51,67.54,115.01,162.89,614.56,273.91,286.74,656.01,461.44,137.0,199.39,972.16,477.03,171.79,225.26,1641.43,179.06,415.93,203.68,344.06,1117.0,2420.46,185.55,401.04,184.62,43.52,349.59,191.33,2887.24,956.87,75.48,1297.03,540.54,135.08,131.75,366.6,1260.59,95.82,139.84,1309.89,672.66,39.89,105.06,370.07,797.4,294.35,671.37,125.92,1163.09,1661.19,305.65,1435.13,467.73,1440.76,609.29,97.61,229.5,159.24,1592.91,67.07,16.01,573.63,607.12,1788.33,1929.77,65.36,248.51,89.93,135.61,383.84,608.23,1061.97,1007.61,2282.77,68.22,408.84,1167.33,150.5,173.7,130.42,283.33,824.42,190.98,2135.16,356.71,546.19,674.07,1131.09,43.86,684.68,863.63,77.34,422.69,93.59,1624.17,319.57,237.35,348.65,93.37,165.48,618.89,1357.61,530.51,273.19,185.24,186.1,284.79,194.9,330.35,195.58,328.21,301.24,399.69,366.21,188.93,460.49,271.67,245.1,184.31,185.24,1109.43,1840.36,807.56,3703.9,123.13,92.04,209.77,240.77,1093.61,172.83,405.14,339.47,307.37,121.08,267.76,229.47,181.83,47.96,2713.92,334.73,578.21,599.77,117.75,850.61,213.51,207.03,39.71,363.37,116.9,98.71,49.26,22.58,263.78,91.22,123.12,242.77,130.66,137.12,272.38,323.36,38.41,322.34,556.59,61.11,1449.78,54.68,2086.12,346.13,489.95,57.14,1089.4,236.87,1127.47,690.1,170.41,164.16,140.0,53.73,156.9,137.07,694.53,387.57,96.01,60.35,32.53,600.98,173.63,124.41,929.96,332.51,155.8,146.79,563.9,227.92,184.83,156.66,211.05,1056.76,354.07,843.31,311.48,2159.35,201.66,382.2,421.14,677.39,588.96,149.78,91.78,114.55,593.92,53.6,60.68,81.42,210.04,909.0,139.19,135.44,254.22,1122.36,37.13,703.3,284.91,1755.21,88.1,293.19,244.89,988.52,939.84,184.71,1133.87,991.34,421.37,635.41,307.75,972.51,156.78,76.91,148.46,58.15,58.69,121.91,115.33,465.96,39.67,24.98,726.43,63.8,71.1,141.72,807.02,134.26,1301.8,445.59,532.34,133.75,53.91,265.88,621.66,91.47,195.52,1230.68,1361.43,838.59,411.75,1806.62,84.7,723.04,1062.35,153.24,1241.56,225.09,1304.31,68.62,154.36,983.64,2197.01,303.24,496.31,1047.48,554.88,571.39,154.86,481.7,1200.81,177.74,31.96,389.77,1256.88,52.72,203.44,101.78,449.7,95.22,39.58,202.45,89.57,2288.7,85.56,155.65,417.23,109.28,594.48,1608.16,583.69,1858.14,376.33,238.35,166.57,39.23,497.23,86.77,304.08,2236.67,198.37,681.58,1217.12,57.09,1024.86,284.82,233.67,244.74,1608.05,323.44,1264.31,34.5,1042.57,88.09,783.71,282.88,395.59,865.64,685.03,1022.26,179.66,433.36,317.62,686.73,397.58,170.73,705.47,624.1,107.75,127.57,1449.8,843.96,841.75,2559.53,297.33,426.2,213.44,286.4,611.99,698.09,253.65,110.65,136.68,357.58,246.39,187.34,42.49,240.58,1763.36,250.31,30.55,751.13,51.99,560.22,775.54,184.81,1813.67,74.6,94.19,140.43,1406.11,412.8,218.32,1947.37,2355.72,1271.29,1230.86,342.78,77.38,223.06,106.25,777.77,193.44,488.39,1410.09,1695.71,404.56,96.18,53.93,338.56,872.14,368.65,191.45,1180.09,498.96,121.87,1062.96,46.14,132.17,287.2,78.49,1023.19,1829.99,195.63,70.11,252.87,317.73,380.32,646.89,457.18],\"yaxis\":\"y\",\"type\":\"scatter\"}],                        {\"template\":{\"data\":{\"barpolar\":[{\"marker\":{\"line\":{\"color\":\"rgb(234,234,242)\",\"width\":0.5},\"pattern\":{\"fillmode\":\"overlay\",\"size\":10,\"solidity\":0.2}},\"type\":\"barpolar\"}],\"bar\":[{\"error_x\":{\"color\":\"rgb(36,36,36)\"},\"error_y\":{\"color\":\"rgb(36,36,36)\"},\"marker\":{\"line\":{\"color\":\"rgb(234,234,242)\",\"width\":0.5},\"pattern\":{\"fillmode\":\"overlay\",\"size\":10,\"solidity\":0.2}},\"type\":\"bar\"}],\"carpet\":[{\"aaxis\":{\"endlinecolor\":\"rgb(36,36,36)\",\"gridcolor\":\"white\",\"linecolor\":\"white\",\"minorgridcolor\":\"white\",\"startlinecolor\":\"rgb(36,36,36)\"},\"baxis\":{\"endlinecolor\":\"rgb(36,36,36)\",\"gridcolor\":\"white\",\"linecolor\":\"white\",\"minorgridcolor\":\"white\",\"startlinecolor\":\"rgb(36,36,36)\"},\"type\":\"carpet\"}],\"choropleth\":[{\"colorbar\":{\"outlinewidth\":0,\"tickcolor\":\"rgb(36,36,36)\",\"ticklen\":8,\"ticks\":\"outside\",\"tickwidth\":2},\"type\":\"choropleth\"}],\"contourcarpet\":[{\"colorbar\":{\"outlinewidth\":0,\"tickcolor\":\"rgb(36,36,36)\",\"ticklen\":8,\"ticks\":\"outside\",\"tickwidth\":2},\"type\":\"contourcarpet\"}],\"contour\":[{\"colorbar\":{\"outlinewidth\":0,\"tickcolor\":\"rgb(36,36,36)\",\"ticklen\":8,\"ticks\":\"outside\",\"tickwidth\":2},\"colorscale\":[[0.0,\"rgb(2,4,25)\"],[0.06274509803921569,\"rgb(24,15,41)\"],[0.12549019607843137,\"rgb(47,23,57)\"],[0.18823529411764706,\"rgb(71,28,72)\"],[0.25098039215686274,\"rgb(97,30,82)\"],[0.3137254901960784,\"rgb(123,30,89)\"],[0.3764705882352941,\"rgb(150,27,91)\"],[0.4392156862745098,\"rgb(177,22,88)\"],[0.5019607843137255,\"rgb(203,26,79)\"],[0.5647058823529412,\"rgb(223,47,67)\"],[0.6274509803921569,\"rgb(236,76,61)\"],[0.6901960784313725,\"rgb(242,107,73)\"],[0.7529411764705882,\"rgb(244,135,95)\"],[0.8156862745098039,\"rgb(245,162,122)\"],[0.8784313725490196,\"rgb(246,188,153)\"],[0.9411764705882353,\"rgb(247,212,187)\"],[1.0,\"rgb(250,234,220)\"]],\"type\":\"contour\"}],\"heatmapgl\":[{\"colorbar\":{\"outlinewidth\":0,\"tickcolor\":\"rgb(36,36,36)\",\"ticklen\":8,\"ticks\":\"outside\",\"tickwidth\":2},\"colorscale\":[[0.0,\"rgb(2,4,25)\"],[0.06274509803921569,\"rgb(24,15,41)\"],[0.12549019607843137,\"rgb(47,23,57)\"],[0.18823529411764706,\"rgb(71,28,72)\"],[0.25098039215686274,\"rgb(97,30,82)\"],[0.3137254901960784,\"rgb(123,30,89)\"],[0.3764705882352941,\"rgb(150,27,91)\"],[0.4392156862745098,\"rgb(177,22,88)\"],[0.5019607843137255,\"rgb(203,26,79)\"],[0.5647058823529412,\"rgb(223,47,67)\"],[0.6274509803921569,\"rgb(236,76,61)\"],[0.6901960784313725,\"rgb(242,107,73)\"],[0.7529411764705882,\"rgb(244,135,95)\"],[0.8156862745098039,\"rgb(245,162,122)\"],[0.8784313725490196,\"rgb(246,188,153)\"],[0.9411764705882353,\"rgb(247,212,187)\"],[1.0,\"rgb(250,234,220)\"]],\"type\":\"heatmapgl\"}],\"heatmap\":[{\"colorbar\":{\"outlinewidth\":0,\"tickcolor\":\"rgb(36,36,36)\",\"ticklen\":8,\"ticks\":\"outside\",\"tickwidth\":2},\"colorscale\":[[0.0,\"rgb(2,4,25)\"],[0.06274509803921569,\"rgb(24,15,41)\"],[0.12549019607843137,\"rgb(47,23,57)\"],[0.18823529411764706,\"rgb(71,28,72)\"],[0.25098039215686274,\"rgb(97,30,82)\"],[0.3137254901960784,\"rgb(123,30,89)\"],[0.3764705882352941,\"rgb(150,27,91)\"],[0.4392156862745098,\"rgb(177,22,88)\"],[0.5019607843137255,\"rgb(203,26,79)\"],[0.5647058823529412,\"rgb(223,47,67)\"],[0.6274509803921569,\"rgb(236,76,61)\"],[0.6901960784313725,\"rgb(242,107,73)\"],[0.7529411764705882,\"rgb(244,135,95)\"],[0.8156862745098039,\"rgb(245,162,122)\"],[0.8784313725490196,\"rgb(246,188,153)\"],[0.9411764705882353,\"rgb(247,212,187)\"],[1.0,\"rgb(250,234,220)\"]],\"type\":\"heatmap\"}],\"histogram2dcontour\":[{\"colorbar\":{\"outlinewidth\":0,\"tickcolor\":\"rgb(36,36,36)\",\"ticklen\":8,\"ticks\":\"outside\",\"tickwidth\":2},\"colorscale\":[[0.0,\"rgb(2,4,25)\"],[0.06274509803921569,\"rgb(24,15,41)\"],[0.12549019607843137,\"rgb(47,23,57)\"],[0.18823529411764706,\"rgb(71,28,72)\"],[0.25098039215686274,\"rgb(97,30,82)\"],[0.3137254901960784,\"rgb(123,30,89)\"],[0.3764705882352941,\"rgb(150,27,91)\"],[0.4392156862745098,\"rgb(177,22,88)\"],[0.5019607843137255,\"rgb(203,26,79)\"],[0.5647058823529412,\"rgb(223,47,67)\"],[0.6274509803921569,\"rgb(236,76,61)\"],[0.6901960784313725,\"rgb(242,107,73)\"],[0.7529411764705882,\"rgb(244,135,95)\"],[0.8156862745098039,\"rgb(245,162,122)\"],[0.8784313725490196,\"rgb(246,188,153)\"],[0.9411764705882353,\"rgb(247,212,187)\"],[1.0,\"rgb(250,234,220)\"]],\"type\":\"histogram2dcontour\"}],\"histogram2d\":[{\"colorbar\":{\"outlinewidth\":0,\"tickcolor\":\"rgb(36,36,36)\",\"ticklen\":8,\"ticks\":\"outside\",\"tickwidth\":2},\"colorscale\":[[0.0,\"rgb(2,4,25)\"],[0.06274509803921569,\"rgb(24,15,41)\"],[0.12549019607843137,\"rgb(47,23,57)\"],[0.18823529411764706,\"rgb(71,28,72)\"],[0.25098039215686274,\"rgb(97,30,82)\"],[0.3137254901960784,\"rgb(123,30,89)\"],[0.3764705882352941,\"rgb(150,27,91)\"],[0.4392156862745098,\"rgb(177,22,88)\"],[0.5019607843137255,\"rgb(203,26,79)\"],[0.5647058823529412,\"rgb(223,47,67)\"],[0.6274509803921569,\"rgb(236,76,61)\"],[0.6901960784313725,\"rgb(242,107,73)\"],[0.7529411764705882,\"rgb(244,135,95)\"],[0.8156862745098039,\"rgb(245,162,122)\"],[0.8784313725490196,\"rgb(246,188,153)\"],[0.9411764705882353,\"rgb(247,212,187)\"],[1.0,\"rgb(250,234,220)\"]],\"type\":\"histogram2d\"}],\"histogram\":[{\"marker\":{\"pattern\":{\"fillmode\":\"overlay\",\"size\":10,\"solidity\":0.2}},\"type\":\"histogram\"}],\"mesh3d\":[{\"colorbar\":{\"outlinewidth\":0,\"tickcolor\":\"rgb(36,36,36)\",\"ticklen\":8,\"ticks\":\"outside\",\"tickwidth\":2},\"type\":\"mesh3d\"}],\"parcoords\":[{\"line\":{\"colorbar\":{\"outlinewidth\":0,\"tickcolor\":\"rgb(36,36,36)\",\"ticklen\":8,\"ticks\":\"outside\",\"tickwidth\":2}},\"type\":\"parcoords\"}],\"pie\":[{\"automargin\":true,\"type\":\"pie\"}],\"scatter3d\":[{\"line\":{\"colorbar\":{\"outlinewidth\":0,\"tickcolor\":\"rgb(36,36,36)\",\"ticklen\":8,\"ticks\":\"outside\",\"tickwidth\":2}},\"marker\":{\"colorbar\":{\"outlinewidth\":0,\"tickcolor\":\"rgb(36,36,36)\",\"ticklen\":8,\"ticks\":\"outside\",\"tickwidth\":2}},\"type\":\"scatter3d\"}],\"scattercarpet\":[{\"marker\":{\"colorbar\":{\"outlinewidth\":0,\"tickcolor\":\"rgb(36,36,36)\",\"ticklen\":8,\"ticks\":\"outside\",\"tickwidth\":2}},\"type\":\"scattercarpet\"}],\"scattergeo\":[{\"marker\":{\"colorbar\":{\"outlinewidth\":0,\"tickcolor\":\"rgb(36,36,36)\",\"ticklen\":8,\"ticks\":\"outside\",\"tickwidth\":2}},\"type\":\"scattergeo\"}],\"scattergl\":[{\"marker\":{\"colorbar\":{\"outlinewidth\":0,\"tickcolor\":\"rgb(36,36,36)\",\"ticklen\":8,\"ticks\":\"outside\",\"tickwidth\":2}},\"type\":\"scattergl\"}],\"scattermapbox\":[{\"marker\":{\"colorbar\":{\"outlinewidth\":0,\"tickcolor\":\"rgb(36,36,36)\",\"ticklen\":8,\"ticks\":\"outside\",\"tickwidth\":2}},\"type\":\"scattermapbox\"}],\"scatterpolargl\":[{\"marker\":{\"colorbar\":{\"outlinewidth\":0,\"tickcolor\":\"rgb(36,36,36)\",\"ticklen\":8,\"ticks\":\"outside\",\"tickwidth\":2}},\"type\":\"scatterpolargl\"}],\"scatterpolar\":[{\"marker\":{\"colorbar\":{\"outlinewidth\":0,\"tickcolor\":\"rgb(36,36,36)\",\"ticklen\":8,\"ticks\":\"outside\",\"tickwidth\":2}},\"type\":\"scatterpolar\"}],\"scatter\":[{\"fillpattern\":{\"fillmode\":\"overlay\",\"size\":10,\"solidity\":0.2},\"type\":\"scatter\"}],\"scatterternary\":[{\"marker\":{\"colorbar\":{\"outlinewidth\":0,\"tickcolor\":\"rgb(36,36,36)\",\"ticklen\":8,\"ticks\":\"outside\",\"tickwidth\":2}},\"type\":\"scatterternary\"}],\"surface\":[{\"colorbar\":{\"outlinewidth\":0,\"tickcolor\":\"rgb(36,36,36)\",\"ticklen\":8,\"ticks\":\"outside\",\"tickwidth\":2},\"colorscale\":[[0.0,\"rgb(2,4,25)\"],[0.06274509803921569,\"rgb(24,15,41)\"],[0.12549019607843137,\"rgb(47,23,57)\"],[0.18823529411764706,\"rgb(71,28,72)\"],[0.25098039215686274,\"rgb(97,30,82)\"],[0.3137254901960784,\"rgb(123,30,89)\"],[0.3764705882352941,\"rgb(150,27,91)\"],[0.4392156862745098,\"rgb(177,22,88)\"],[0.5019607843137255,\"rgb(203,26,79)\"],[0.5647058823529412,\"rgb(223,47,67)\"],[0.6274509803921569,\"rgb(236,76,61)\"],[0.6901960784313725,\"rgb(242,107,73)\"],[0.7529411764705882,\"rgb(244,135,95)\"],[0.8156862745098039,\"rgb(245,162,122)\"],[0.8784313725490196,\"rgb(246,188,153)\"],[0.9411764705882353,\"rgb(247,212,187)\"],[1.0,\"rgb(250,234,220)\"]],\"type\":\"surface\"}],\"table\":[{\"cells\":{\"fill\":{\"color\":\"rgb(231,231,240)\"},\"line\":{\"color\":\"white\"}},\"header\":{\"fill\":{\"color\":\"rgb(183,183,191)\"},\"line\":{\"color\":\"white\"}},\"type\":\"table\"}]},\"layout\":{\"annotationdefaults\":{\"arrowcolor\":\"rgb(67,103,167)\"},\"autotypenumbers\":\"strict\",\"coloraxis\":{\"colorbar\":{\"outlinewidth\":0,\"tickcolor\":\"rgb(36,36,36)\",\"ticklen\":8,\"ticks\":\"outside\",\"tickwidth\":2}},\"colorscale\":{\"sequential\":[[0.0,\"rgb(2,4,25)\"],[0.06274509803921569,\"rgb(24,15,41)\"],[0.12549019607843137,\"rgb(47,23,57)\"],[0.18823529411764706,\"rgb(71,28,72)\"],[0.25098039215686274,\"rgb(97,30,82)\"],[0.3137254901960784,\"rgb(123,30,89)\"],[0.3764705882352941,\"rgb(150,27,91)\"],[0.4392156862745098,\"rgb(177,22,88)\"],[0.5019607843137255,\"rgb(203,26,79)\"],[0.5647058823529412,\"rgb(223,47,67)\"],[0.6274509803921569,\"rgb(236,76,61)\"],[0.6901960784313725,\"rgb(242,107,73)\"],[0.7529411764705882,\"rgb(244,135,95)\"],[0.8156862745098039,\"rgb(245,162,122)\"],[0.8784313725490196,\"rgb(246,188,153)\"],[0.9411764705882353,\"rgb(247,212,187)\"],[1.0,\"rgb(250,234,220)\"]],\"sequentialminus\":[[0.0,\"rgb(2,4,25)\"],[0.06274509803921569,\"rgb(24,15,41)\"],[0.12549019607843137,\"rgb(47,23,57)\"],[0.18823529411764706,\"rgb(71,28,72)\"],[0.25098039215686274,\"rgb(97,30,82)\"],[0.3137254901960784,\"rgb(123,30,89)\"],[0.3764705882352941,\"rgb(150,27,91)\"],[0.4392156862745098,\"rgb(177,22,88)\"],[0.5019607843137255,\"rgb(203,26,79)\"],[0.5647058823529412,\"rgb(223,47,67)\"],[0.6274509803921569,\"rgb(236,76,61)\"],[0.6901960784313725,\"rgb(242,107,73)\"],[0.7529411764705882,\"rgb(244,135,95)\"],[0.8156862745098039,\"rgb(245,162,122)\"],[0.8784313725490196,\"rgb(246,188,153)\"],[0.9411764705882353,\"rgb(247,212,187)\"],[1.0,\"rgb(250,234,220)\"]]},\"colorway\":[\"rgb(76,114,176)\",\"rgb(221,132,82)\",\"rgb(85,168,104)\",\"rgb(196,78,82)\",\"rgb(129,114,179)\",\"rgb(147,120,96)\",\"rgb(218,139,195)\",\"rgb(140,140,140)\",\"rgb(204,185,116)\",\"rgb(100,181,205)\"],\"font\":{\"color\":\"rgb(36,36,36)\"},\"geo\":{\"bgcolor\":\"white\",\"lakecolor\":\"white\",\"landcolor\":\"rgb(234,234,242)\",\"showlakes\":true,\"showland\":true,\"subunitcolor\":\"white\"},\"hoverlabel\":{\"align\":\"left\"},\"hovermode\":\"closest\",\"paper_bgcolor\":\"white\",\"plot_bgcolor\":\"rgb(234,234,242)\",\"polar\":{\"angularaxis\":{\"gridcolor\":\"white\",\"linecolor\":\"white\",\"showgrid\":true,\"ticks\":\"\"},\"bgcolor\":\"rgb(234,234,242)\",\"radialaxis\":{\"gridcolor\":\"white\",\"linecolor\":\"white\",\"showgrid\":true,\"ticks\":\"\"}},\"scene\":{\"xaxis\":{\"backgroundcolor\":\"rgb(234,234,242)\",\"gridcolor\":\"white\",\"gridwidth\":2,\"linecolor\":\"white\",\"showbackground\":true,\"showgrid\":true,\"ticks\":\"\",\"zerolinecolor\":\"white\"},\"yaxis\":{\"backgroundcolor\":\"rgb(234,234,242)\",\"gridcolor\":\"white\",\"gridwidth\":2,\"linecolor\":\"white\",\"showbackground\":true,\"showgrid\":true,\"ticks\":\"\",\"zerolinecolor\":\"white\"},\"zaxis\":{\"backgroundcolor\":\"rgb(234,234,242)\",\"gridcolor\":\"white\",\"gridwidth\":2,\"linecolor\":\"white\",\"showbackground\":true,\"showgrid\":true,\"ticks\":\"\",\"zerolinecolor\":\"white\"}},\"shapedefaults\":{\"fillcolor\":\"rgb(67,103,167)\",\"line\":{\"width\":0},\"opacity\":0.5},\"ternary\":{\"aaxis\":{\"gridcolor\":\"white\",\"linecolor\":\"white\",\"showgrid\":true,\"ticks\":\"\"},\"baxis\":{\"gridcolor\":\"white\",\"linecolor\":\"white\",\"showgrid\":true,\"ticks\":\"\"},\"bgcolor\":\"rgb(234,234,242)\",\"caxis\":{\"gridcolor\":\"white\",\"linecolor\":\"white\",\"showgrid\":true,\"ticks\":\"\"}},\"xaxis\":{\"automargin\":true,\"gridcolor\":\"white\",\"linecolor\":\"white\",\"showgrid\":true,\"ticks\":\"\",\"title\":{\"standoff\":15},\"zerolinecolor\":\"white\"},\"yaxis\":{\"automargin\":true,\"gridcolor\":\"white\",\"linecolor\":\"white\",\"showgrid\":true,\"ticks\":\"\",\"title\":{\"standoff\":15},\"zerolinecolor\":\"white\"}}},\"xaxis\":{\"anchor\":\"y\",\"domain\":[0.0,1.0],\"title\":{\"text\":\"Percentage of Positivity \"}},\"yaxis\":{\"anchor\":\"x\",\"domain\":[0.0,1.0],\"title\":{\"text\":\"Number Of Streams In Millions\"}},\"coloraxis\":{\"colorbar\":{\"title\":{\"text\":\"Number Of Streams In Millions\"}},\"colorscale\":[[0.0,\"rgb(2,4,25)\"],[0.0625,\"rgb(24,15,41)\"],[0.125,\"rgb(47,23,57)\"],[0.1875,\"rgb(71,28,72)\"],[0.25,\"rgb(97,30,82)\"],[0.3125,\"rgb(123,30,89)\"],[0.375,\"rgb(150,27,91)\"],[0.4375,\"rgb(177,22,88)\"],[0.5,\"rgb(203,26,79)\"],[0.5625,\"rgb(223,47,67)\"],[0.625,\"rgb(236,76,61)\"],[0.6875,\"rgb(242,107,73)\"],[0.75,\"rgb(244,135,95)\"],[0.8125,\"rgb(245,162,122)\"],[0.875,\"rgb(246,188,153)\"],[0.9375,\"rgb(247,212,187)\"],[1.0,\"rgb(250,234,220)\"]]},\"legend\":{\"tracegroupgap\":0},\"title\":{\"text\":\"The Percentage Of Positivity In the Songs and How That affect Number of Streams \"},\"height\":700,\"width\":1200},                        {\"responsive\": true}                    ).then(function(){\n",
       "                            \n",
       "var gd = document.getElementById('31ef36f6-e532-4298-bb15-ca1a9823b90d');\n",
       "var x = new MutationObserver(function (mutations, observer) {{\n",
       "        var display = window.getComputedStyle(gd).display;\n",
       "        if (!display || display === 'none') {{\n",
       "            console.log([gd, 'removed!']);\n",
       "            Plotly.purge(gd);\n",
       "            observer.disconnect();\n",
       "        }}\n",
       "}});\n",
       "\n",
       "// Listen for the removal of the full notebook cells\n",
       "var notebookContainer = gd.closest('#notebook-container');\n",
       "if (notebookContainer) {{\n",
       "    x.observe(notebookContainer, {childList: true});\n",
       "}}\n",
       "\n",
       "// Listen for the clearing of the current output cell\n",
       "var outputEl = gd.closest('.output');\n",
       "if (outputEl) {{\n",
       "    x.observe(outputEl, {childList: true});\n",
       "}}\n",
       "\n",
       "                        })                };                });            </script>        </div>"
      ]
     },
     "metadata": {},
     "output_type": "display_data"
    }
   ],
   "source": [
    "#Ploting Relation between positivity of the songs in number of streams \n",
    "valence_plt = px.scatter(valence,y= 'streams_in_millions', x = 'valence_%',template = 'seaborn',width = 1200, height = 700,\n",
    "                                 color = 'streams_in_millions',title = 'The Percentage Of Positivity In the Songs and How That affect Number of Streams ', labels = {\n",
    "                                 'valence_%': 'Percentage of Positivity ', 'streams_in_millions': 'Number Of Streams In Millions'})\n",
    "valence_plt"
   ]
  },
  {
   "cell_type": "markdown",
   "id": "1fa2afcf",
   "metadata": {
    "papermill": {
     "duration": 0.014235,
     "end_time": "2024-03-25T17:13:12.845009",
     "exception": false,
     "start_time": "2024-03-25T17:13:12.830774",
     "status": "completed"
    },
    "tags": []
   },
   "source": [
    "# <div style = 'background-color:green'> <center> The End </div>"
   ]
  },
  {
   "cell_type": "code",
   "execution_count": null,
   "id": "54c3613b",
   "metadata": {
    "papermill": {
     "duration": 0.014169,
     "end_time": "2024-03-25T17:13:12.876448",
     "exception": false,
     "start_time": "2024-03-25T17:13:12.862279",
     "status": "completed"
    },
    "tags": []
   },
   "outputs": [],
   "source": []
  }
 ],
 "metadata": {
  "kaggle": {
   "accelerator": "none",
   "dataSources": [
    {
     "datasetId": 3668746,
     "sourceId": 6367938,
     "sourceType": "datasetVersion"
    }
   ],
   "dockerImageVersionId": 30673,
   "isGpuEnabled": false,
   "isInternetEnabled": true,
   "language": "python",
   "sourceType": "notebook"
  },
  "kernelspec": {
   "display_name": "Python 3",
   "language": "python",
   "name": "python3"
  },
  "language_info": {
   "codemirror_mode": {
    "name": "ipython",
    "version": 3
   },
   "file_extension": ".py",
   "mimetype": "text/x-python",
   "name": "python",
   "nbconvert_exporter": "python",
   "pygments_lexer": "ipython3",
   "version": "3.10.13"
  },
  "papermill": {
   "default_parameters": {},
   "duration": 11.902283,
   "end_time": "2024-03-25T17:13:13.916645",
   "environment_variables": {},
   "exception": null,
   "input_path": "__notebook__.ipynb",
   "output_path": "__notebook__.ipynb",
   "parameters": {},
   "start_time": "2024-03-25T17:13:02.014362",
   "version": "2.5.0"
  }
 },
 "nbformat": 4,
 "nbformat_minor": 5
}
